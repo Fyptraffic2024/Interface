{
 "cells": [
  {
   "cell_type": "markdown",
   "metadata": {},
   "source": [
    "The code that is run by Maazi need some changing"
   ]
  },
  {
   "cell_type": "code",
   "execution_count": 1,
   "metadata": {},
   "outputs": [],
   "source": [
    "import os\n",
    "import cv2\n",
    "import json\n",
    "import time\n",
    "import gradio as gr\n",
    "import numpy as np\n",
    "from tqdm import tqdm\n",
    "from collections import defaultdict\n",
    "from ultralytics import YOLO\n",
    "from sort import *\n",
    "import pickle\n",
    "\n"
   ]
  },
  {
   "cell_type": "code",
   "execution_count": 2,
   "metadata": {},
   "outputs": [
    {
     "name": "stdout",
     "output_type": "stream",
     "text": [
      "* Running on local URL:  http://0.0.0.0:7860\n",
      "* Running on public URL: https://0e20dda29d21eff843.gradio.live\n",
      "\n",
      "This share link expires in 72 hours. For free permanent hosting and GPU upgrades, run `gradio deploy` from the terminal in the working directory to deploy to Hugging Face Spaces (https://huggingface.co/spaces)\n"
     ]
    },
    {
     "data": {
      "text/html": [
       "<div><iframe src=\"https://0e20dda29d21eff843.gradio.live\" width=\"100%\" height=\"500\" allow=\"autoplay; camera; microphone; clipboard-read; clipboard-write;\" frameborder=\"0\" allowfullscreen></iframe></div>"
      ],
      "text/plain": [
       "<IPython.core.display.HTML object>"
      ]
     },
     "metadata": {},
     "output_type": "display_data"
    },
    {
     "name": "stderr",
     "output_type": "stream",
     "text": [
      "Processing Frames:  29%|██▉       | 138/468 [00:05<00:13, 24.41it/s]"
     ]
    },
    {
     "name": "stdout",
     "output_type": "stream",
     "text": [
      "\n",
      "0: 384x640 11 persons, 8 cars, 5 motorcycles, 1 truck, 242.0ms\n",
      "Speed: 7.2ms preprocess, 242.0ms inference, 33.1ms postprocess per image at shape (1, 3, 384, 640)\n"
     ]
    },
    {
     "name": "stderr",
     "output_type": "stream",
     "text": [
      "Processing Frames:  46%|████▌     | 215/468 [00:09<00:09, 27.83it/s]"
     ]
    },
    {
     "name": "stdout",
     "output_type": "stream",
     "text": [
      "\n",
      "0: 384x640 7 persons, 9 cars, 3 motorcycles, 1 truck, 273.2ms\n",
      "Speed: 29.3ms preprocess, 273.2ms inference, 1.1ms postprocess per image at shape (1, 3, 384, 640)\n"
     ]
    },
    {
     "name": "stderr",
     "output_type": "stream",
     "text": [
      "Processing Frames:  47%|████▋     | 218/468 [00:10<00:16, 14.86it/s]"
     ]
    },
    {
     "name": "stdout",
     "output_type": "stream",
     "text": [
      "\n",
      "0: 384x640 10 persons, 10 cars, 5 motorcycles, 311.4ms\n",
      "Speed: 19.5ms preprocess, 311.4ms inference, 2.0ms postprocess per image at shape (1, 3, 384, 640)\n",
      "\n",
      "0: 384x640 6 persons, 11 cars, 3 motorcycles, 130.9ms\n",
      "Speed: 5.8ms preprocess, 130.9ms inference, 0.8ms postprocess per image at shape (1, 3, 384, 640)\n",
      "\n",
      "0: 384x640 6 persons, 7 cars, 3 motorcycles, 79.3ms\n",
      "Speed: 9.0ms preprocess, 79.3ms inference, 3.6ms postprocess per image at shape (1, 3, 384, 640)\n"
     ]
    },
    {
     "name": "stderr",
     "output_type": "stream",
     "text": [
      "Processing Frames:  47%|████▋     | 221/468 [00:11<00:28,  8.66it/s]"
     ]
    },
    {
     "name": "stdout",
     "output_type": "stream",
     "text": [
      "\n",
      "0: 384x640 10 persons, 9 cars, 3 motorcycles, 156.5ms\n",
      "Speed: 6.5ms preprocess, 156.5ms inference, 2.3ms postprocess per image at shape (1, 3, 384, 640)\n",
      "\n",
      "0: 384x640 13 persons, 7 cars, 3 motorcycles, 1 truck, 163.2ms\n",
      "Speed: 29.1ms preprocess, 163.2ms inference, 0.8ms postprocess per image at shape (1, 3, 384, 640)\n"
     ]
    },
    {
     "name": "stderr",
     "output_type": "stream",
     "text": [
      "Processing Frames:  48%|████▊     | 223/468 [00:11<00:33,  7.22it/s]"
     ]
    },
    {
     "name": "stdout",
     "output_type": "stream",
     "text": [
      "\n",
      "0: 384x640 8 persons, 9 cars, 2 motorcycles, 1 truck, 1 traffic light, 185.0ms\n",
      "Speed: 24.9ms preprocess, 185.0ms inference, 1.1ms postprocess per image at shape (1, 3, 384, 640)\n",
      "\n",
      "0: 384x640 9 persons, 7 cars, 2 motorcycles, 2 trucks, 1 traffic light, 115.8ms\n",
      "Speed: 11.5ms preprocess, 115.8ms inference, 0.9ms postprocess per image at shape (1, 3, 384, 640)\n"
     ]
    },
    {
     "name": "stderr",
     "output_type": "stream",
     "text": [
      "Processing Frames:  48%|████▊     | 225/468 [00:11<00:38,  6.37it/s]"
     ]
    },
    {
     "name": "stdout",
     "output_type": "stream",
     "text": [
      "\n",
      "0: 384x640 10 persons, 7 cars, 5 motorcycles, 2 trucks, 1 traffic light, 135.1ms\n",
      "Speed: 7.9ms preprocess, 135.1ms inference, 8.3ms postprocess per image at shape (1, 3, 384, 640)\n",
      "\n",
      "0: 384x640 9 persons, 7 cars, 4 motorcycles, 1 truck, 1 traffic light, 252.3ms\n",
      "Speed: 18.9ms preprocess, 252.3ms inference, 3.4ms postprocess per image at shape (1, 3, 384, 640)\n"
     ]
    },
    {
     "name": "stderr",
     "output_type": "stream",
     "text": [
      "Processing Frames:  49%|████▊     | 227/468 [00:12<00:43,  5.50it/s]"
     ]
    },
    {
     "name": "stdout",
     "output_type": "stream",
     "text": [
      "\n",
      "0: 384x640 11 persons, 6 cars, 3 motorcycles, 1 truck, 1 traffic light, 156.2ms\n",
      "Speed: 12.5ms preprocess, 156.2ms inference, 1.6ms postprocess per image at shape (1, 3, 384, 640)\n"
     ]
    },
    {
     "name": "stderr",
     "output_type": "stream",
     "text": [
      "Processing Frames:  49%|████▊     | 228/468 [00:12<00:44,  5.37it/s]"
     ]
    },
    {
     "name": "stdout",
     "output_type": "stream",
     "text": [
      "\n",
      "0: 384x640 10 persons, 7 cars, 2 motorcycles, 1 truck, 1 traffic light, 108.4ms\n",
      "Speed: 5.6ms preprocess, 108.4ms inference, 2.2ms postprocess per image at shape (1, 3, 384, 640)\n"
     ]
    },
    {
     "name": "stderr",
     "output_type": "stream",
     "text": [
      "Processing Frames:  49%|████▉     | 229/468 [00:12<00:43,  5.48it/s]"
     ]
    },
    {
     "name": "stdout",
     "output_type": "stream",
     "text": [
      "\n",
      "0: 384x640 9 persons, 7 cars, 2 motorcycles, 131.5ms\n",
      "Speed: 2.7ms preprocess, 131.5ms inference, 2.4ms postprocess per image at shape (1, 3, 384, 640)\n"
     ]
    },
    {
     "name": "stderr",
     "output_type": "stream",
     "text": [
      "Processing Frames:  49%|████▉     | 230/468 [00:13<00:44,  5.40it/s]"
     ]
    },
    {
     "name": "stdout",
     "output_type": "stream",
     "text": [
      "\n",
      "0: 384x640 8 persons, 8 cars, 2 motorcycles, 100.6ms\n",
      "Speed: 7.6ms preprocess, 100.6ms inference, 1.1ms postprocess per image at shape (1, 3, 384, 640)\n"
     ]
    },
    {
     "name": "stderr",
     "output_type": "stream",
     "text": [
      "Processing Frames:  49%|████▉     | 231/468 [00:13<00:42,  5.62it/s]"
     ]
    },
    {
     "name": "stdout",
     "output_type": "stream",
     "text": [
      "\n",
      "0: 384x640 11 persons, 7 cars, 1 motorcycle, 93.4ms\n",
      "Speed: 12.0ms preprocess, 93.4ms inference, 1.1ms postprocess per image at shape (1, 3, 384, 640)\n"
     ]
    },
    {
     "name": "stderr",
     "output_type": "stream",
     "text": [
      "Processing Frames:  50%|████▉     | 232/468 [00:13<00:40,  5.84it/s]"
     ]
    },
    {
     "name": "stdout",
     "output_type": "stream",
     "text": [
      "\n",
      "0: 384x640 11 persons, 6 cars, 1 motorcycle, 976.2ms\n",
      "Speed: 4.7ms preprocess, 976.2ms inference, 6.4ms postprocess per image at shape (1, 3, 384, 640)\n"
     ]
    },
    {
     "name": "stderr",
     "output_type": "stream",
     "text": [
      "Processing Frames:  50%|████▉     | 233/468 [00:14<01:32,  2.53it/s]"
     ]
    },
    {
     "name": "stdout",
     "output_type": "stream",
     "text": [
      "\n",
      "0: 384x640 9 persons, 6 cars, 3 motorcycles, 250.5ms\n",
      "Speed: 21.7ms preprocess, 250.5ms inference, 2.5ms postprocess per image at shape (1, 3, 384, 640)\n"
     ]
    },
    {
     "name": "stderr",
     "output_type": "stream",
     "text": [
      "Processing Frames:  50%|█████     | 234/468 [00:14<01:29,  2.63it/s]"
     ]
    },
    {
     "name": "stdout",
     "output_type": "stream",
     "text": [
      "\n",
      "0: 384x640 14 persons, 6 cars, 2 motorcycles, 195.7ms\n",
      "Speed: 10.0ms preprocess, 195.7ms inference, 0.8ms postprocess per image at shape (1, 3, 384, 640)\n"
     ]
    },
    {
     "name": "stderr",
     "output_type": "stream",
     "text": [
      "Processing Frames:  50%|█████     | 235/468 [00:14<01:20,  2.90it/s]"
     ]
    },
    {
     "name": "stdout",
     "output_type": "stream",
     "text": [
      "\n",
      "0: 384x640 10 persons, 6 cars, 1 motorcycle, 131.0ms\n",
      "Speed: 8.0ms preprocess, 131.0ms inference, 0.7ms postprocess per image at shape (1, 3, 384, 640)\n"
     ]
    },
    {
     "name": "stderr",
     "output_type": "stream",
     "text": [
      "Processing Frames:  50%|█████     | 236/468 [00:15<01:09,  3.35it/s]"
     ]
    },
    {
     "name": "stdout",
     "output_type": "stream",
     "text": [
      "\n",
      "0: 384x640 9 persons, 6 cars, 1 motorcycle, 184.1ms\n",
      "Speed: 16.8ms preprocess, 184.1ms inference, 1.1ms postprocess per image at shape (1, 3, 384, 640)\n"
     ]
    },
    {
     "name": "stderr",
     "output_type": "stream",
     "text": [
      "Processing Frames:  51%|█████     | 237/468 [00:15<01:05,  3.55it/s]"
     ]
    },
    {
     "name": "stdout",
     "output_type": "stream",
     "text": [
      "\n",
      "0: 384x640 9 persons, 6 cars, 1 motorcycle, 247.8ms\n",
      "Speed: 8.0ms preprocess, 247.8ms inference, 1.0ms postprocess per image at shape (1, 3, 384, 640)\n"
     ]
    },
    {
     "name": "stderr",
     "output_type": "stream",
     "text": [
      "Processing Frames:  51%|█████     | 238/468 [00:15<01:05,  3.50it/s]"
     ]
    },
    {
     "name": "stdout",
     "output_type": "stream",
     "text": [
      "\n",
      "0: 384x640 9 persons, 1 bicycle, 5 cars, 2 motorcycles, 134.6ms\n",
      "Speed: 10.9ms preprocess, 134.6ms inference, 2.2ms postprocess per image at shape (1, 3, 384, 640)\n"
     ]
    },
    {
     "name": "stderr",
     "output_type": "stream",
     "text": [
      "Processing Frames:  51%|█████     | 239/468 [00:15<00:59,  3.82it/s]"
     ]
    },
    {
     "name": "stdout",
     "output_type": "stream",
     "text": [
      "\n",
      "0: 384x640 9 persons, 5 cars, 2 motorcycles, 212.5ms\n",
      "Speed: 18.4ms preprocess, 212.5ms inference, 0.7ms postprocess per image at shape (1, 3, 384, 640)\n"
     ]
    },
    {
     "name": "stderr",
     "output_type": "stream",
     "text": [
      "Processing Frames:  51%|█████▏    | 240/468 [00:16<01:01,  3.70it/s]"
     ]
    },
    {
     "name": "stdout",
     "output_type": "stream",
     "text": [
      "\n",
      "0: 384x640 9 persons, 5 cars, 3 motorcycles, 191.1ms\n",
      "Speed: 4.7ms preprocess, 191.1ms inference, 1.0ms postprocess per image at shape (1, 3, 384, 640)\n"
     ]
    },
    {
     "name": "stderr",
     "output_type": "stream",
     "text": [
      "Processing Frames:  51%|█████▏    | 241/468 [00:16<01:00,  3.78it/s]"
     ]
    },
    {
     "name": "stdout",
     "output_type": "stream",
     "text": [
      "\n",
      "0: 384x640 10 persons, 4 cars, 2 motorcycles, 1 umbrella, 160.2ms\n",
      "Speed: 3.7ms preprocess, 160.2ms inference, 2.1ms postprocess per image at shape (1, 3, 384, 640)\n"
     ]
    },
    {
     "name": "stderr",
     "output_type": "stream",
     "text": [
      "Processing Frames:  52%|█████▏    | 242/468 [00:16<00:55,  4.05it/s]"
     ]
    },
    {
     "name": "stdout",
     "output_type": "stream",
     "text": [
      "\n",
      "0: 384x640 9 persons, 5 cars, 1 motorcycle, 1 traffic light, 146.7ms\n",
      "Speed: 4.0ms preprocess, 146.7ms inference, 1.5ms postprocess per image at shape (1, 3, 384, 640)\n"
     ]
    },
    {
     "name": "stderr",
     "output_type": "stream",
     "text": [
      "Processing Frames:  52%|█████▏    | 243/468 [00:16<00:52,  4.27it/s]"
     ]
    },
    {
     "name": "stdout",
     "output_type": "stream",
     "text": [
      "\n",
      "0: 384x640 10 persons, 6 cars, 2 motorcycles, 1 traffic light, 213.0ms\n",
      "Speed: 16.0ms preprocess, 213.0ms inference, 2.2ms postprocess per image at shape (1, 3, 384, 640)\n"
     ]
    },
    {
     "name": "stderr",
     "output_type": "stream",
     "text": [
      "Processing Frames:  52%|█████▏    | 244/468 [00:17<00:55,  4.02it/s]"
     ]
    },
    {
     "name": "stdout",
     "output_type": "stream",
     "text": [
      "\n",
      "0: 384x640 9 persons, 7 cars, 1 motorcycle, 1 traffic light, 289.7ms\n",
      "Speed: 10.6ms preprocess, 289.7ms inference, 0.9ms postprocess per image at shape (1, 3, 384, 640)\n"
     ]
    },
    {
     "name": "stderr",
     "output_type": "stream",
     "text": [
      "Processing Frames:  52%|█████▏    | 245/468 [00:17<01:01,  3.60it/s]"
     ]
    },
    {
     "name": "stdout",
     "output_type": "stream",
     "text": [
      "\n",
      "0: 384x640 8 persons, 5 cars, 1 motorcycle, 1 traffic light, 152.8ms\n",
      "Speed: 6.0ms preprocess, 152.8ms inference, 5.4ms postprocess per image at shape (1, 3, 384, 640)\n"
     ]
    },
    {
     "name": "stderr",
     "output_type": "stream",
     "text": [
      "Processing Frames:  53%|█████▎    | 246/468 [00:17<00:57,  3.88it/s]"
     ]
    },
    {
     "name": "stdout",
     "output_type": "stream",
     "text": [
      "\n",
      "0: 384x640 8 persons, 5 cars, 1 motorcycle, 1 traffic light, 185.3ms\n",
      "Speed: 22.2ms preprocess, 185.3ms inference, 1.0ms postprocess per image at shape (1, 3, 384, 640)\n"
     ]
    },
    {
     "name": "stderr",
     "output_type": "stream",
     "text": [
      "Processing Frames:  53%|█████▎    | 247/468 [00:17<00:56,  3.90it/s]"
     ]
    },
    {
     "name": "stdout",
     "output_type": "stream",
     "text": [
      "\n",
      "0: 384x640 9 persons, 6 cars, 1 motorcycle, 1 traffic light, 156.4ms\n",
      "Speed: 11.1ms preprocess, 156.4ms inference, 0.8ms postprocess per image at shape (1, 3, 384, 640)\n"
     ]
    },
    {
     "name": "stderr",
     "output_type": "stream",
     "text": [
      "Processing Frames:  53%|█████▎    | 248/468 [00:18<00:53,  4.08it/s]"
     ]
    },
    {
     "name": "stdout",
     "output_type": "stream",
     "text": [
      "\n",
      "0: 384x640 8 persons, 6 cars, 1 traffic light, 80.3ms\n",
      "Speed: 5.6ms preprocess, 80.3ms inference, 2.2ms postprocess per image at shape (1, 3, 384, 640)\n"
     ]
    },
    {
     "name": "stderr",
     "output_type": "stream",
     "text": [
      "Processing Frames:  53%|█████▎    | 249/468 [00:18<00:45,  4.80it/s]"
     ]
    },
    {
     "name": "stdout",
     "output_type": "stream",
     "text": [
      "\n",
      "0: 384x640 9 persons, 1 bicycle, 7 cars, 1 traffic light, 87.7ms\n",
      "Speed: 3.5ms preprocess, 87.7ms inference, 1.1ms postprocess per image at shape (1, 3, 384, 640)\n"
     ]
    },
    {
     "name": "stderr",
     "output_type": "stream",
     "text": [
      "Processing Frames:  53%|█████▎    | 250/468 [00:18<00:40,  5.38it/s]"
     ]
    },
    {
     "name": "stdout",
     "output_type": "stream",
     "text": [
      "\n",
      "0: 384x640 11 persons, 9 cars, 1 traffic light, 156.5ms\n",
      "Speed: 17.8ms preprocess, 156.5ms inference, 3.7ms postprocess per image at shape (1, 3, 384, 640)\n"
     ]
    },
    {
     "name": "stderr",
     "output_type": "stream",
     "text": [
      "Processing Frames:  54%|█████▎    | 251/468 [00:18<00:42,  5.05it/s]"
     ]
    },
    {
     "name": "stdout",
     "output_type": "stream",
     "text": [
      "\n",
      "0: 384x640 10 persons, 9 cars, 134.5ms\n",
      "Speed: 4.5ms preprocess, 134.5ms inference, 1.1ms postprocess per image at shape (1, 3, 384, 640)\n"
     ]
    },
    {
     "name": "stderr",
     "output_type": "stream",
     "text": [
      "Processing Frames:  54%|█████▍    | 252/468 [00:18<00:41,  5.18it/s]"
     ]
    },
    {
     "name": "stdout",
     "output_type": "stream",
     "text": [
      "\n",
      "0: 384x640 8 persons, 9 cars, 1 truck, 80.7ms\n",
      "Speed: 4.5ms preprocess, 80.7ms inference, 2.0ms postprocess per image at shape (1, 3, 384, 640)\n"
     ]
    },
    {
     "name": "stderr",
     "output_type": "stream",
     "text": [
      "Processing Frames:  54%|█████▍    | 253/468 [00:18<00:37,  5.71it/s]"
     ]
    },
    {
     "name": "stdout",
     "output_type": "stream",
     "text": [
      "\n",
      "0: 384x640 8 persons, 9 cars, 1 motorcycle, 99.7ms\n",
      "Speed: 3.8ms preprocess, 99.7ms inference, 1.1ms postprocess per image at shape (1, 3, 384, 640)\n"
     ]
    },
    {
     "name": "stderr",
     "output_type": "stream",
     "text": [
      "Processing Frames:  54%|█████▍    | 254/468 [00:19<00:35,  6.02it/s]"
     ]
    },
    {
     "name": "stdout",
     "output_type": "stream",
     "text": [
      "\n",
      "0: 384x640 7 persons, 8 cars, 2 motorcycles, 115.7ms\n",
      "Speed: 2.9ms preprocess, 115.7ms inference, 3.5ms postprocess per image at shape (1, 3, 384, 640)\n"
     ]
    },
    {
     "name": "stderr",
     "output_type": "stream",
     "text": [
      "Processing Frames:  54%|█████▍    | 255/468 [00:19<00:35,  5.98it/s]"
     ]
    },
    {
     "name": "stdout",
     "output_type": "stream",
     "text": [
      "\n",
      "0: 384x640 7 persons, 9 cars, 1 truck, 282.0ms\n",
      "Speed: 17.2ms preprocess, 282.0ms inference, 0.9ms postprocess per image at shape (1, 3, 384, 640)\n"
     ]
    },
    {
     "name": "stderr",
     "output_type": "stream",
     "text": [
      "Processing Frames:  55%|█████▍    | 256/468 [00:19<00:47,  4.47it/s]"
     ]
    },
    {
     "name": "stdout",
     "output_type": "stream",
     "text": [
      "\n",
      "0: 384x640 8 persons, 8 cars, 1 motorcycle, 1 truck, 140.3ms\n",
      "Speed: 8.0ms preprocess, 140.3ms inference, 5.7ms postprocess per image at shape (1, 3, 384, 640)\n"
     ]
    },
    {
     "name": "stderr",
     "output_type": "stream",
     "text": [
      "Processing Frames:  55%|█████▍    | 257/468 [00:19<00:45,  4.65it/s]"
     ]
    },
    {
     "name": "stdout",
     "output_type": "stream",
     "text": [
      "\n",
      "0: 384x640 8 persons, 9 cars, 1 motorcycle, 1 truck, 126.3ms\n",
      "Speed: 9.9ms preprocess, 126.3ms inference, 1.7ms postprocess per image at shape (1, 3, 384, 640)\n"
     ]
    },
    {
     "name": "stderr",
     "output_type": "stream",
     "text": [
      "Processing Frames:  55%|█████▌    | 258/468 [00:19<00:42,  4.91it/s]"
     ]
    },
    {
     "name": "stdout",
     "output_type": "stream",
     "text": [
      "\n",
      "0: 384x640 10 persons, 10 cars, 1 motorcycle, 1 truck, 127.3ms\n",
      "Speed: 16.7ms preprocess, 127.3ms inference, 1.2ms postprocess per image at shape (1, 3, 384, 640)\n"
     ]
    },
    {
     "name": "stderr",
     "output_type": "stream",
     "text": [
      "Processing Frames:  55%|█████▌    | 259/468 [00:20<00:41,  5.01it/s]"
     ]
    },
    {
     "name": "stdout",
     "output_type": "stream",
     "text": [
      "\n",
      "0: 384x640 7 persons, 9 cars, 1 motorcycle, 2 trucks, 125.2ms\n",
      "Speed: 5.2ms preprocess, 125.2ms inference, 0.7ms postprocess per image at shape (1, 3, 384, 640)\n"
     ]
    },
    {
     "name": "stderr",
     "output_type": "stream",
     "text": [
      "Processing Frames:  56%|█████▌    | 260/468 [00:20<00:39,  5.27it/s]"
     ]
    },
    {
     "name": "stdout",
     "output_type": "stream",
     "text": [
      "\n",
      "0: 384x640 8 persons, 11 cars, 1 motorcycle, 2 trucks, 191.9ms\n",
      "Speed: 6.6ms preprocess, 191.9ms inference, 1.7ms postprocess per image at shape (1, 3, 384, 640)\n"
     ]
    },
    {
     "name": "stderr",
     "output_type": "stream",
     "text": [
      "Processing Frames:  56%|█████▌    | 261/468 [00:20<00:42,  4.85it/s]"
     ]
    },
    {
     "name": "stdout",
     "output_type": "stream",
     "text": [
      "\n",
      "0: 384x640 9 persons, 10 cars, 1 motorcycle, 2 trucks, 84.3ms\n",
      "Speed: 2.7ms preprocess, 84.3ms inference, 1.0ms postprocess per image at shape (1, 3, 384, 640)\n"
     ]
    },
    {
     "name": "stderr",
     "output_type": "stream",
     "text": [
      "Processing Frames:  56%|█████▌    | 262/468 [00:20<00:38,  5.37it/s]"
     ]
    },
    {
     "name": "stdout",
     "output_type": "stream",
     "text": [
      "\n",
      "0: 384x640 8 persons, 11 cars, 2 motorcycles, 2 trucks, 228.8ms\n",
      "Speed: 6.1ms preprocess, 228.8ms inference, 2.9ms postprocess per image at shape (1, 3, 384, 640)\n"
     ]
    },
    {
     "name": "stderr",
     "output_type": "stream",
     "text": [
      "Processing Frames:  56%|█████▌    | 263/468 [00:21<00:44,  4.60it/s]"
     ]
    },
    {
     "name": "stdout",
     "output_type": "stream",
     "text": [
      "\n",
      "0: 384x640 7 persons, 11 cars, 1 motorcycle, 2 trucks, 144.4ms\n",
      "Speed: 11.6ms preprocess, 144.4ms inference, 1.1ms postprocess per image at shape (1, 3, 384, 640)\n"
     ]
    },
    {
     "name": "stderr",
     "output_type": "stream",
     "text": [
      "Processing Frames:  56%|█████▋    | 264/468 [00:21<00:43,  4.70it/s]"
     ]
    },
    {
     "name": "stdout",
     "output_type": "stream",
     "text": [
      "\n",
      "0: 384x640 7 persons, 11 cars, 2 motorcycles, 2 trucks, 93.9ms\n",
      "Speed: 5.3ms preprocess, 93.9ms inference, 2.5ms postprocess per image at shape (1, 3, 384, 640)\n"
     ]
    },
    {
     "name": "stderr",
     "output_type": "stream",
     "text": [
      "Processing Frames:  57%|█████▋    | 265/468 [00:21<00:38,  5.24it/s]"
     ]
    },
    {
     "name": "stdout",
     "output_type": "stream",
     "text": [
      "\n",
      "0: 384x640 7 persons, 9 cars, 2 motorcycles, 1 truck, 125.1ms\n",
      "Speed: 11.4ms preprocess, 125.1ms inference, 6.1ms postprocess per image at shape (1, 3, 384, 640)\n"
     ]
    },
    {
     "name": "stderr",
     "output_type": "stream",
     "text": [
      "Processing Frames:  57%|█████▋    | 266/468 [00:21<00:38,  5.19it/s]"
     ]
    },
    {
     "name": "stdout",
     "output_type": "stream",
     "text": [
      "\n",
      "0: 384x640 7 persons, 8 cars, 1 truck, 1 traffic light, 167.8ms\n",
      "Speed: 21.2ms preprocess, 167.8ms inference, 1.0ms postprocess per image at shape (1, 3, 384, 640)\n"
     ]
    },
    {
     "name": "stderr",
     "output_type": "stream",
     "text": [
      "Processing Frames:  57%|█████▋    | 267/468 [00:21<00:41,  4.82it/s]"
     ]
    },
    {
     "name": "stdout",
     "output_type": "stream",
     "text": [
      "\n",
      "0: 384x640 9 persons, 9 cars, 2 motorcycles, 2 trucks, 123.3ms\n",
      "Speed: 8.3ms preprocess, 123.3ms inference, 0.9ms postprocess per image at shape (1, 3, 384, 640)\n"
     ]
    },
    {
     "name": "stderr",
     "output_type": "stream",
     "text": [
      "Processing Frames:  57%|█████▋    | 268/468 [00:21<00:39,  5.10it/s]"
     ]
    },
    {
     "name": "stdout",
     "output_type": "stream",
     "text": [
      "\n",
      "0: 384x640 8 persons, 8 cars, 2 trucks, 96.5ms\n",
      "Speed: 6.9ms preprocess, 96.5ms inference, 1.1ms postprocess per image at shape (1, 3, 384, 640)\n"
     ]
    },
    {
     "name": "stderr",
     "output_type": "stream",
     "text": [
      "Processing Frames:  57%|█████▋    | 269/468 [00:22<00:36,  5.43it/s]"
     ]
    },
    {
     "name": "stdout",
     "output_type": "stream",
     "text": [
      "\n",
      "0: 384x640 8 persons, 8 cars, 2 motorcycles, 2 trucks, 167.2ms\n",
      "Speed: 7.0ms preprocess, 167.2ms inference, 3.1ms postprocess per image at shape (1, 3, 384, 640)\n"
     ]
    },
    {
     "name": "stderr",
     "output_type": "stream",
     "text": [
      "Processing Frames:  58%|█████▊    | 270/468 [00:22<00:38,  5.12it/s]"
     ]
    },
    {
     "name": "stdout",
     "output_type": "stream",
     "text": [
      "\n",
      "0: 384x640 6 persons, 8 cars, 2 motorcycles, 1 truck, 1 traffic light, 201.5ms\n",
      "Speed: 16.8ms preprocess, 201.5ms inference, 1.2ms postprocess per image at shape (1, 3, 384, 640)\n"
     ]
    },
    {
     "name": "stderr",
     "output_type": "stream",
     "text": [
      "Processing Frames:  58%|█████▊    | 271/468 [00:22<00:41,  4.71it/s]"
     ]
    },
    {
     "name": "stdout",
     "output_type": "stream",
     "text": [
      "\n",
      "0: 384x640 7 persons, 8 cars, 1 motorcycle, 1 truck, 103.6ms\n",
      "Speed: 9.1ms preprocess, 103.6ms inference, 1.5ms postprocess per image at shape (1, 3, 384, 640)\n"
     ]
    },
    {
     "name": "stderr",
     "output_type": "stream",
     "text": [
      "Processing Frames:  58%|█████▊    | 272/468 [00:22<00:38,  5.07it/s]"
     ]
    },
    {
     "name": "stdout",
     "output_type": "stream",
     "text": [
      "\n",
      "0: 384x640 7 persons, 5 cars, 3 motorcycles, 1 truck, 109.1ms\n",
      "Speed: 4.6ms preprocess, 109.1ms inference, 1.4ms postprocess per image at shape (1, 3, 384, 640)\n"
     ]
    },
    {
     "name": "stderr",
     "output_type": "stream",
     "text": [
      "Processing Frames:  58%|█████▊    | 273/468 [00:22<00:35,  5.42it/s]"
     ]
    },
    {
     "name": "stdout",
     "output_type": "stream",
     "text": [
      "\n",
      "0: 384x640 6 persons, 7 cars, 2 motorcycles, 1 truck, 121.8ms\n",
      "Speed: 5.7ms preprocess, 121.8ms inference, 1.1ms postprocess per image at shape (1, 3, 384, 640)\n"
     ]
    },
    {
     "name": "stderr",
     "output_type": "stream",
     "text": [
      "Processing Frames:  59%|█████▊    | 274/468 [00:23<00:34,  5.55it/s]"
     ]
    },
    {
     "name": "stdout",
     "output_type": "stream",
     "text": [
      "\n",
      "0: 384x640 7 persons, 7 cars, 2 motorcycles, 2 trucks, 159.0ms\n",
      "Speed: 18.5ms preprocess, 159.0ms inference, 0.9ms postprocess per image at shape (1, 3, 384, 640)\n"
     ]
    },
    {
     "name": "stderr",
     "output_type": "stream",
     "text": [
      "Processing Frames:  59%|█████▉    | 275/468 [00:23<00:36,  5.22it/s]"
     ]
    },
    {
     "name": "stdout",
     "output_type": "stream",
     "text": [
      "\n",
      "0: 384x640 5 persons, 9 cars, 1 motorcycle, 1 truck, 120.5ms\n",
      "Speed: 2.6ms preprocess, 120.5ms inference, 5.3ms postprocess per image at shape (1, 3, 384, 640)\n"
     ]
    },
    {
     "name": "stderr",
     "output_type": "stream",
     "text": [
      "Processing Frames:  59%|█████▉    | 276/468 [00:23<00:35,  5.43it/s]"
     ]
    },
    {
     "name": "stdout",
     "output_type": "stream",
     "text": [
      "\n",
      "0: 384x640 6 persons, 7 cars, 1 truck, 146.2ms\n",
      "Speed: 20.7ms preprocess, 146.2ms inference, 1.1ms postprocess per image at shape (1, 3, 384, 640)\n"
     ]
    },
    {
     "name": "stderr",
     "output_type": "stream",
     "text": [
      "Processing Frames:  59%|█████▉    | 277/468 [00:23<00:37,  5.16it/s]"
     ]
    },
    {
     "name": "stdout",
     "output_type": "stream",
     "text": [
      "\n",
      "0: 384x640 7 persons, 7 cars, 1 truck, 129.2ms\n",
      "Speed: 4.8ms preprocess, 129.2ms inference, 1.1ms postprocess per image at shape (1, 3, 384, 640)\n"
     ]
    },
    {
     "name": "stderr",
     "output_type": "stream",
     "text": [
      "Processing Frames:  59%|█████▉    | 278/468 [00:23<00:35,  5.31it/s]"
     ]
    },
    {
     "name": "stdout",
     "output_type": "stream",
     "text": [
      "\n",
      "0: 384x640 8 persons, 7 cars, 1 truck, 251.8ms\n",
      "Speed: 16.1ms preprocess, 251.8ms inference, 1.0ms postprocess per image at shape (1, 3, 384, 640)\n"
     ]
    },
    {
     "name": "stderr",
     "output_type": "stream",
     "text": [
      "Processing Frames:  60%|█████▉    | 279/468 [00:24<00:42,  4.40it/s]"
     ]
    },
    {
     "name": "stdout",
     "output_type": "stream",
     "text": [
      "\n",
      "0: 384x640 6 persons, 7 cars, 1 truck, 130.8ms\n",
      "Speed: 5.9ms preprocess, 130.8ms inference, 1.4ms postprocess per image at shape (1, 3, 384, 640)\n"
     ]
    },
    {
     "name": "stderr",
     "output_type": "stream",
     "text": [
      "Processing Frames:  60%|█████▉    | 280/468 [00:24<00:39,  4.71it/s]"
     ]
    },
    {
     "name": "stdout",
     "output_type": "stream",
     "text": [
      "\n",
      "0: 384x640 9 persons, 8 cars, 1 truck, 101.5ms\n",
      "Speed: 5.0ms preprocess, 101.5ms inference, 1.3ms postprocess per image at shape (1, 3, 384, 640)\n"
     ]
    },
    {
     "name": "stderr",
     "output_type": "stream",
     "text": [
      "Processing Frames:  60%|██████    | 281/468 [00:24<00:36,  5.16it/s]"
     ]
    },
    {
     "name": "stdout",
     "output_type": "stream",
     "text": [
      "\n",
      "0: 384x640 9 persons, 8 cars, 1 bus, 132.5ms\n",
      "Speed: 11.9ms preprocess, 132.5ms inference, 1.7ms postprocess per image at shape (1, 3, 384, 640)\n"
     ]
    },
    {
     "name": "stderr",
     "output_type": "stream",
     "text": [
      "Processing Frames:  60%|██████    | 282/468 [00:24<00:35,  5.22it/s]"
     ]
    },
    {
     "name": "stdout",
     "output_type": "stream",
     "text": [
      "\n",
      "0: 384x640 8 persons, 8 cars, 1 bus, 121.7ms\n",
      "Speed: 14.0ms preprocess, 121.7ms inference, 0.9ms postprocess per image at shape (1, 3, 384, 640)\n"
     ]
    },
    {
     "name": "stderr",
     "output_type": "stream",
     "text": [
      "Processing Frames:  60%|██████    | 283/468 [00:24<00:34,  5.31it/s]"
     ]
    },
    {
     "name": "stdout",
     "output_type": "stream",
     "text": [
      "\n",
      "0: 384x640 7 persons, 8 cars, 1 bus, 1 truck, 162.8ms\n",
      "Speed: 15.0ms preprocess, 162.8ms inference, 2.6ms postprocess per image at shape (1, 3, 384, 640)\n"
     ]
    },
    {
     "name": "stderr",
     "output_type": "stream",
     "text": [
      "Processing Frames:  61%|██████    | 284/468 [00:25<00:36,  4.98it/s]"
     ]
    },
    {
     "name": "stdout",
     "output_type": "stream",
     "text": [
      "\n",
      "0: 384x640 6 persons, 8 cars, 1 bus, 1 truck, 100.5ms\n",
      "Speed: 4.5ms preprocess, 100.5ms inference, 3.0ms postprocess per image at shape (1, 3, 384, 640)\n"
     ]
    },
    {
     "name": "stderr",
     "output_type": "stream",
     "text": [
      "Processing Frames:  61%|██████    | 285/468 [00:25<00:33,  5.45it/s]"
     ]
    },
    {
     "name": "stdout",
     "output_type": "stream",
     "text": [
      "\n",
      "0: 384x640 7 persons, 8 cars, 1 truck, 111.4ms\n",
      "Speed: 8.6ms preprocess, 111.4ms inference, 0.9ms postprocess per image at shape (1, 3, 384, 640)\n"
     ]
    },
    {
     "name": "stderr",
     "output_type": "stream",
     "text": [
      "Processing Frames:  61%|██████    | 286/468 [00:25<00:32,  5.56it/s]"
     ]
    },
    {
     "name": "stdout",
     "output_type": "stream",
     "text": [
      "\n",
      "0: 384x640 6 persons, 9 cars, 1 truck, 1 traffic light, 187.0ms\n",
      "Speed: 19.5ms preprocess, 187.0ms inference, 1.2ms postprocess per image at shape (1, 3, 384, 640)\n"
     ]
    },
    {
     "name": "stderr",
     "output_type": "stream",
     "text": [
      "Processing Frames:  61%|██████▏   | 287/468 [00:25<00:36,  4.95it/s]"
     ]
    },
    {
     "name": "stdout",
     "output_type": "stream",
     "text": [
      "\n",
      "0: 384x640 6 persons, 8 cars, 1 truck, 1 traffic light, 217.1ms\n",
      "Speed: 3.4ms preprocess, 217.1ms inference, 1.3ms postprocess per image at shape (1, 3, 384, 640)\n"
     ]
    },
    {
     "name": "stderr",
     "output_type": "stream",
     "text": [
      "Processing Frames:  62%|██████▏   | 288/468 [00:25<00:39,  4.60it/s]"
     ]
    },
    {
     "name": "stdout",
     "output_type": "stream",
     "text": [
      "\n",
      "0: 384x640 7 persons, 5 cars, 1 truck, 1 traffic light, 95.9ms\n",
      "Speed: 3.8ms preprocess, 95.9ms inference, 1.0ms postprocess per image at shape (1, 3, 384, 640)\n"
     ]
    },
    {
     "name": "stderr",
     "output_type": "stream",
     "text": [
      "Processing Frames:  62%|██████▏   | 289/468 [00:26<00:34,  5.17it/s]"
     ]
    },
    {
     "name": "stdout",
     "output_type": "stream",
     "text": [
      "\n",
      "0: 384x640 6 persons, 6 cars, 1 truck, 1 traffic light, 65.8ms\n",
      "Speed: 4.1ms preprocess, 65.8ms inference, 1.4ms postprocess per image at shape (1, 3, 384, 640)\n",
      "\n",
      "0: 384x640 6 persons, 6 cars, 1 truck, 1 traffic light, 147.3ms\n",
      "Speed: 12.2ms preprocess, 147.3ms inference, 0.9ms postprocess per image at shape (1, 3, 384, 640)\n"
     ]
    },
    {
     "name": "stderr",
     "output_type": "stream",
     "text": [
      "Processing Frames:  62%|██████▏   | 291/468 [00:26<00:30,  5.86it/s]"
     ]
    },
    {
     "name": "stdout",
     "output_type": "stream",
     "text": [
      "\n",
      "0: 384x640 6 persons, 6 cars, 1 truck, 1 traffic light, 204.6ms\n",
      "Speed: 7.8ms preprocess, 204.6ms inference, 1.3ms postprocess per image at shape (1, 3, 384, 640)\n"
     ]
    },
    {
     "name": "stderr",
     "output_type": "stream",
     "text": [
      "Processing Frames:  62%|██████▏   | 292/468 [00:26<00:33,  5.23it/s]"
     ]
    },
    {
     "name": "stdout",
     "output_type": "stream",
     "text": [
      "\n",
      "0: 384x640 6 persons, 6 cars, 1 truck, 95.0ms\n",
      "Speed: 4.3ms preprocess, 95.0ms inference, 1.0ms postprocess per image at shape (1, 3, 384, 640)\n"
     ]
    },
    {
     "name": "stderr",
     "output_type": "stream",
     "text": [
      "Processing Frames:  63%|██████▎   | 293/468 [00:26<00:31,  5.60it/s]"
     ]
    },
    {
     "name": "stdout",
     "output_type": "stream",
     "text": [
      "\n",
      "0: 384x640 6 persons, 6 cars, 1 truck, 98.9ms\n",
      "Speed: 5.2ms preprocess, 98.9ms inference, 1.0ms postprocess per image at shape (1, 3, 384, 640)\n"
     ]
    },
    {
     "name": "stderr",
     "output_type": "stream",
     "text": [
      "Processing Frames:  63%|██████▎   | 294/468 [00:26<00:29,  5.98it/s]"
     ]
    },
    {
     "name": "stdout",
     "output_type": "stream",
     "text": [
      "\n",
      "0: 384x640 6 persons, 6 cars, 2 trucks, 259.0ms\n",
      "Speed: 7.7ms preprocess, 259.0ms inference, 1.3ms postprocess per image at shape (1, 3, 384, 640)\n"
     ]
    },
    {
     "name": "stderr",
     "output_type": "stream",
     "text": [
      "Processing Frames:  63%|██████▎   | 295/468 [00:27<00:36,  4.77it/s]"
     ]
    },
    {
     "name": "stdout",
     "output_type": "stream",
     "text": [
      "\n",
      "0: 384x640 6 persons, 8 cars, 1 bus, 1 truck, 140.1ms\n",
      "Speed: 4.9ms preprocess, 140.1ms inference, 1.1ms postprocess per image at shape (1, 3, 384, 640)\n"
     ]
    },
    {
     "name": "stderr",
     "output_type": "stream",
     "text": [
      "Processing Frames:  63%|██████▎   | 296/468 [00:27<00:35,  4.91it/s]"
     ]
    },
    {
     "name": "stdout",
     "output_type": "stream",
     "text": [
      "\n",
      "0: 384x640 6 persons, 10 cars, 1 truck, 110.3ms\n",
      "Speed: 3.9ms preprocess, 110.3ms inference, 0.9ms postprocess per image at shape (1, 3, 384, 640)\n"
     ]
    },
    {
     "name": "stderr",
     "output_type": "stream",
     "text": [
      "Processing Frames:  63%|██████▎   | 297/468 [00:27<00:32,  5.20it/s]"
     ]
    },
    {
     "name": "stdout",
     "output_type": "stream",
     "text": [
      "\n",
      "0: 384x640 6 persons, 9 cars, 1 truck, 187.2ms\n",
      "Speed: 8.0ms preprocess, 187.2ms inference, 1.2ms postprocess per image at shape (1, 3, 384, 640)\n"
     ]
    },
    {
     "name": "stderr",
     "output_type": "stream",
     "text": [
      "Processing Frames:  64%|██████▎   | 298/468 [00:27<00:35,  4.77it/s]"
     ]
    },
    {
     "name": "stdout",
     "output_type": "stream",
     "text": [
      "\n",
      "0: 384x640 6 persons, 7 cars, 1 truck, 168.7ms\n",
      "Speed: 8.3ms preprocess, 168.7ms inference, 0.9ms postprocess per image at shape (1, 3, 384, 640)\n"
     ]
    },
    {
     "name": "stderr",
     "output_type": "stream",
     "text": [
      "Processing Frames:  64%|██████▍   | 299/468 [00:28<00:35,  4.71it/s]"
     ]
    },
    {
     "name": "stdout",
     "output_type": "stream",
     "text": [
      "\n",
      "0: 384x640 6 persons, 7 cars, 1 truck, 84.5ms\n",
      "Speed: 7.3ms preprocess, 84.5ms inference, 1.0ms postprocess per image at shape (1, 3, 384, 640)\n"
     ]
    },
    {
     "name": "stderr",
     "output_type": "stream",
     "text": [
      "Processing Frames:  64%|██████▍   | 300/468 [00:28<00:31,  5.36it/s]"
     ]
    },
    {
     "name": "stdout",
     "output_type": "stream",
     "text": [
      "\n",
      "0: 384x640 5 persons, 6 cars, 1 truck, 85.6ms\n",
      "Speed: 12.0ms preprocess, 85.6ms inference, 1.1ms postprocess per image at shape (1, 3, 384, 640)\n"
     ]
    },
    {
     "name": "stderr",
     "output_type": "stream",
     "text": [
      "Processing Frames:  64%|██████▍   | 301/468 [00:28<00:28,  5.82it/s]"
     ]
    },
    {
     "name": "stdout",
     "output_type": "stream",
     "text": [
      "\n",
      "0: 384x640 8 persons, 6 cars, 1 truck, 127.1ms\n",
      "Speed: 20.1ms preprocess, 127.1ms inference, 0.7ms postprocess per image at shape (1, 3, 384, 640)\n"
     ]
    },
    {
     "name": "stderr",
     "output_type": "stream",
     "text": [
      "Processing Frames:  65%|██████▍   | 302/468 [00:28<00:29,  5.63it/s]"
     ]
    },
    {
     "name": "stdout",
     "output_type": "stream",
     "text": [
      "\n",
      "0: 384x640 8 persons, 6 cars, 1 truck, 218.1ms\n",
      "Speed: 25.0ms preprocess, 218.1ms inference, 1.0ms postprocess per image at shape (1, 3, 384, 640)\n"
     ]
    },
    {
     "name": "stderr",
     "output_type": "stream",
     "text": [
      "Processing Frames:  65%|██████▍   | 303/468 [00:28<00:34,  4.78it/s]"
     ]
    },
    {
     "name": "stdout",
     "output_type": "stream",
     "text": [
      "\n",
      "0: 384x640 9 persons, 7 cars, 1 truck, 129.1ms\n",
      "Speed: 4.5ms preprocess, 129.1ms inference, 1.8ms postprocess per image at shape (1, 3, 384, 640)\n"
     ]
    },
    {
     "name": "stderr",
     "output_type": "stream",
     "text": [
      "Processing Frames:  65%|██████▍   | 304/468 [00:28<00:32,  5.03it/s]"
     ]
    },
    {
     "name": "stdout",
     "output_type": "stream",
     "text": [
      "\n",
      "0: 384x640 8 persons, 7 cars, 1 truck, 142.2ms\n",
      "Speed: 9.7ms preprocess, 142.2ms inference, 1.9ms postprocess per image at shape (1, 3, 384, 640)\n"
     ]
    },
    {
     "name": "stderr",
     "output_type": "stream",
     "text": [
      "Processing Frames:  65%|██████▌   | 305/468 [00:29<00:32,  5.00it/s]"
     ]
    },
    {
     "name": "stdout",
     "output_type": "stream",
     "text": [
      "\n",
      "0: 384x640 8 persons, 8 cars, 1 truck, 108.8ms\n",
      "Speed: 2.8ms preprocess, 108.8ms inference, 1.1ms postprocess per image at shape (1, 3, 384, 640)\n"
     ]
    },
    {
     "name": "stderr",
     "output_type": "stream",
     "text": [
      "Processing Frames:  65%|██████▌   | 306/468 [00:29<00:30,  5.32it/s]"
     ]
    },
    {
     "name": "stdout",
     "output_type": "stream",
     "text": [
      "\n",
      "0: 384x640 7 persons, 8 cars, 1 truck, 103.5ms\n",
      "Speed: 16.4ms preprocess, 103.5ms inference, 1.1ms postprocess per image at shape (1, 3, 384, 640)\n"
     ]
    },
    {
     "name": "stderr",
     "output_type": "stream",
     "text": [
      "Processing Frames:  66%|██████▌   | 307/468 [00:29<00:29,  5.49it/s]"
     ]
    },
    {
     "name": "stdout",
     "output_type": "stream",
     "text": [
      "\n",
      "0: 384x640 7 persons, 7 cars, 1 truck, 236.3ms\n",
      "Speed: 21.2ms preprocess, 236.3ms inference, 1.4ms postprocess per image at shape (1, 3, 384, 640)\n"
     ]
    },
    {
     "name": "stderr",
     "output_type": "stream",
     "text": [
      "Processing Frames:  66%|██████▌   | 308/468 [00:29<00:36,  4.44it/s]"
     ]
    },
    {
     "name": "stdout",
     "output_type": "stream",
     "text": [
      "\n",
      "0: 384x640 7 persons, 7 cars, 1 truck, 127.8ms\n",
      "Speed: 8.1ms preprocess, 127.8ms inference, 2.0ms postprocess per image at shape (1, 3, 384, 640)\n"
     ]
    },
    {
     "name": "stderr",
     "output_type": "stream",
     "text": [
      "Processing Frames:  66%|██████▌   | 309/468 [00:29<00:33,  4.72it/s]"
     ]
    },
    {
     "name": "stdout",
     "output_type": "stream",
     "text": [
      "\n",
      "0: 384x640 8 persons, 7 cars, 1 truck, 100.1ms\n",
      "Speed: 5.0ms preprocess, 100.1ms inference, 1.3ms postprocess per image at shape (1, 3, 384, 640)\n"
     ]
    },
    {
     "name": "stderr",
     "output_type": "stream",
     "text": [
      "Processing Frames:  66%|██████▌   | 310/468 [00:30<00:30,  5.10it/s]"
     ]
    },
    {
     "name": "stdout",
     "output_type": "stream",
     "text": [
      "\n",
      "0: 384x640 9 persons, 8 cars, 1 truck, 1 traffic light, 230.2ms\n",
      "Speed: 20.8ms preprocess, 230.2ms inference, 3.2ms postprocess per image at shape (1, 3, 384, 640)\n"
     ]
    },
    {
     "name": "stderr",
     "output_type": "stream",
     "text": [
      "Processing Frames:  66%|██████▋   | 311/468 [00:30<00:35,  4.41it/s]"
     ]
    },
    {
     "name": "stdout",
     "output_type": "stream",
     "text": [
      "\n",
      "0: 384x640 6 persons, 8 cars, 1 truck, 143.7ms\n",
      "Speed: 5.6ms preprocess, 143.7ms inference, 1.5ms postprocess per image at shape (1, 3, 384, 640)\n"
     ]
    },
    {
     "name": "stderr",
     "output_type": "stream",
     "text": [
      "Processing Frames:  67%|██████▋   | 312/468 [00:30<00:33,  4.60it/s]"
     ]
    },
    {
     "name": "stdout",
     "output_type": "stream",
     "text": [
      "\n",
      "0: 384x640 9 persons, 1 bicycle, 10 cars, 2 trucks, 1 traffic light, 135.0ms\n",
      "Speed: 5.1ms preprocess, 135.0ms inference, 1.7ms postprocess per image at shape (1, 3, 384, 640)\n"
     ]
    },
    {
     "name": "stderr",
     "output_type": "stream",
     "text": [
      "Processing Frames:  67%|██████▋   | 313/468 [00:30<00:31,  4.85it/s]"
     ]
    },
    {
     "name": "stdout",
     "output_type": "stream",
     "text": [
      "\n",
      "0: 384x640 8 persons, 1 bicycle, 10 cars, 1 motorcycle, 2 trucks, 1 traffic light, 175.6ms\n",
      "Speed: 14.2ms preprocess, 175.6ms inference, 1.0ms postprocess per image at shape (1, 3, 384, 640)\n"
     ]
    },
    {
     "name": "stderr",
     "output_type": "stream",
     "text": [
      "Processing Frames:  67%|██████▋   | 314/468 [00:31<00:32,  4.67it/s]"
     ]
    },
    {
     "name": "stdout",
     "output_type": "stream",
     "text": [
      "\n",
      "0: 384x640 7 persons, 7 cars, 1 motorcycle, 1 truck, 1 traffic light, 131.6ms\n",
      "Speed: 7.0ms preprocess, 131.6ms inference, 1.2ms postprocess per image at shape (1, 3, 384, 640)\n"
     ]
    },
    {
     "name": "stderr",
     "output_type": "stream",
     "text": [
      "Processing Frames:  67%|██████▋   | 315/468 [00:31<00:31,  4.93it/s]"
     ]
    },
    {
     "name": "stdout",
     "output_type": "stream",
     "text": [
      "\n",
      "0: 384x640 8 persons, 7 cars, 1 truck, 1 traffic light, 161.9ms\n",
      "Speed: 12.5ms preprocess, 161.9ms inference, 1.3ms postprocess per image at shape (1, 3, 384, 640)\n"
     ]
    },
    {
     "name": "stderr",
     "output_type": "stream",
     "text": [
      "Processing Frames:  68%|██████▊   | 316/468 [00:31<00:31,  4.87it/s]"
     ]
    },
    {
     "name": "stdout",
     "output_type": "stream",
     "text": [
      "\n",
      "0: 384x640 8 persons, 8 cars, 2 trucks, 1 traffic light, 106.6ms\n",
      "Speed: 5.1ms preprocess, 106.6ms inference, 1.3ms postprocess per image at shape (1, 3, 384, 640)\n"
     ]
    },
    {
     "name": "stderr",
     "output_type": "stream",
     "text": [
      "Processing Frames:  68%|██████▊   | 317/468 [00:31<00:28,  5.25it/s]"
     ]
    },
    {
     "name": "stdout",
     "output_type": "stream",
     "text": [
      "\n",
      "0: 384x640 10 persons, 7 cars, 1 motorcycle, 1 truck, 1 traffic light, 261.1ms\n",
      "Speed: 15.3ms preprocess, 261.1ms inference, 1.0ms postprocess per image at shape (1, 3, 384, 640)\n"
     ]
    },
    {
     "name": "stderr",
     "output_type": "stream",
     "text": [
      "Processing Frames:  68%|██████▊   | 318/468 [00:31<00:34,  4.30it/s]"
     ]
    },
    {
     "name": "stdout",
     "output_type": "stream",
     "text": [
      "\n",
      "0: 384x640 7 persons, 8 cars, 1 truck, 2 traffic lights, 160.3ms\n",
      "Speed: 14.2ms preprocess, 160.3ms inference, 2.0ms postprocess per image at shape (1, 3, 384, 640)\n"
     ]
    },
    {
     "name": "stderr",
     "output_type": "stream",
     "text": [
      "Processing Frames:  68%|██████▊   | 319/468 [00:32<00:34,  4.35it/s]"
     ]
    },
    {
     "name": "stdout",
     "output_type": "stream",
     "text": [
      "\n",
      "0: 384x640 8 persons, 6 cars, 1 truck, 1 traffic light, 97.2ms\n",
      "Speed: 5.7ms preprocess, 97.2ms inference, 1.2ms postprocess per image at shape (1, 3, 384, 640)\n"
     ]
    },
    {
     "name": "stderr",
     "output_type": "stream",
     "text": [
      "Processing Frames:  68%|██████▊   | 320/468 [00:32<00:30,  4.92it/s]"
     ]
    },
    {
     "name": "stdout",
     "output_type": "stream",
     "text": [
      "\n",
      "0: 384x640 9 persons, 9 cars, 1 truck, 1 traffic light, 116.9ms\n",
      "Speed: 7.2ms preprocess, 116.9ms inference, 6.6ms postprocess per image at shape (1, 3, 384, 640)\n"
     ]
    },
    {
     "name": "stderr",
     "output_type": "stream",
     "text": [
      "Processing Frames:  69%|██████▊   | 321/468 [00:32<00:28,  5.07it/s]"
     ]
    },
    {
     "name": "stdout",
     "output_type": "stream",
     "text": [
      "\n",
      "0: 384x640 8 persons, 1 bicycle, 8 cars, 1 truck, 1 traffic light, 144.5ms\n",
      "Speed: 19.5ms preprocess, 144.5ms inference, 1.1ms postprocess per image at shape (1, 3, 384, 640)\n"
     ]
    },
    {
     "name": "stderr",
     "output_type": "stream",
     "text": [
      "Processing Frames:  69%|██████▉   | 322/468 [00:32<00:29,  5.01it/s]"
     ]
    },
    {
     "name": "stdout",
     "output_type": "stream",
     "text": [
      "\n",
      "0: 384x640 7 persons, 8 cars, 1 truck, 1 traffic light, 139.8ms\n",
      "Speed: 2.7ms preprocess, 139.8ms inference, 0.9ms postprocess per image at shape (1, 3, 384, 640)\n"
     ]
    },
    {
     "name": "stderr",
     "output_type": "stream",
     "text": [
      "Processing Frames:  69%|██████▉   | 323/468 [00:32<00:28,  5.15it/s]"
     ]
    },
    {
     "name": "stdout",
     "output_type": "stream",
     "text": [
      "\n",
      "0: 384x640 8 persons, 8 cars, 1 truck, 1 traffic light, 194.9ms\n",
      "Speed: 8.3ms preprocess, 194.9ms inference, 1.1ms postprocess per image at shape (1, 3, 384, 640)\n"
     ]
    },
    {
     "name": "stderr",
     "output_type": "stream",
     "text": [
      "Processing Frames:  69%|██████▉   | 324/468 [00:33<00:30,  4.75it/s]"
     ]
    },
    {
     "name": "stdout",
     "output_type": "stream",
     "text": [
      "\n",
      "0: 384x640 8 persons, 7 cars, 2 trucks, 1 traffic light, 136.9ms\n",
      "Speed: 6.2ms preprocess, 136.9ms inference, 1.4ms postprocess per image at shape (1, 3, 384, 640)\n"
     ]
    },
    {
     "name": "stderr",
     "output_type": "stream",
     "text": [
      "Processing Frames:  69%|██████▉   | 325/468 [00:33<00:29,  4.83it/s]"
     ]
    },
    {
     "name": "stdout",
     "output_type": "stream",
     "text": [
      "\n",
      "0: 384x640 8 persons, 7 cars, 1 truck, 1 traffic light, 306.1ms\n",
      "Speed: 5.8ms preprocess, 306.1ms inference, 1.4ms postprocess per image at shape (1, 3, 384, 640)\n"
     ]
    },
    {
     "name": "stderr",
     "output_type": "stream",
     "text": [
      "Processing Frames:  70%|██████▉   | 326/468 [00:33<00:35,  3.97it/s]"
     ]
    },
    {
     "name": "stdout",
     "output_type": "stream",
     "text": [
      "\n",
      "0: 384x640 7 persons, 8 cars, 1 motorcycle, 2 trucks, 1 traffic light, 189.7ms\n",
      "Speed: 17.6ms preprocess, 189.7ms inference, 2.3ms postprocess per image at shape (1, 3, 384, 640)\n"
     ]
    },
    {
     "name": "stderr",
     "output_type": "stream",
     "text": [
      "Processing Frames:  70%|██████▉   | 327/468 [00:33<00:36,  3.92it/s]"
     ]
    },
    {
     "name": "stdout",
     "output_type": "stream",
     "text": [
      "\n",
      "0: 384x640 6 persons, 8 cars, 1 motorcycle, 1 truck, 1 traffic light, 1 skateboard, 168.0ms\n",
      "Speed: 2.7ms preprocess, 168.0ms inference, 1.0ms postprocess per image at shape (1, 3, 384, 640)\n"
     ]
    },
    {
     "name": "stderr",
     "output_type": "stream",
     "text": [
      "Processing Frames:  70%|███████   | 328/468 [00:34<00:34,  4.11it/s]"
     ]
    },
    {
     "name": "stdout",
     "output_type": "stream",
     "text": [
      "\n",
      "0: 384x640 7 persons, 8 cars, 1 motorcycle, 1 truck, 1 traffic light, 113.1ms\n",
      "Speed: 5.1ms preprocess, 113.1ms inference, 6.6ms postprocess per image at shape (1, 3, 384, 640)\n"
     ]
    },
    {
     "name": "stderr",
     "output_type": "stream",
     "text": [
      "Processing Frames:  70%|███████   | 329/468 [00:34<00:30,  4.52it/s]"
     ]
    },
    {
     "name": "stdout",
     "output_type": "stream",
     "text": [
      "\n",
      "0: 384x640 8 persons, 1 bicycle, 8 cars, 1 truck, 1 traffic light, 196.3ms\n",
      "Speed: 5.6ms preprocess, 196.3ms inference, 1.9ms postprocess per image at shape (1, 3, 384, 640)\n"
     ]
    },
    {
     "name": "stderr",
     "output_type": "stream",
     "text": [
      "Processing Frames:  71%|███████   | 330/468 [00:34<00:31,  4.39it/s]"
     ]
    },
    {
     "name": "stdout",
     "output_type": "stream",
     "text": [
      "\n",
      "0: 384x640 9 persons, 7 cars, 1 motorcycle, 1 truck, 1 traffic light, 137.5ms\n",
      "Speed: 7.8ms preprocess, 137.5ms inference, 5.9ms postprocess per image at shape (1, 3, 384, 640)\n"
     ]
    },
    {
     "name": "stderr",
     "output_type": "stream",
     "text": [
      "Processing Frames:  71%|███████   | 331/468 [00:34<00:30,  4.55it/s]"
     ]
    },
    {
     "name": "stdout",
     "output_type": "stream",
     "text": [
      "\n",
      "0: 384x640 7 persons, 2 bicycles, 7 cars, 1 motorcycle, 1 truck, 1 traffic light, 358.1ms\n",
      "Speed: 9.3ms preprocess, 358.1ms inference, 2.4ms postprocess per image at shape (1, 3, 384, 640)\n"
     ]
    },
    {
     "name": "stderr",
     "output_type": "stream",
     "text": [
      "Processing Frames:  71%|███████   | 332/468 [00:35<00:38,  3.58it/s]"
     ]
    },
    {
     "name": "stdout",
     "output_type": "stream",
     "text": [
      "\n",
      "0: 384x640 8 persons, 1 bicycle, 7 cars, 1 truck, 327.3ms\n",
      "Speed: 17.6ms preprocess, 327.3ms inference, 0.7ms postprocess per image at shape (1, 3, 384, 640)\n"
     ]
    },
    {
     "name": "stderr",
     "output_type": "stream",
     "text": [
      "Processing Frames:  71%|███████   | 333/468 [00:35<00:41,  3.23it/s]"
     ]
    },
    {
     "name": "stdout",
     "output_type": "stream",
     "text": [
      "\n",
      "0: 384x640 9 persons, 1 bicycle, 7 cars, 1 motorcycle, 1 truck, 171.6ms\n",
      "Speed: 9.4ms preprocess, 171.6ms inference, 1.2ms postprocess per image at shape (1, 3, 384, 640)\n"
     ]
    },
    {
     "name": "stderr",
     "output_type": "stream",
     "text": [
      "Processing Frames:  71%|███████▏  | 334/468 [00:35<00:38,  3.51it/s]"
     ]
    },
    {
     "name": "stdout",
     "output_type": "stream",
     "text": [
      "\n",
      "0: 384x640 9 persons, 8 cars, 1 motorcycle, 1 truck, 114.7ms\n",
      "Speed: 9.0ms preprocess, 114.7ms inference, 1.9ms postprocess per image at shape (1, 3, 384, 640)\n"
     ]
    },
    {
     "name": "stderr",
     "output_type": "stream",
     "text": [
      "Processing Frames:  72%|███████▏  | 335/468 [00:35<00:33,  3.97it/s]"
     ]
    },
    {
     "name": "stdout",
     "output_type": "stream",
     "text": [
      "\n",
      "0: 384x640 8 persons, 9 cars, 1 motorcycle, 1 truck, 216.4ms\n",
      "Speed: 7.4ms preprocess, 216.4ms inference, 1.2ms postprocess per image at shape (1, 3, 384, 640)\n"
     ]
    },
    {
     "name": "stderr",
     "output_type": "stream",
     "text": [
      "Processing Frames:  72%|███████▏  | 336/468 [00:36<00:34,  3.86it/s]"
     ]
    },
    {
     "name": "stdout",
     "output_type": "stream",
     "text": [
      "\n",
      "0: 384x640 7 persons, 8 cars, 1 motorcycle, 1 truck, 181.8ms\n",
      "Speed: 13.7ms preprocess, 181.8ms inference, 0.6ms postprocess per image at shape (1, 3, 384, 640)\n"
     ]
    },
    {
     "name": "stderr",
     "output_type": "stream",
     "text": [
      "Processing Frames:  72%|███████▏  | 337/468 [00:36<00:33,  3.92it/s]"
     ]
    },
    {
     "name": "stdout",
     "output_type": "stream",
     "text": [
      "\n",
      "0: 384x640 8 persons, 7 cars, 1 motorcycle, 1 truck, 144.0ms\n",
      "Speed: 18.6ms preprocess, 144.0ms inference, 1.1ms postprocess per image at shape (1, 3, 384, 640)\n"
     ]
    },
    {
     "name": "stderr",
     "output_type": "stream",
     "text": [
      "Processing Frames:  72%|███████▏  | 338/468 [00:36<00:31,  4.12it/s]"
     ]
    },
    {
     "name": "stdout",
     "output_type": "stream",
     "text": [
      "\n",
      "0: 384x640 6 persons, 8 cars, 2 motorcycles, 1 truck, 128.4ms\n",
      "Speed: 6.4ms preprocess, 128.4ms inference, 2.6ms postprocess per image at shape (1, 3, 384, 640)\n"
     ]
    },
    {
     "name": "stderr",
     "output_type": "stream",
     "text": [
      "Processing Frames:  72%|███████▏  | 339/468 [00:36<00:29,  4.43it/s]"
     ]
    },
    {
     "name": "stdout",
     "output_type": "stream",
     "text": [
      "\n",
      "0: 384x640 8 persons, 7 cars, 3 motorcycles, 1 truck, 292.7ms\n",
      "Speed: 9.7ms preprocess, 292.7ms inference, 1.3ms postprocess per image at shape (1, 3, 384, 640)\n"
     ]
    },
    {
     "name": "stderr",
     "output_type": "stream",
     "text": [
      "Processing Frames:  73%|███████▎  | 340/468 [00:37<00:33,  3.78it/s]"
     ]
    },
    {
     "name": "stdout",
     "output_type": "stream",
     "text": [
      "\n",
      "0: 384x640 9 persons, 8 cars, 1 motorcycle, 1 truck, 197.0ms\n",
      "Speed: 12.9ms preprocess, 197.0ms inference, 1.1ms postprocess per image at shape (1, 3, 384, 640)\n"
     ]
    },
    {
     "name": "stderr",
     "output_type": "stream",
     "text": [
      "Processing Frames:  73%|███████▎  | 341/468 [00:37<00:33,  3.80it/s]"
     ]
    },
    {
     "name": "stdout",
     "output_type": "stream",
     "text": [
      "\n",
      "0: 384x640 11 persons, 9 cars, 1 motorcycle, 1 truck, 133.7ms\n",
      "Speed: 7.5ms preprocess, 133.7ms inference, 1.8ms postprocess per image at shape (1, 3, 384, 640)\n"
     ]
    },
    {
     "name": "stderr",
     "output_type": "stream",
     "text": [
      "Processing Frames:  73%|███████▎  | 342/468 [00:37<00:30,  4.15it/s]"
     ]
    },
    {
     "name": "stdout",
     "output_type": "stream",
     "text": [
      "\n",
      "0: 384x640 8 persons, 8 cars, 3 motorcycles, 1 truck, 127.7ms\n",
      "Speed: 4.6ms preprocess, 127.7ms inference, 0.6ms postprocess per image at shape (1, 3, 384, 640)\n"
     ]
    },
    {
     "name": "stderr",
     "output_type": "stream",
     "text": [
      "Processing Frames:  73%|███████▎  | 343/468 [00:37<00:27,  4.47it/s]"
     ]
    },
    {
     "name": "stdout",
     "output_type": "stream",
     "text": [
      "\n",
      "0: 384x640 9 persons, 10 cars, 3 motorcycles, 1 truck, 235.3ms\n",
      "Speed: 22.6ms preprocess, 235.3ms inference, 1.3ms postprocess per image at shape (1, 3, 384, 640)\n"
     ]
    },
    {
     "name": "stderr",
     "output_type": "stream",
     "text": [
      "Processing Frames:  74%|███████▎  | 344/468 [00:38<00:30,  4.00it/s]"
     ]
    },
    {
     "name": "stdout",
     "output_type": "stream",
     "text": [
      "\n",
      "0: 384x640 10 persons, 10 cars, 2 motorcycles, 1 truck, 196.5ms\n",
      "Speed: 9.0ms preprocess, 196.5ms inference, 1.1ms postprocess per image at shape (1, 3, 384, 640)\n"
     ]
    },
    {
     "name": "stderr",
     "output_type": "stream",
     "text": [
      "Processing Frames:  74%|███████▎  | 345/468 [00:38<00:30,  4.00it/s]"
     ]
    },
    {
     "name": "stdout",
     "output_type": "stream",
     "text": [
      "\n",
      "0: 384x640 8 persons, 9 cars, 2 motorcycles, 1 truck, 182.1ms\n",
      "Speed: 5.3ms preprocess, 182.1ms inference, 1.0ms postprocess per image at shape (1, 3, 384, 640)\n"
     ]
    },
    {
     "name": "stderr",
     "output_type": "stream",
     "text": [
      "Processing Frames:  74%|███████▍  | 346/468 [00:38<00:29,  4.07it/s]"
     ]
    },
    {
     "name": "stdout",
     "output_type": "stream",
     "text": [
      "\n",
      "0: 384x640 8 persons, 7 cars, 2 motorcycles, 1 truck, 1 traffic light, 106.4ms\n",
      "Speed: 6.9ms preprocess, 106.4ms inference, 1.1ms postprocess per image at shape (1, 3, 384, 640)\n"
     ]
    },
    {
     "name": "stderr",
     "output_type": "stream",
     "text": [
      "Processing Frames:  74%|███████▍  | 347/468 [00:38<00:26,  4.57it/s]"
     ]
    },
    {
     "name": "stdout",
     "output_type": "stream",
     "text": [
      "\n",
      "0: 384x640 7 persons, 8 cars, 2 motorcycles, 1 truck, 1 traffic light, 228.5ms\n",
      "Speed: 24.8ms preprocess, 228.5ms inference, 1.9ms postprocess per image at shape (1, 3, 384, 640)\n"
     ]
    },
    {
     "name": "stderr",
     "output_type": "stream",
     "text": [
      "Processing Frames:  74%|███████▍  | 348/468 [00:39<00:29,  4.05it/s]"
     ]
    },
    {
     "name": "stdout",
     "output_type": "stream",
     "text": [
      "\n",
      "0: 384x640 6 persons, 10 cars, 2 motorcycles, 2 trucks, 1 traffic light, 209.7ms\n",
      "Speed: 12.2ms preprocess, 209.7ms inference, 1.7ms postprocess per image at shape (1, 3, 384, 640)\n"
     ]
    },
    {
     "name": "stderr",
     "output_type": "stream",
     "text": [
      "Processing Frames:  75%|███████▍  | 349/468 [00:39<00:30,  3.88it/s]"
     ]
    },
    {
     "name": "stdout",
     "output_type": "stream",
     "text": [
      "\n",
      "0: 384x640 7 persons, 7 cars, 2 motorcycles, 2 trucks, 1 traffic light, 114.4ms\n",
      "Speed: 8.8ms preprocess, 114.4ms inference, 1.3ms postprocess per image at shape (1, 3, 384, 640)\n"
     ]
    },
    {
     "name": "stderr",
     "output_type": "stream",
     "text": [
      "Processing Frames:  75%|███████▍  | 350/468 [00:39<00:27,  4.33it/s]"
     ]
    },
    {
     "name": "stdout",
     "output_type": "stream",
     "text": [
      "\n",
      "0: 384x640 6 persons, 8 cars, 2 motorcycles, 2 trucks, 1 traffic light, 133.4ms\n",
      "Speed: 8.1ms preprocess, 133.4ms inference, 1.2ms postprocess per image at shape (1, 3, 384, 640)\n"
     ]
    },
    {
     "name": "stderr",
     "output_type": "stream",
     "text": [
      "Processing Frames:  75%|███████▌  | 351/468 [00:39<00:25,  4.57it/s]"
     ]
    },
    {
     "name": "stdout",
     "output_type": "stream",
     "text": [
      "\n",
      "0: 384x640 8 persons, 7 cars, 2 motorcycles, 1 truck, 223.9ms\n",
      "Speed: 25.4ms preprocess, 223.9ms inference, 1.1ms postprocess per image at shape (1, 3, 384, 640)\n"
     ]
    },
    {
     "name": "stderr",
     "output_type": "stream",
     "text": [
      "Processing Frames:  75%|███████▌  | 352/468 [00:40<00:27,  4.17it/s]"
     ]
    },
    {
     "name": "stdout",
     "output_type": "stream",
     "text": [
      "\n",
      "0: 384x640 7 persons, 1 bicycle, 9 cars, 2 motorcycles, 1 truck, 341.7ms\n",
      "Speed: 18.2ms preprocess, 341.7ms inference, 1.7ms postprocess per image at shape (1, 3, 384, 640)\n"
     ]
    },
    {
     "name": "stderr",
     "output_type": "stream",
     "text": [
      "Processing Frames:  75%|███████▌  | 353/468 [00:40<00:33,  3.44it/s]"
     ]
    },
    {
     "name": "stdout",
     "output_type": "stream",
     "text": [
      "\n",
      "0: 384x640 8 persons, 1 bicycle, 7 cars, 2 motorcycles, 1 truck, 161.3ms\n",
      "Speed: 18.2ms preprocess, 161.3ms inference, 7.0ms postprocess per image at shape (1, 3, 384, 640)\n"
     ]
    },
    {
     "name": "stderr",
     "output_type": "stream",
     "text": [
      "Processing Frames:  76%|███████▌  | 354/468 [00:40<00:31,  3.63it/s]"
     ]
    },
    {
     "name": "stdout",
     "output_type": "stream",
     "text": [
      "\n",
      "0: 384x640 10 persons, 9 cars, 3 motorcycles, 1 truck, 262.7ms\n",
      "Speed: 19.3ms preprocess, 262.7ms inference, 5.7ms postprocess per image at shape (1, 3, 384, 640)\n"
     ]
    },
    {
     "name": "stderr",
     "output_type": "stream",
     "text": [
      "Processing Frames:  76%|███████▌  | 355/468 [00:41<00:33,  3.39it/s]"
     ]
    },
    {
     "name": "stdout",
     "output_type": "stream",
     "text": [
      "\n",
      "0: 384x640 8 persons, 1 bicycle, 9 cars, 2 motorcycles, 1 truck, 204.4ms\n",
      "Speed: 6.9ms preprocess, 204.4ms inference, 1.4ms postprocess per image at shape (1, 3, 384, 640)\n"
     ]
    },
    {
     "name": "stderr",
     "output_type": "stream",
     "text": [
      "Processing Frames:  76%|███████▌  | 356/468 [00:41<00:31,  3.51it/s]"
     ]
    },
    {
     "name": "stdout",
     "output_type": "stream",
     "text": [
      "\n",
      "0: 384x640 10 persons, 8 cars, 3 motorcycles, 1 truck, 110.1ms\n",
      "Speed: 12.5ms preprocess, 110.1ms inference, 1.2ms postprocess per image at shape (1, 3, 384, 640)\n"
     ]
    },
    {
     "name": "stderr",
     "output_type": "stream",
     "text": [
      "Processing Frames:  76%|███████▋  | 357/468 [00:41<00:27,  3.99it/s]"
     ]
    },
    {
     "name": "stdout",
     "output_type": "stream",
     "text": [
      "\n",
      "0: 384x640 10 persons, 9 cars, 3 motorcycles, 1 truck, 136.5ms\n",
      "Speed: 11.2ms preprocess, 136.5ms inference, 1.2ms postprocess per image at shape (1, 3, 384, 640)\n"
     ]
    },
    {
     "name": "stderr",
     "output_type": "stream",
     "text": [
      "Processing Frames:  76%|███████▋  | 358/468 [00:41<00:26,  4.22it/s]"
     ]
    },
    {
     "name": "stdout",
     "output_type": "stream",
     "text": [
      "\n",
      "0: 384x640 10 persons, 8 cars, 4 motorcycles, 1 truck, 236.0ms\n",
      "Speed: 5.9ms preprocess, 236.0ms inference, 1.2ms postprocess per image at shape (1, 3, 384, 640)\n"
     ]
    },
    {
     "name": "stderr",
     "output_type": "stream",
     "text": [
      "Processing Frames:  77%|███████▋  | 359/468 [00:41<00:27,  3.97it/s]"
     ]
    },
    {
     "name": "stdout",
     "output_type": "stream",
     "text": [
      "\n",
      "0: 384x640 11 persons, 7 cars, 2 motorcycles, 1 truck, 1 traffic light, 142.2ms\n",
      "Speed: 17.6ms preprocess, 142.2ms inference, 0.9ms postprocess per image at shape (1, 3, 384, 640)\n"
     ]
    },
    {
     "name": "stderr",
     "output_type": "stream",
     "text": [
      "Processing Frames:  77%|███████▋  | 360/468 [00:42<00:25,  4.18it/s]"
     ]
    },
    {
     "name": "stdout",
     "output_type": "stream",
     "text": [
      "\n",
      "0: 384x640 8 persons, 6 cars, 2 motorcycles, 1 truck, 1 traffic light, 174.4ms\n",
      "Speed: 10.1ms preprocess, 174.4ms inference, 1.7ms postprocess per image at shape (1, 3, 384, 640)\n"
     ]
    },
    {
     "name": "stderr",
     "output_type": "stream",
     "text": [
      "Processing Frames:  77%|███████▋  | 361/468 [00:42<00:25,  4.18it/s]"
     ]
    },
    {
     "name": "stdout",
     "output_type": "stream",
     "text": [
      "\n",
      "0: 384x640 9 persons, 5 cars, 2 motorcycles, 1 truck, 104.6ms\n",
      "Speed: 5.8ms preprocess, 104.6ms inference, 4.4ms postprocess per image at shape (1, 3, 384, 640)\n"
     ]
    },
    {
     "name": "stderr",
     "output_type": "stream",
     "text": [
      "Processing Frames:  77%|███████▋  | 362/468 [00:42<00:22,  4.70it/s]"
     ]
    },
    {
     "name": "stdout",
     "output_type": "stream",
     "text": [
      "\n",
      "0: 384x640 11 persons, 5 cars, 3 motorcycles, 1 truck, 216.9ms\n",
      "Speed: 12.1ms preprocess, 216.9ms inference, 5.7ms postprocess per image at shape (1, 3, 384, 640)\n"
     ]
    },
    {
     "name": "stderr",
     "output_type": "stream",
     "text": [
      "Processing Frames:  78%|███████▊  | 363/468 [00:42<00:24,  4.30it/s]"
     ]
    },
    {
     "name": "stdout",
     "output_type": "stream",
     "text": [
      "\n",
      "0: 384x640 11 persons, 5 cars, 3 motorcycles, 1 truck, 150.2ms\n",
      "Speed: 10.5ms preprocess, 150.2ms inference, 0.8ms postprocess per image at shape (1, 3, 384, 640)\n"
     ]
    },
    {
     "name": "stderr",
     "output_type": "stream",
     "text": [
      "Processing Frames:  78%|███████▊  | 364/468 [00:43<00:23,  4.43it/s]"
     ]
    },
    {
     "name": "stdout",
     "output_type": "stream",
     "text": [
      "\n",
      "0: 384x640 8 persons, 6 cars, 2 motorcycles, 1 truck, 200.7ms\n",
      "Speed: 10.7ms preprocess, 200.7ms inference, 0.7ms postprocess per image at shape (1, 3, 384, 640)\n"
     ]
    },
    {
     "name": "stderr",
     "output_type": "stream",
     "text": [
      "Processing Frames:  78%|███████▊  | 365/468 [00:43<00:24,  4.21it/s]"
     ]
    },
    {
     "name": "stdout",
     "output_type": "stream",
     "text": [
      "\n",
      "0: 384x640 7 persons, 7 cars, 3 motorcycles, 2 trucks, 178.7ms\n",
      "Speed: 6.6ms preprocess, 178.7ms inference, 7.1ms postprocess per image at shape (1, 3, 384, 640)\n"
     ]
    },
    {
     "name": "stderr",
     "output_type": "stream",
     "text": [
      "Processing Frames:  78%|███████▊  | 366/468 [00:43<00:24,  4.17it/s]"
     ]
    },
    {
     "name": "stdout",
     "output_type": "stream",
     "text": [
      "\n",
      "0: 384x640 7 persons, 7 cars, 3 motorcycles, 2 trucks, 253.1ms\n",
      "Speed: 23.4ms preprocess, 253.1ms inference, 7.5ms postprocess per image at shape (1, 3, 384, 640)\n"
     ]
    },
    {
     "name": "stderr",
     "output_type": "stream",
     "text": [
      "Processing Frames:  78%|███████▊  | 367/468 [00:43<00:27,  3.72it/s]"
     ]
    },
    {
     "name": "stdout",
     "output_type": "stream",
     "text": [
      "\n",
      "0: 384x640 6 persons, 6 cars, 3 motorcycles, 1 truck, 146.8ms\n",
      "Speed: 5.3ms preprocess, 146.8ms inference, 0.9ms postprocess per image at shape (1, 3, 384, 640)\n"
     ]
    },
    {
     "name": "stderr",
     "output_type": "stream",
     "text": [
      "Processing Frames:  79%|███████▊  | 368/468 [00:44<00:24,  4.09it/s]"
     ]
    },
    {
     "name": "stdout",
     "output_type": "stream",
     "text": [
      "\n",
      "0: 384x640 6 persons, 7 cars, 3 motorcycles, 1 truck, 132.3ms\n",
      "Speed: 15.2ms preprocess, 132.3ms inference, 0.8ms postprocess per image at shape (1, 3, 384, 640)\n"
     ]
    },
    {
     "name": "stderr",
     "output_type": "stream",
     "text": [
      "Processing Frames:  79%|███████▉  | 369/468 [00:44<00:22,  4.37it/s]"
     ]
    },
    {
     "name": "stdout",
     "output_type": "stream",
     "text": [
      "\n",
      "0: 384x640 6 persons, 6 cars, 3 motorcycles, 1 truck, 304.1ms\n",
      "Speed: 8.9ms preprocess, 304.1ms inference, 1.0ms postprocess per image at shape (1, 3, 384, 640)\n"
     ]
    },
    {
     "name": "stderr",
     "output_type": "stream",
     "text": [
      "Processing Frames:  79%|███████▉  | 370/468 [00:44<00:26,  3.74it/s]"
     ]
    },
    {
     "name": "stdout",
     "output_type": "stream",
     "text": [
      "\n",
      "0: 384x640 5 persons, 1 bicycle, 8 cars, 3 motorcycles, 1 truck, 132.3ms\n",
      "Speed: 3.0ms preprocess, 132.3ms inference, 1.1ms postprocess per image at shape (1, 3, 384, 640)\n"
     ]
    },
    {
     "name": "stderr",
     "output_type": "stream",
     "text": [
      "Processing Frames:  79%|███████▉  | 371/468 [00:44<00:23,  4.11it/s]"
     ]
    },
    {
     "name": "stdout",
     "output_type": "stream",
     "text": [
      "\n",
      "0: 384x640 6 persons, 8 cars, 3 motorcycles, 116.3ms\n",
      "Speed: 12.1ms preprocess, 116.3ms inference, 1.1ms postprocess per image at shape (1, 3, 384, 640)\n"
     ]
    },
    {
     "name": "stderr",
     "output_type": "stream",
     "text": [
      "Processing Frames:  79%|███████▉  | 372/468 [00:45<00:21,  4.47it/s]"
     ]
    },
    {
     "name": "stdout",
     "output_type": "stream",
     "text": [
      "\n",
      "0: 384x640 6 persons, 1 bicycle, 8 cars, 3 motorcycles, 99.3ms\n",
      "Speed: 6.7ms preprocess, 99.3ms inference, 2.6ms postprocess per image at shape (1, 3, 384, 640)\n"
     ]
    },
    {
     "name": "stderr",
     "output_type": "stream",
     "text": [
      "Processing Frames:  80%|███████▉  | 373/468 [00:45<00:19,  4.88it/s]"
     ]
    },
    {
     "name": "stdout",
     "output_type": "stream",
     "text": [
      "\n",
      "0: 384x640 6 persons, 8 cars, 3 motorcycles, 197.2ms\n",
      "Speed: 17.7ms preprocess, 197.2ms inference, 3.0ms postprocess per image at shape (1, 3, 384, 640)\n"
     ]
    },
    {
     "name": "stderr",
     "output_type": "stream",
     "text": [
      "Processing Frames:  80%|███████▉  | 374/468 [00:45<00:20,  4.50it/s]"
     ]
    },
    {
     "name": "stdout",
     "output_type": "stream",
     "text": [
      "\n",
      "0: 384x640 6 persons, 8 cars, 3 motorcycles, 189.2ms\n",
      "Speed: 21.4ms preprocess, 189.2ms inference, 0.6ms postprocess per image at shape (1, 3, 384, 640)\n"
     ]
    },
    {
     "name": "stderr",
     "output_type": "stream",
     "text": [
      "Processing Frames:  80%|████████  | 375/468 [00:45<00:21,  4.36it/s]"
     ]
    },
    {
     "name": "stdout",
     "output_type": "stream",
     "text": [
      "\n",
      "0: 384x640 6 persons, 8 cars, 3 motorcycles, 194.8ms\n",
      "Speed: 1.9ms preprocess, 194.8ms inference, 0.7ms postprocess per image at shape (1, 3, 384, 640)\n"
     ]
    },
    {
     "name": "stderr",
     "output_type": "stream",
     "text": [
      "Processing Frames:  80%|████████  | 376/468 [00:45<00:21,  4.28it/s]"
     ]
    },
    {
     "name": "stdout",
     "output_type": "stream",
     "text": [
      "\n",
      "0: 384x640 6 persons, 8 cars, 3 motorcycles, 102.3ms\n",
      "Speed: 4.2ms preprocess, 102.3ms inference, 1.9ms postprocess per image at shape (1, 3, 384, 640)\n"
     ]
    },
    {
     "name": "stderr",
     "output_type": "stream",
     "text": [
      "Processing Frames:  81%|████████  | 377/468 [00:46<00:19,  4.77it/s]"
     ]
    },
    {
     "name": "stdout",
     "output_type": "stream",
     "text": [
      "\n",
      "0: 384x640 7 persons, 8 cars, 2 motorcycles, 177.2ms\n",
      "Speed: 5.5ms preprocess, 177.2ms inference, 2.3ms postprocess per image at shape (1, 3, 384, 640)\n"
     ]
    },
    {
     "name": "stderr",
     "output_type": "stream",
     "text": [
      "Processing Frames:  81%|████████  | 378/468 [00:46<00:19,  4.57it/s]"
     ]
    },
    {
     "name": "stdout",
     "output_type": "stream",
     "text": [
      "\n",
      "0: 384x640 7 persons, 8 cars, 3 motorcycles, 124.7ms\n",
      "Speed: 15.3ms preprocess, 124.7ms inference, 0.9ms postprocess per image at shape (1, 3, 384, 640)\n"
     ]
    },
    {
     "name": "stderr",
     "output_type": "stream",
     "text": [
      "Processing Frames:  81%|████████  | 379/468 [00:46<00:18,  4.75it/s]"
     ]
    },
    {
     "name": "stdout",
     "output_type": "stream",
     "text": [
      "\n",
      "0: 384x640 8 persons, 7 cars, 2 motorcycles, 1 truck, 168.6ms\n",
      "Speed: 16.2ms preprocess, 168.6ms inference, 0.8ms postprocess per image at shape (1, 3, 384, 640)\n"
     ]
    },
    {
     "name": "stderr",
     "output_type": "stream",
     "text": [
      "Processing Frames:  81%|████████  | 380/468 [00:46<00:18,  4.65it/s]"
     ]
    },
    {
     "name": "stdout",
     "output_type": "stream",
     "text": [
      "\n",
      "0: 384x640 7 persons, 7 cars, 4 motorcycles, 1 truck, 114.7ms\n",
      "Speed: 7.0ms preprocess, 114.7ms inference, 1.2ms postprocess per image at shape (1, 3, 384, 640)\n"
     ]
    },
    {
     "name": "stderr",
     "output_type": "stream",
     "text": [
      "Processing Frames:  81%|████████▏ | 381/468 [00:46<00:17,  5.05it/s]"
     ]
    },
    {
     "name": "stdout",
     "output_type": "stream",
     "text": [
      "\n",
      "0: 384x640 8 persons, 6 cars, 2 motorcycles, 1 truck, 256.9ms\n",
      "Speed: 4.6ms preprocess, 256.9ms inference, 2.3ms postprocess per image at shape (1, 3, 384, 640)\n"
     ]
    },
    {
     "name": "stderr",
     "output_type": "stream",
     "text": [
      "Processing Frames:  82%|████████▏ | 382/468 [00:47<00:19,  4.36it/s]"
     ]
    },
    {
     "name": "stdout",
     "output_type": "stream",
     "text": [
      "\n",
      "0: 384x640 8 persons, 9 cars, 3 motorcycles, 1 truck, 120.3ms\n",
      "Speed: 10.5ms preprocess, 120.3ms inference, 2.0ms postprocess per image at shape (1, 3, 384, 640)\n"
     ]
    },
    {
     "name": "stderr",
     "output_type": "stream",
     "text": [
      "Processing Frames:  82%|████████▏ | 383/468 [00:47<00:18,  4.69it/s]"
     ]
    },
    {
     "name": "stdout",
     "output_type": "stream",
     "text": [
      "\n",
      "0: 384x640 8 persons, 7 cars, 4 motorcycles, 1 truck, 167.7ms\n",
      "Speed: 15.3ms preprocess, 167.7ms inference, 1.8ms postprocess per image at shape (1, 3, 384, 640)\n"
     ]
    },
    {
     "name": "stderr",
     "output_type": "stream",
     "text": [
      "Processing Frames:  82%|████████▏ | 384/468 [00:47<00:18,  4.59it/s]"
     ]
    },
    {
     "name": "stdout",
     "output_type": "stream",
     "text": [
      "\n",
      "0: 384x640 8 persons, 6 cars, 3 motorcycles, 1 truck, 119.1ms\n",
      "Speed: 7.8ms preprocess, 119.1ms inference, 0.7ms postprocess per image at shape (1, 3, 384, 640)\n"
     ]
    },
    {
     "name": "stderr",
     "output_type": "stream",
     "text": [
      "Processing Frames:  82%|████████▏ | 385/468 [00:47<00:16,  4.89it/s]"
     ]
    },
    {
     "name": "stdout",
     "output_type": "stream",
     "text": [
      "\n",
      "0: 384x640 9 persons, 7 cars, 3 motorcycles, 1 truck, 100.9ms\n",
      "Speed: 8.4ms preprocess, 100.9ms inference, 0.8ms postprocess per image at shape (1, 3, 384, 640)\n"
     ]
    },
    {
     "name": "stderr",
     "output_type": "stream",
     "text": [
      "Processing Frames:  82%|████████▏ | 386/468 [00:47<00:15,  5.37it/s]"
     ]
    },
    {
     "name": "stdout",
     "output_type": "stream",
     "text": [
      "\n",
      "0: 384x640 7 persons, 7 cars, 3 motorcycles, 1 truck, 195.9ms\n",
      "Speed: 8.1ms preprocess, 195.9ms inference, 16.6ms postprocess per image at shape (1, 3, 384, 640)\n"
     ]
    },
    {
     "name": "stderr",
     "output_type": "stream",
     "text": [
      "Processing Frames:  83%|████████▎ | 387/468 [00:48<00:16,  4.79it/s]"
     ]
    },
    {
     "name": "stdout",
     "output_type": "stream",
     "text": [
      "\n",
      "0: 384x640 8 persons, 5 cars, 4 motorcycles, 1 truck, 335.8ms\n",
      "Speed: 13.7ms preprocess, 335.8ms inference, 0.5ms postprocess per image at shape (1, 3, 384, 640)\n"
     ]
    },
    {
     "name": "stderr",
     "output_type": "stream",
     "text": [
      "Processing Frames:  83%|████████▎ | 388/468 [00:48<00:21,  3.79it/s]"
     ]
    },
    {
     "name": "stdout",
     "output_type": "stream",
     "text": [
      "\n",
      "0: 384x640 8 persons, 7 cars, 2 motorcycles, 1 truck, 74.0ms\n",
      "Speed: 4.2ms preprocess, 74.0ms inference, 1.0ms postprocess per image at shape (1, 3, 384, 640)\n"
     ]
    },
    {
     "name": "stderr",
     "output_type": "stream",
     "text": [
      "Processing Frames:  83%|████████▎ | 389/468 [00:48<00:17,  4.61it/s]"
     ]
    },
    {
     "name": "stdout",
     "output_type": "stream",
     "text": [
      "\n",
      "0: 384x640 7 persons, 6 cars, 4 motorcycles, 1 truck, 67.6ms\n",
      "Speed: 1.7ms preprocess, 67.6ms inference, 0.5ms postprocess per image at shape (1, 3, 384, 640)\n"
     ]
    },
    {
     "name": "stderr",
     "output_type": "stream",
     "text": [
      "Processing Frames:  83%|████████▎ | 390/468 [00:48<00:14,  5.41it/s]"
     ]
    },
    {
     "name": "stdout",
     "output_type": "stream",
     "text": [
      "\n",
      "0: 384x640 7 persons, 7 cars, 4 motorcycles, 69.0ms\n",
      "Speed: 5.6ms preprocess, 69.0ms inference, 2.4ms postprocess per image at shape (1, 3, 384, 640)\n"
     ]
    },
    {
     "name": "stderr",
     "output_type": "stream",
     "text": [
      "Processing Frames:  84%|████████▎ | 391/468 [00:48<00:12,  6.21it/s]"
     ]
    },
    {
     "name": "stdout",
     "output_type": "stream",
     "text": [
      "\n",
      "0: 384x640 7 persons, 6 cars, 6 motorcycles, 65.6ms\n",
      "Speed: 2.3ms preprocess, 65.6ms inference, 0.9ms postprocess per image at shape (1, 3, 384, 640)\n"
     ]
    },
    {
     "name": "stderr",
     "output_type": "stream",
     "text": [
      "Processing Frames:  84%|████████▍ | 392/468 [00:49<00:11,  6.89it/s]"
     ]
    },
    {
     "name": "stdout",
     "output_type": "stream",
     "text": [
      "\n",
      "0: 384x640 8 persons, 6 cars, 6 motorcycles, 76.8ms\n",
      "Speed: 1.8ms preprocess, 76.8ms inference, 1.5ms postprocess per image at shape (1, 3, 384, 640)\n"
     ]
    },
    {
     "name": "stderr",
     "output_type": "stream",
     "text": [
      "Processing Frames:  84%|████████▍ | 393/468 [00:49<00:10,  7.39it/s]"
     ]
    },
    {
     "name": "stdout",
     "output_type": "stream",
     "text": [
      "\n",
      "0: 384x640 7 persons, 8 cars, 6 motorcycles, 63.0ms\n",
      "Speed: 2.4ms preprocess, 63.0ms inference, 1.0ms postprocess per image at shape (1, 3, 384, 640)\n"
     ]
    },
    {
     "name": "stderr",
     "output_type": "stream",
     "text": [
      "Processing Frames:  84%|████████▍ | 394/468 [00:49<00:09,  7.95it/s]"
     ]
    },
    {
     "name": "stdout",
     "output_type": "stream",
     "text": [
      "\n",
      "0: 384x640 7 persons, 5 cars, 6 motorcycles, 64.6ms\n",
      "Speed: 2.1ms preprocess, 64.6ms inference, 1.0ms postprocess per image at shape (1, 3, 384, 640)\n",
      "\n",
      "0: 384x640 8 persons, 5 cars, 4 motorcycles, 79.8ms\n",
      "Speed: 1.9ms preprocess, 79.8ms inference, 2.2ms postprocess per image at shape (1, 3, 384, 640)\n"
     ]
    },
    {
     "name": "stderr",
     "output_type": "stream",
     "text": [
      "Processing Frames:  85%|████████▍ | 396/468 [00:49<00:08,  8.52it/s]"
     ]
    },
    {
     "name": "stdout",
     "output_type": "stream",
     "text": [
      "\n",
      "0: 384x640 6 persons, 4 cars, 6 motorcycles, 80.9ms\n",
      "Speed: 2.6ms preprocess, 80.9ms inference, 1.2ms postprocess per image at shape (1, 3, 384, 640)\n"
     ]
    },
    {
     "name": "stderr",
     "output_type": "stream",
     "text": [
      "Processing Frames:  85%|████████▍ | 397/468 [00:49<00:08,  8.42it/s]"
     ]
    },
    {
     "name": "stdout",
     "output_type": "stream",
     "text": [
      "\n",
      "0: 384x640 9 persons, 7 cars, 5 motorcycles, 72.6ms\n",
      "Speed: 8.0ms preprocess, 72.6ms inference, 1.0ms postprocess per image at shape (1, 3, 384, 640)\n"
     ]
    },
    {
     "name": "stderr",
     "output_type": "stream",
     "text": [
      "Processing Frames:  85%|████████▌ | 398/468 [00:49<00:08,  8.47it/s]"
     ]
    },
    {
     "name": "stdout",
     "output_type": "stream",
     "text": [
      "\n",
      "0: 384x640 13 persons, 6 cars, 5 motorcycles, 58.6ms\n",
      "Speed: 8.0ms preprocess, 58.6ms inference, 0.9ms postprocess per image at shape (1, 3, 384, 640)\n",
      "\n",
      "0: 384x640 9 persons, 5 cars, 4 motorcycles, 50.4ms\n",
      "Speed: 1.8ms preprocess, 50.4ms inference, 0.6ms postprocess per image at shape (1, 3, 384, 640)\n"
     ]
    },
    {
     "name": "stderr",
     "output_type": "stream",
     "text": [
      "Processing Frames:  85%|████████▌ | 400/468 [00:49<00:07,  9.65it/s]"
     ]
    },
    {
     "name": "stdout",
     "output_type": "stream",
     "text": [
      "\n",
      "0: 384x640 9 persons, 5 cars, 5 motorcycles, 45.6ms\n",
      "Speed: 4.4ms preprocess, 45.6ms inference, 1.3ms postprocess per image at shape (1, 3, 384, 640)\n",
      "\n",
      "0: 384x640 10 persons, 6 cars, 5 motorcycles, 49.5ms\n",
      "Speed: 1.8ms preprocess, 49.5ms inference, 1.1ms postprocess per image at shape (1, 3, 384, 640)\n"
     ]
    },
    {
     "name": "stderr",
     "output_type": "stream",
     "text": [
      "Processing Frames:  86%|████████▌ | 402/468 [00:49<00:06, 10.64it/s]"
     ]
    },
    {
     "name": "stdout",
     "output_type": "stream",
     "text": [
      "\n",
      "0: 384x640 9 persons, 5 cars, 7 motorcycles, 1 truck, 59.5ms\n",
      "Speed: 2.3ms preprocess, 59.5ms inference, 1.0ms postprocess per image at shape (1, 3, 384, 640)\n",
      "\n",
      "0: 384x640 9 persons, 6 cars, 5 motorcycles, 1 truck, 56.0ms\n",
      "Speed: 2.3ms preprocess, 56.0ms inference, 0.9ms postprocess per image at shape (1, 3, 384, 640)\n"
     ]
    },
    {
     "name": "stderr",
     "output_type": "stream",
     "text": [
      "Processing Frames:  86%|████████▋ | 404/468 [00:50<00:05, 10.88it/s]"
     ]
    },
    {
     "name": "stdout",
     "output_type": "stream",
     "text": [
      "\n",
      "0: 384x640 9 persons, 5 cars, 3 motorcycles, 1 truck, 51.9ms\n",
      "Speed: 4.5ms preprocess, 51.9ms inference, 1.0ms postprocess per image at shape (1, 3, 384, 640)\n",
      "\n",
      "0: 384x640 9 persons, 6 cars, 8 motorcycles, 1 truck, 48.1ms\n",
      "Speed: 2.7ms preprocess, 48.1ms inference, 0.5ms postprocess per image at shape (1, 3, 384, 640)\n"
     ]
    },
    {
     "name": "stderr",
     "output_type": "stream",
     "text": [
      "Processing Frames:  87%|████████▋ | 406/468 [00:50<00:05, 11.45it/s]"
     ]
    },
    {
     "name": "stdout",
     "output_type": "stream",
     "text": [
      "\n",
      "0: 384x640 8 persons, 5 cars, 5 motorcycles, 1 truck, 58.8ms\n",
      "Speed: 2.1ms preprocess, 58.8ms inference, 3.4ms postprocess per image at shape (1, 3, 384, 640)\n",
      "\n",
      "0: 384x640 11 persons, 4 cars, 6 motorcycles, 59.4ms\n",
      "Speed: 2.6ms preprocess, 59.4ms inference, 1.1ms postprocess per image at shape (1, 3, 384, 640)\n"
     ]
    },
    {
     "name": "stderr",
     "output_type": "stream",
     "text": [
      "Processing Frames:  87%|████████▋ | 408/468 [00:50<00:05, 11.13it/s]"
     ]
    },
    {
     "name": "stdout",
     "output_type": "stream",
     "text": [
      "\n",
      "0: 384x640 10 persons, 6 cars, 4 motorcycles, 1 truck, 603.5ms\n",
      "Speed: 29.0ms preprocess, 603.5ms inference, 6.6ms postprocess per image at shape (1, 3, 384, 640)\n",
      "\n",
      "0: 384x640 13 persons, 5 cars, 5 motorcycles, 1 truck, 1410.1ms\n",
      "Speed: 9.9ms preprocess, 1410.1ms inference, 3.4ms postprocess per image at shape (1, 3, 384, 640)\n"
     ]
    },
    {
     "name": "stderr",
     "output_type": "stream",
     "text": [
      "Processing Frames:  88%|████████▊ | 410/468 [00:52<00:23,  2.46it/s]"
     ]
    },
    {
     "name": "stdout",
     "output_type": "stream",
     "text": [
      "\n",
      "0: 384x640 9 persons, 5 cars, 7 motorcycles, 2 trucks, 356.1ms\n",
      "Speed: 9.3ms preprocess, 356.1ms inference, 1.1ms postprocess per image at shape (1, 3, 384, 640)\n"
     ]
    },
    {
     "name": "stderr",
     "output_type": "stream",
     "text": [
      "Processing Frames:  88%|████████▊ | 411/468 [00:53<00:23,  2.46it/s]"
     ]
    },
    {
     "name": "stdout",
     "output_type": "stream",
     "text": [
      "\n",
      "0: 384x640 12 persons, 6 cars, 5 motorcycles, 1 truck, 298.5ms\n",
      "Speed: 17.9ms preprocess, 298.5ms inference, 1.4ms postprocess per image at shape (1, 3, 384, 640)\n"
     ]
    },
    {
     "name": "stderr",
     "output_type": "stream",
     "text": [
      "Processing Frames:  88%|████████▊ | 412/468 [00:53<00:22,  2.52it/s]"
     ]
    },
    {
     "name": "stdout",
     "output_type": "stream",
     "text": [
      "\n",
      "0: 384x640 11 persons, 6 cars, 2 motorcycles, 1 truck, 168.8ms\n",
      "Speed: 7.2ms preprocess, 168.8ms inference, 1.2ms postprocess per image at shape (1, 3, 384, 640)\n"
     ]
    },
    {
     "name": "stderr",
     "output_type": "stream",
     "text": [
      "Processing Frames:  88%|████████▊ | 413/468 [00:53<00:19,  2.80it/s]"
     ]
    },
    {
     "name": "stdout",
     "output_type": "stream",
     "text": [
      "\n",
      "0: 384x640 12 persons, 6 cars, 4 motorcycles, 1 truck, 1 traffic light, 320.7ms\n",
      "Speed: 15.9ms preprocess, 320.7ms inference, 5.4ms postprocess per image at shape (1, 3, 384, 640)\n"
     ]
    },
    {
     "name": "stderr",
     "output_type": "stream",
     "text": [
      "Processing Frames:  88%|████████▊ | 414/468 [00:54<00:19,  2.70it/s]"
     ]
    },
    {
     "name": "stdout",
     "output_type": "stream",
     "text": [
      "\n",
      "0: 384x640 13 persons, 6 cars, 5 motorcycles, 1 truck, 186.4ms\n",
      "Speed: 23.0ms preprocess, 186.4ms inference, 1.1ms postprocess per image at shape (1, 3, 384, 640)\n"
     ]
    },
    {
     "name": "stderr",
     "output_type": "stream",
     "text": [
      "Processing Frames:  89%|████████▊ | 415/468 [00:54<00:18,  2.94it/s]"
     ]
    },
    {
     "name": "stdout",
     "output_type": "stream",
     "text": [
      "\n",
      "0: 384x640 10 persons, 7 cars, 1 truck, 293.2ms\n",
      "Speed: 16.7ms preprocess, 293.2ms inference, 16.8ms postprocess per image at shape (1, 3, 384, 640)\n"
     ]
    },
    {
     "name": "stderr",
     "output_type": "stream",
     "text": [
      "Processing Frames:  89%|████████▉ | 416/468 [00:54<00:18,  2.85it/s]"
     ]
    },
    {
     "name": "stdout",
     "output_type": "stream",
     "text": [
      "\n",
      "0: 384x640 10 persons, 4 cars, 5 motorcycles, 1 truck, 409.2ms\n",
      "Speed: 13.0ms preprocess, 409.2ms inference, 26.4ms postprocess per image at shape (1, 3, 384, 640)\n"
     ]
    },
    {
     "name": "stderr",
     "output_type": "stream",
     "text": [
      "Processing Frames:  89%|████████▉ | 417/468 [00:55<00:20,  2.52it/s]"
     ]
    },
    {
     "name": "stdout",
     "output_type": "stream",
     "text": [
      "\n",
      "0: 384x640 11 persons, 3 cars, 6 motorcycles, 305.1ms\n",
      "Speed: 19.1ms preprocess, 305.1ms inference, 1.4ms postprocess per image at shape (1, 3, 384, 640)\n"
     ]
    },
    {
     "name": "stderr",
     "output_type": "stream",
     "text": [
      "Processing Frames:  89%|████████▉ | 418/468 [00:55<00:19,  2.56it/s]"
     ]
    },
    {
     "name": "stdout",
     "output_type": "stream",
     "text": [
      "\n",
      "0: 384x640 10 persons, 5 cars, 5 motorcycles, 176.3ms\n",
      "Speed: 10.2ms preprocess, 176.3ms inference, 1.5ms postprocess per image at shape (1, 3, 384, 640)\n"
     ]
    },
    {
     "name": "stderr",
     "output_type": "stream",
     "text": [
      "Processing Frames:  90%|████████▉ | 419/468 [00:55<00:16,  2.90it/s]"
     ]
    },
    {
     "name": "stdout",
     "output_type": "stream",
     "text": [
      "\n",
      "0: 384x640 9 persons, 4 cars, 4 motorcycles, 395.3ms\n",
      "Speed: 29.5ms preprocess, 395.3ms inference, 1.4ms postprocess per image at shape (1, 3, 384, 640)\n"
     ]
    },
    {
     "name": "stderr",
     "output_type": "stream",
     "text": [
      "Processing Frames:  90%|████████▉ | 420/468 [00:56<00:18,  2.58it/s]"
     ]
    },
    {
     "name": "stdout",
     "output_type": "stream",
     "text": [
      "\n",
      "0: 384x640 10 persons, 5 cars, 7 motorcycles, 206.0ms\n",
      "Speed: 18.0ms preprocess, 206.0ms inference, 1.7ms postprocess per image at shape (1, 3, 384, 640)\n"
     ]
    },
    {
     "name": "stderr",
     "output_type": "stream",
     "text": [
      "Processing Frames:  90%|████████▉ | 421/468 [00:56<00:16,  2.81it/s]"
     ]
    },
    {
     "name": "stdout",
     "output_type": "stream",
     "text": [
      "\n",
      "0: 384x640 10 persons, 5 cars, 4 motorcycles, 161.4ms\n",
      "Speed: 9.0ms preprocess, 161.4ms inference, 0.6ms postprocess per image at shape (1, 3, 384, 640)\n"
     ]
    },
    {
     "name": "stderr",
     "output_type": "stream",
     "text": [
      "Processing Frames:  90%|█████████ | 422/468 [00:56<00:14,  3.18it/s]"
     ]
    },
    {
     "name": "stdout",
     "output_type": "stream",
     "text": [
      "\n",
      "0: 384x640 8 persons, 4 cars, 4 motorcycles, 147.9ms\n",
      "Speed: 8.9ms preprocess, 147.9ms inference, 2.9ms postprocess per image at shape (1, 3, 384, 640)\n"
     ]
    },
    {
     "name": "stderr",
     "output_type": "stream",
     "text": [
      "Processing Frames:  90%|█████████ | 423/468 [00:57<00:12,  3.53it/s]"
     ]
    },
    {
     "name": "stdout",
     "output_type": "stream",
     "text": [
      "\n",
      "0: 384x640 9 persons, 5 cars, 4 motorcycles, 210.8ms\n",
      "Speed: 8.8ms preprocess, 210.8ms inference, 0.9ms postprocess per image at shape (1, 3, 384, 640)\n"
     ]
    },
    {
     "name": "stderr",
     "output_type": "stream",
     "text": [
      "Processing Frames:  91%|█████████ | 424/468 [00:57<00:12,  3.52it/s]"
     ]
    },
    {
     "name": "stdout",
     "output_type": "stream",
     "text": [
      "\n",
      "0: 384x640 10 persons, 4 cars, 4 motorcycles, 258.3ms\n",
      "Speed: 30.7ms preprocess, 258.3ms inference, 4.1ms postprocess per image at shape (1, 3, 384, 640)\n"
     ]
    },
    {
     "name": "stderr",
     "output_type": "stream",
     "text": [
      "Processing Frames:  91%|█████████ | 425/468 [00:57<00:12,  3.32it/s]"
     ]
    },
    {
     "name": "stdout",
     "output_type": "stream",
     "text": [
      "\n",
      "0: 384x640 8 persons, 4 cars, 4 motorcycles, 144.2ms\n",
      "Speed: 19.1ms preprocess, 144.2ms inference, 1.8ms postprocess per image at shape (1, 3, 384, 640)\n"
     ]
    },
    {
     "name": "stderr",
     "output_type": "stream",
     "text": [
      "Processing Frames:  91%|█████████ | 426/468 [00:57<00:11,  3.68it/s]"
     ]
    },
    {
     "name": "stdout",
     "output_type": "stream",
     "text": [
      "\n",
      "0: 384x640 6 persons, 5 cars, 3 motorcycles, 1 traffic light, 116.8ms\n",
      "Speed: 4.6ms preprocess, 116.8ms inference, 1.0ms postprocess per image at shape (1, 3, 384, 640)\n"
     ]
    },
    {
     "name": "stderr",
     "output_type": "stream",
     "text": [
      "Processing Frames:  91%|█████████ | 427/468 [00:58<00:09,  4.22it/s]"
     ]
    },
    {
     "name": "stdout",
     "output_type": "stream",
     "text": [
      "\n",
      "0: 384x640 8 persons, 5 cars, 2 motorcycles, 1 traffic light, 99.1ms\n",
      "Speed: 2.6ms preprocess, 99.1ms inference, 0.9ms postprocess per image at shape (1, 3, 384, 640)\n"
     ]
    },
    {
     "name": "stderr",
     "output_type": "stream",
     "text": [
      "Processing Frames:  91%|█████████▏| 428/468 [00:58<00:08,  4.81it/s]"
     ]
    },
    {
     "name": "stdout",
     "output_type": "stream",
     "text": [
      "\n",
      "0: 384x640 9 persons, 8 cars, 4 motorcycles, 135.3ms\n",
      "Speed: 6.3ms preprocess, 135.3ms inference, 1.3ms postprocess per image at shape (1, 3, 384, 640)\n"
     ]
    },
    {
     "name": "stderr",
     "output_type": "stream",
     "text": [
      "Processing Frames:  92%|█████████▏| 429/468 [00:58<00:07,  5.02it/s]"
     ]
    },
    {
     "name": "stdout",
     "output_type": "stream",
     "text": [
      "\n",
      "0: 384x640 8 persons, 6 cars, 2 motorcycles, 120.6ms\n",
      "Speed: 12.2ms preprocess, 120.6ms inference, 1.3ms postprocess per image at shape (1, 3, 384, 640)\n"
     ]
    },
    {
     "name": "stderr",
     "output_type": "stream",
     "text": [
      "Processing Frames:  92%|█████████▏| 430/468 [00:58<00:07,  5.26it/s]"
     ]
    },
    {
     "name": "stdout",
     "output_type": "stream",
     "text": [
      "\n",
      "0: 384x640 7 persons, 5 cars, 2 motorcycles, 137.1ms\n",
      "Speed: 13.0ms preprocess, 137.1ms inference, 1.0ms postprocess per image at shape (1, 3, 384, 640)\n"
     ]
    },
    {
     "name": "stderr",
     "output_type": "stream",
     "text": [
      "Processing Frames:  92%|█████████▏| 431/468 [00:58<00:07,  5.17it/s]"
     ]
    },
    {
     "name": "stdout",
     "output_type": "stream",
     "text": [
      "\n",
      "0: 384x640 7 persons, 5 cars, 3 motorcycles, 314.7ms\n",
      "Speed: 25.9ms preprocess, 314.7ms inference, 1.2ms postprocess per image at shape (1, 3, 384, 640)\n"
     ]
    },
    {
     "name": "stderr",
     "output_type": "stream",
     "text": [
      "Processing Frames:  92%|█████████▏| 432/468 [00:59<00:09,  3.93it/s]"
     ]
    },
    {
     "name": "stdout",
     "output_type": "stream",
     "text": [
      "\n",
      "0: 384x640 7 persons, 4 cars, 2 motorcycles, 2 trucks, 139.4ms\n",
      "Speed: 25.1ms preprocess, 139.4ms inference, 1.3ms postprocess per image at shape (1, 3, 384, 640)\n"
     ]
    },
    {
     "name": "stderr",
     "output_type": "stream",
     "text": [
      "Processing Frames:  93%|█████████▎| 433/468 [00:59<00:08,  4.10it/s]"
     ]
    },
    {
     "name": "stdout",
     "output_type": "stream",
     "text": [
      "\n",
      "0: 384x640 7 persons, 4 cars, 1 motorcycle, 1 truck, 163.7ms\n",
      "Speed: 17.9ms preprocess, 163.7ms inference, 1.8ms postprocess per image at shape (1, 3, 384, 640)\n"
     ]
    },
    {
     "name": "stderr",
     "output_type": "stream",
     "text": [
      "Processing Frames:  93%|█████████▎| 434/468 [00:59<00:08,  4.20it/s]"
     ]
    },
    {
     "name": "stdout",
     "output_type": "stream",
     "text": [
      "\n",
      "0: 384x640 5 persons, 4 cars, 1 motorcycle, 1 truck, 130.5ms\n",
      "Speed: 23.2ms preprocess, 130.5ms inference, 16.4ms postprocess per image at shape (1, 3, 384, 640)\n"
     ]
    },
    {
     "name": "stderr",
     "output_type": "stream",
     "text": [
      "Processing Frames:  93%|█████████▎| 435/468 [00:59<00:07,  4.26it/s]"
     ]
    },
    {
     "name": "stdout",
     "output_type": "stream",
     "text": [
      "\n",
      "0: 384x640 7 persons, 4 cars, 1 truck, 197.0ms\n",
      "Speed: 12.4ms preprocess, 197.0ms inference, 1.5ms postprocess per image at shape (1, 3, 384, 640)\n"
     ]
    },
    {
     "name": "stderr",
     "output_type": "stream",
     "text": [
      "Processing Frames:  93%|█████████▎| 436/468 [01:00<00:07,  4.15it/s]"
     ]
    },
    {
     "name": "stdout",
     "output_type": "stream",
     "text": [
      "\n",
      "0: 384x640 8 persons, 4 cars, 1 motorcycle, 1 truck, 1 traffic light, 222.9ms\n",
      "Speed: 15.7ms preprocess, 222.9ms inference, 3.3ms postprocess per image at shape (1, 3, 384, 640)\n"
     ]
    },
    {
     "name": "stderr",
     "output_type": "stream",
     "text": [
      "Processing Frames:  93%|█████████▎| 437/468 [01:00<00:07,  3.88it/s]"
     ]
    },
    {
     "name": "stdout",
     "output_type": "stream",
     "text": [
      "\n",
      "0: 384x640 7 persons, 3 cars, 2 motorcycles, 1 truck, 207.9ms\n",
      "Speed: 13.5ms preprocess, 207.9ms inference, 1.1ms postprocess per image at shape (1, 3, 384, 640)\n"
     ]
    },
    {
     "name": "stderr",
     "output_type": "stream",
     "text": [
      "Processing Frames:  94%|█████████▎| 438/468 [01:00<00:07,  3.84it/s]"
     ]
    },
    {
     "name": "stdout",
     "output_type": "stream",
     "text": [
      "\n",
      "0: 384x640 8 persons, 3 cars, 2 motorcycles, 1 truck, 267.8ms\n",
      "Speed: 14.0ms preprocess, 267.8ms inference, 1.3ms postprocess per image at shape (1, 3, 384, 640)\n"
     ]
    },
    {
     "name": "stderr",
     "output_type": "stream",
     "text": [
      "Processing Frames:  94%|█████████▍| 439/468 [01:00<00:08,  3.52it/s]"
     ]
    },
    {
     "name": "stdout",
     "output_type": "stream",
     "text": [
      "\n",
      "0: 384x640 8 persons, 3 cars, 3 motorcycles, 3 trucks, 223.4ms\n",
      "Speed: 8.2ms preprocess, 223.4ms inference, 6.8ms postprocess per image at shape (1, 3, 384, 640)\n"
     ]
    },
    {
     "name": "stderr",
     "output_type": "stream",
     "text": [
      "Processing Frames:  94%|█████████▍| 440/468 [01:01<00:08,  3.48it/s]"
     ]
    },
    {
     "name": "stdout",
     "output_type": "stream",
     "text": [
      "\n",
      "0: 384x640 7 persons, 4 cars, 1 motorcycle, 2 trucks, 141.7ms\n",
      "Speed: 4.4ms preprocess, 141.7ms inference, 1.3ms postprocess per image at shape (1, 3, 384, 640)\n"
     ]
    },
    {
     "name": "stderr",
     "output_type": "stream",
     "text": [
      "Processing Frames:  94%|█████████▍| 441/468 [01:01<00:06,  3.88it/s]"
     ]
    },
    {
     "name": "stdout",
     "output_type": "stream",
     "text": [
      "\n",
      "0: 384x640 8 persons, 4 cars, 2 motorcycles, 2 trucks, 130.9ms\n",
      "Speed: 3.4ms preprocess, 130.9ms inference, 1.0ms postprocess per image at shape (1, 3, 384, 640)\n"
     ]
    },
    {
     "name": "stderr",
     "output_type": "stream",
     "text": [
      "Processing Frames:  94%|█████████▍| 442/468 [01:01<00:06,  4.28it/s]"
     ]
    },
    {
     "name": "stdout",
     "output_type": "stream",
     "text": [
      "\n",
      "0: 384x640 7 persons, 4 cars, 3 motorcycles, 2 trucks, 171.9ms\n",
      "Speed: 6.7ms preprocess, 171.9ms inference, 0.7ms postprocess per image at shape (1, 3, 384, 640)\n"
     ]
    },
    {
     "name": "stderr",
     "output_type": "stream",
     "text": [
      "Processing Frames:  95%|█████████▍| 443/468 [01:01<00:05,  4.38it/s]"
     ]
    },
    {
     "name": "stdout",
     "output_type": "stream",
     "text": [
      "\n",
      "0: 384x640 7 persons, 5 cars, 3 motorcycles, 1 truck, 170.9ms\n",
      "Speed: 5.6ms preprocess, 170.9ms inference, 1.1ms postprocess per image at shape (1, 3, 384, 640)\n"
     ]
    },
    {
     "name": "stderr",
     "output_type": "stream",
     "text": [
      "Processing Frames:  95%|█████████▍| 444/468 [01:02<00:05,  4.47it/s]"
     ]
    },
    {
     "name": "stdout",
     "output_type": "stream",
     "text": [
      "\n",
      "0: 384x640 9 persons, 4 cars, 5 motorcycles, 1 truck, 160.2ms\n",
      "Speed: 2.1ms preprocess, 160.2ms inference, 1.1ms postprocess per image at shape (1, 3, 384, 640)\n"
     ]
    },
    {
     "name": "stderr",
     "output_type": "stream",
     "text": [
      "Processing Frames:  95%|█████████▌| 445/468 [01:02<00:04,  4.64it/s]"
     ]
    },
    {
     "name": "stdout",
     "output_type": "stream",
     "text": [
      "\n",
      "0: 384x640 9 persons, 3 cars, 5 motorcycles, 1 truck, 178.8ms\n",
      "Speed: 3.5ms preprocess, 178.8ms inference, 0.8ms postprocess per image at shape (1, 3, 384, 640)\n"
     ]
    },
    {
     "name": "stderr",
     "output_type": "stream",
     "text": [
      "Processing Frames:  95%|█████████▌| 446/468 [01:02<00:04,  4.61it/s]"
     ]
    },
    {
     "name": "stdout",
     "output_type": "stream",
     "text": [
      "\n",
      "0: 384x640 7 persons, 4 cars, 3 motorcycles, 1 truck, 272.4ms\n",
      "Speed: 7.6ms preprocess, 272.4ms inference, 1.0ms postprocess per image at shape (1, 3, 384, 640)\n"
     ]
    },
    {
     "name": "stderr",
     "output_type": "stream",
     "text": [
      "Processing Frames:  96%|█████████▌| 447/468 [01:02<00:05,  4.00it/s]"
     ]
    },
    {
     "name": "stdout",
     "output_type": "stream",
     "text": [
      "\n",
      "0: 384x640 10 persons, 5 cars, 4 motorcycles, 2 trucks, 1 traffic light, 226.5ms\n",
      "Speed: 10.3ms preprocess, 226.5ms inference, 0.9ms postprocess per image at shape (1, 3, 384, 640)\n"
     ]
    },
    {
     "name": "stderr",
     "output_type": "stream",
     "text": [
      "Processing Frames:  96%|█████████▌| 448/468 [01:03<00:05,  3.90it/s]"
     ]
    },
    {
     "name": "stdout",
     "output_type": "stream",
     "text": [
      "\n",
      "0: 384x640 9 persons, 5 cars, 5 motorcycles, 2 trucks, 106.7ms\n",
      "Speed: 16.5ms preprocess, 106.7ms inference, 1.6ms postprocess per image at shape (1, 3, 384, 640)\n"
     ]
    },
    {
     "name": "stderr",
     "output_type": "stream",
     "text": [
      "Processing Frames:  96%|█████████▌| 449/468 [01:03<00:04,  4.39it/s]"
     ]
    },
    {
     "name": "stdout",
     "output_type": "stream",
     "text": [
      "\n",
      "0: 384x640 10 persons, 4 cars, 5 motorcycles, 2 trucks, 128.6ms\n",
      "Speed: 4.3ms preprocess, 128.6ms inference, 1.6ms postprocess per image at shape (1, 3, 384, 640)\n"
     ]
    },
    {
     "name": "stderr",
     "output_type": "stream",
     "text": [
      "Processing Frames:  96%|█████████▌| 450/468 [01:03<00:03,  4.71it/s]"
     ]
    },
    {
     "name": "stdout",
     "output_type": "stream",
     "text": [
      "\n",
      "0: 384x640 9 persons, 5 cars, 5 motorcycles, 2 trucks, 164.1ms\n",
      "Speed: 18.2ms preprocess, 164.1ms inference, 2.0ms postprocess per image at shape (1, 3, 384, 640)\n"
     ]
    },
    {
     "name": "stderr",
     "output_type": "stream",
     "text": [
      "Processing Frames:  96%|█████████▋| 451/468 [01:03<00:03,  4.56it/s]"
     ]
    },
    {
     "name": "stdout",
     "output_type": "stream",
     "text": [
      "\n",
      "0: 384x640 9 persons, 3 cars, 6 motorcycles, 162.8ms\n",
      "Speed: 7.2ms preprocess, 162.8ms inference, 1.9ms postprocess per image at shape (1, 3, 384, 640)\n"
     ]
    },
    {
     "name": "stderr",
     "output_type": "stream",
     "text": [
      "Processing Frames:  97%|█████████▋| 452/468 [01:03<00:03,  4.56it/s]"
     ]
    },
    {
     "name": "stdout",
     "output_type": "stream",
     "text": [
      "\n",
      "0: 384x640 9 persons, 4 cars, 5 motorcycles, 1 truck, 131.2ms\n",
      "Speed: 18.8ms preprocess, 131.2ms inference, 3.7ms postprocess per image at shape (1, 3, 384, 640)\n"
     ]
    },
    {
     "name": "stderr",
     "output_type": "stream",
     "text": [
      "Processing Frames:  97%|█████████▋| 453/468 [01:04<00:03,  4.67it/s]"
     ]
    },
    {
     "name": "stdout",
     "output_type": "stream",
     "text": [
      "\n",
      "0: 384x640 9 persons, 5 cars, 3 motorcycles, 1 truck, 118.0ms\n",
      "Speed: 5.0ms preprocess, 118.0ms inference, 1.6ms postprocess per image at shape (1, 3, 384, 640)\n"
     ]
    },
    {
     "name": "stderr",
     "output_type": "stream",
     "text": [
      "Processing Frames:  97%|█████████▋| 454/468 [01:04<00:02,  5.05it/s]"
     ]
    },
    {
     "name": "stdout",
     "output_type": "stream",
     "text": [
      "\n",
      "0: 384x640 7 persons, 6 cars, 3 motorcycles, 2 trucks, 114.6ms\n",
      "Speed: 7.2ms preprocess, 114.6ms inference, 2.0ms postprocess per image at shape (1, 3, 384, 640)\n"
     ]
    },
    {
     "name": "stderr",
     "output_type": "stream",
     "text": [
      "Processing Frames:  97%|█████████▋| 455/468 [01:04<00:02,  5.29it/s]"
     ]
    },
    {
     "name": "stdout",
     "output_type": "stream",
     "text": [
      "\n",
      "0: 384x640 8 persons, 5 cars, 2 motorcycles, 2 trucks, 276.2ms\n",
      "Speed: 4.7ms preprocess, 276.2ms inference, 1.8ms postprocess per image at shape (1, 3, 384, 640)\n"
     ]
    },
    {
     "name": "stderr",
     "output_type": "stream",
     "text": [
      "Processing Frames:  97%|█████████▋| 456/468 [01:04<00:02,  4.35it/s]"
     ]
    },
    {
     "name": "stdout",
     "output_type": "stream",
     "text": [
      "\n",
      "0: 384x640 8 persons, 4 cars, 3 motorcycles, 1 truck, 108.6ms\n",
      "Speed: 4.7ms preprocess, 108.6ms inference, 1.1ms postprocess per image at shape (1, 3, 384, 640)\n"
     ]
    },
    {
     "name": "stderr",
     "output_type": "stream",
     "text": [
      "Processing Frames:  98%|█████████▊| 457/468 [01:04<00:02,  4.80it/s]"
     ]
    },
    {
     "name": "stdout",
     "output_type": "stream",
     "text": [
      "\n",
      "0: 384x640 8 persons, 4 cars, 2 motorcycles, 1 truck, 130.7ms\n",
      "Speed: 24.8ms preprocess, 130.7ms inference, 2.0ms postprocess per image at shape (1, 3, 384, 640)\n"
     ]
    },
    {
     "name": "stderr",
     "output_type": "stream",
     "text": [
      "Processing Frames:  98%|█████████▊| 458/468 [01:05<00:02,  4.84it/s]"
     ]
    },
    {
     "name": "stdout",
     "output_type": "stream",
     "text": [
      "\n",
      "0: 384x640 7 persons, 5 cars, 1 motorcycle, 1 truck, 157.9ms\n",
      "Speed: 4.5ms preprocess, 157.9ms inference, 5.6ms postprocess per image at shape (1, 3, 384, 640)\n"
     ]
    },
    {
     "name": "stderr",
     "output_type": "stream",
     "text": [
      "Processing Frames:  98%|█████████▊| 459/468 [01:05<00:01,  4.88it/s]"
     ]
    },
    {
     "name": "stdout",
     "output_type": "stream",
     "text": [
      "\n",
      "0: 384x640 6 persons, 4 cars, 2 motorcycles, 1 truck, 171.2ms\n",
      "Speed: 3.3ms preprocess, 171.2ms inference, 1.3ms postprocess per image at shape (1, 3, 384, 640)\n"
     ]
    },
    {
     "name": "stderr",
     "output_type": "stream",
     "text": [
      "Processing Frames:  98%|█████████▊| 460/468 [01:05<00:01,  4.85it/s]"
     ]
    },
    {
     "name": "stdout",
     "output_type": "stream",
     "text": [
      "\n",
      "0: 384x640 7 persons, 5 cars, 2 motorcycles, 1 truck, 143.0ms\n",
      "Speed: 19.0ms preprocess, 143.0ms inference, 1.1ms postprocess per image at shape (1, 3, 384, 640)\n"
     ]
    },
    {
     "name": "stderr",
     "output_type": "stream",
     "text": [
      "Processing Frames:  99%|█████████▊| 461/468 [01:05<00:01,  4.90it/s]"
     ]
    },
    {
     "name": "stdout",
     "output_type": "stream",
     "text": [
      "\n",
      "0: 384x640 6 persons, 4 cars, 3 motorcycles, 1 truck, 154.9ms\n",
      "Speed: 6.8ms preprocess, 154.9ms inference, 3.3ms postprocess per image at shape (1, 3, 384, 640)\n"
     ]
    },
    {
     "name": "stderr",
     "output_type": "stream",
     "text": [
      "Processing Frames:  99%|█████████▊| 462/468 [01:05<00:01,  4.85it/s]"
     ]
    },
    {
     "name": "stdout",
     "output_type": "stream",
     "text": [
      "\n",
      "0: 384x640 8 persons, 5 cars, 2 motorcycles, 1 truck, 151.6ms\n",
      "Speed: 10.5ms preprocess, 151.6ms inference, 0.9ms postprocess per image at shape (1, 3, 384, 640)\n"
     ]
    },
    {
     "name": "stderr",
     "output_type": "stream",
     "text": [
      "Processing Frames:  99%|█████████▉| 463/468 [01:06<00:01,  4.87it/s]"
     ]
    },
    {
     "name": "stdout",
     "output_type": "stream",
     "text": [
      "\n",
      "0: 384x640 8 persons, 6 cars, 2 motorcycles, 272.1ms\n",
      "Speed: 17.3ms preprocess, 272.1ms inference, 1.1ms postprocess per image at shape (1, 3, 384, 640)\n"
     ]
    },
    {
     "name": "stderr",
     "output_type": "stream",
     "text": [
      "Processing Frames:  99%|█████████▉| 464/468 [01:06<00:00,  4.13it/s]"
     ]
    },
    {
     "name": "stdout",
     "output_type": "stream",
     "text": [
      "\n",
      "0: 384x640 7 persons, 4 cars, 2 motorcycles, 2 trucks, 192.6ms\n",
      "Speed: 3.9ms preprocess, 192.6ms inference, 2.4ms postprocess per image at shape (1, 3, 384, 640)\n"
     ]
    },
    {
     "name": "stderr",
     "output_type": "stream",
     "text": [
      "Processing Frames:  99%|█████████▉| 465/468 [01:06<00:00,  4.14it/s]"
     ]
    },
    {
     "name": "stdout",
     "output_type": "stream",
     "text": [
      "\n",
      "0: 384x640 6 persons, 4 cars, 1 motorcycle, 1 truck, 95.9ms\n",
      "Speed: 5.1ms preprocess, 95.9ms inference, 4.1ms postprocess per image at shape (1, 3, 384, 640)\n"
     ]
    },
    {
     "name": "stderr",
     "output_type": "stream",
     "text": [
      "Processing Frames: 100%|█████████▉| 466/468 [01:06<00:00,  4.74it/s]"
     ]
    },
    {
     "name": "stdout",
     "output_type": "stream",
     "text": [
      "\n",
      "0: 384x640 8 persons, 4 cars, 1 motorcycle, 1 truck, 139.8ms\n",
      "Speed: 9.3ms preprocess, 139.8ms inference, 0.6ms postprocess per image at shape (1, 3, 384, 640)\n"
     ]
    },
    {
     "name": "stderr",
     "output_type": "stream",
     "text": [
      "Processing Frames: 100%|█████████▉| 467/468 [01:06<00:00,  4.93it/s]"
     ]
    },
    {
     "name": "stdout",
     "output_type": "stream",
     "text": [
      "\n",
      "0: 384x640 7 persons, 4 cars, 2 motorcycles, 1 truck, 176.5ms\n",
      "Speed: 26.8ms preprocess, 176.5ms inference, 1.1ms postprocess per image at shape (1, 3, 384, 640)\n"
     ]
    },
    {
     "name": "stderr",
     "output_type": "stream",
     "text": [
      "Processing Frames: 100%|██████████| 468/468 [01:07<00:00,  6.96it/s]\n",
      "Processing Plates: 100%|██████████| 11/11 [01:10<00:00,  6.42s/it]\n",
      "/home/maazi/Desktop/Fyp/ProjectsTesting/Dashboard Testing/sort/myvenv/lib/python3.12/site-packages/gradio/components/video.py:340: UserWarning: Video does not have browser-compatible container or codec. Converting to mp4.\n",
      "  warnings.warn(\n"
     ]
    }
   ],
   "source": [
    "\n",
    "\n",
    "class TrafficViolationSystem:\n",
    "    def __init__(self, config):\n",
    "        self.config = config\n",
    "        self.histograms = self.load_histograms()\n",
    "        self.model = YOLO('yolov8n.pt')\n",
    "        self.tracker = Sort(max_age=15, min_hits=3)\n",
    "        self.violations = []\n",
    "        self.red_light_intervals = []\n",
    "        self.current_red_interval = None\n",
    "        self.frame_buffer = []\n",
    "        self.plate_cache = {}\n",
    "        self.tracking_summary = defaultdict(dict)\n",
    "\n",
    "    def load_histograms(self):\n",
    "            histograms = {}\n",
    "            for label, path in self.config['histogram_files'].items():\n",
    "                with open(path, 'rb') as f:\n",
    "                    histograms[label] = pickle.load(f)\n",
    "            return histograms\n",
    "\n",
    "    def calculate_histogram(self, frame):\n",
    "        height, width = frame.shape[:2]\n",
    "        x_center, y_center, w, h = self.config['traffic_light_bbox']\n",
    "        x_min = int((x_center - w/2) * width)\n",
    "        x_max = int((x_center + w/2) * width)\n",
    "        y_min = int((y_center - h/2) * height)\n",
    "        y_max = int((y_center + h/2) * height)\n",
    "        \n",
    "        roi = frame[y_min:y_max, x_min:x_max]\n",
    "        hist = cv2.calcHist([roi], [0,1,2], None, [8,8,8], [0,256]*3)\n",
    "        return cv2.normalize(hist, hist).flatten()\n",
    "\n",
    "    def detect_traffic_light(self, frame):\n",
    "        frame_hist = self.calculate_histogram(frame)\n",
    "        best_match, best_score = None, -1\n",
    "        for label, hist in self.histograms.items():\n",
    "            score = cv2.compareHist(frame_hist, hist, cv2.HISTCMP_CORREL)\n",
    "            if score > best_score:\n",
    "                best_score, best_match = score, label\n",
    "        return best_match, best_score\n",
    "\n",
    "    def detect_vehicles(self, frame):\n",
    "        results = self.model(frame)\n",
    "        detections = []\n",
    "        for box in results[0].boxes.data:\n",
    "            x1, y1, x2, y2, conf, cls = map(float, box)\n",
    "            if int(cls) == 2:  # Car class\n",
    "                detections.append([x1, y1, x2, y2, conf])\n",
    "        return np.array(detections) if detections else np.empty((0, 5))\n",
    "\n",
    "    def is_within_violation_zone(self, x, y):\n",
    "        x_center, y_center, w, h = self.config['violation_zone_bbox']\n",
    "        x_min = int((x_center - w/2) * self.video_width)\n",
    "        x_max = int((x_center + w/2) * self.video_width)\n",
    "        y_min = int((y_center - h/2) * self.video_height)\n",
    "        y_max = int((y_center + h/2) * self.video_height)\n",
    "        return x_min <= x <= x_max and y_min <= y <= y_max\n",
    "\n",
    "    def track_violations(self, frame, frame_number):\n",
    "        detections = self.detect_vehicles(frame)\n",
    "        tracked_objs = self.tracker.update(detections)\n",
    "        \n",
    "        for obj in tracked_objs:\n",
    "            x1, y1, x2, y2, track_id = map(int, obj)\n",
    "            cx, cy = (x1+x2)//2, (y1+y2)//2\n",
    "            \n",
    "            if not self.is_within_violation_zone(cx, cy):\n",
    "                continue\n",
    "            \n",
    "            if track_id not in self.tracking_summary:\n",
    "                self.tracking_summary[track_id] = {\n",
    "                    'first_seen': frame_number,\n",
    "                    'last_seen': frame_number,\n",
    "                    'violation_frames': [],\n",
    "                    'plate_number': 'UNKNOWN',\n",
    "                    'bbox': (x1, y1, x2, y2)  # Store bounding box coordinates\n",
    "                }\n",
    "            else:\n",
    "                # Update the bounding box to the last known position\n",
    "                self.tracking_summary[track_id]['bbox'] = (x1, y1, x2, y2)\n",
    "            \n",
    "            self.tracking_summary[track_id]['last_seen'] = frame_number\n",
    "            self.tracking_summary[track_id]['violation_frames'].append(frame_number)\n",
    "            \n",
    "            cv2.rectangle(frame, (x1, y1), (x2, y2), (0,0,255), 2)\n",
    "            cv2.putText(frame, f\"ID: {track_id}\", (x1, y1-10), \n",
    "                    cv2.FONT_HERSHEY_SIMPLEX, 0.5, (0,0,255), 2)\n",
    "\n",
    "    def process_video(self):\n",
    "        cap = cv2.VideoCapture(self.config['input_video'])\n",
    "        self.video_width = int(cap.get(cv2.CAP_PROP_FRAME_WIDTH))\n",
    "        self.video_height = int(cap.get(cv2.CAP_PROP_FRAME_HEIGHT))\n",
    "        fps = cap.get(cv2.CAP_PROP_FPS)\n",
    "        total_frames = int(cap.get(cv2.CAP_PROP_FRAME_COUNT))\n",
    "        \n",
    "        writer = cv2.VideoWriter(self.config['output_video'], \n",
    "                            cv2.VideoWriter_fourcc(*'mp4v'), \n",
    "                            fps, (self.video_width, self.video_height))\n",
    "        \n",
    "        red_active = False\n",
    "        for frame_num in tqdm(range(total_frames), desc=\"Processing Frames\"):\n",
    "            ret, frame = cap.read()\n",
    "            if not ret: break\n",
    "            \n",
    "            light_status, _ = self.detect_traffic_light(frame)\n",
    "            \n",
    "            # Red light state management\n",
    "            if light_status == 'Red' and not red_active:\n",
    "                red_active = True\n",
    "                self.current_red_interval = {\n",
    "                    'start_frame': frame_num,\n",
    "                    'start_time': frame_num/fps,\n",
    "                    'end_frame': None,\n",
    "                    'end_time': None\n",
    "                }\n",
    "                self.frame_buffer = []\n",
    "            elif light_status != 'Red' and red_active:\n",
    "                red_active = False\n",
    "                self.current_red_interval['end_frame'] = frame_num\n",
    "                self.current_red_interval['end_time'] = frame_num/fps\n",
    "                self.red_light_intervals.append(self.current_red_interval)\n",
    "                self.save_redlight_clip()\n",
    "                self.frame_buffer = []\n",
    "            \n",
    "            if red_active:\n",
    "                self.track_violations(frame, frame_num)\n",
    "                self.frame_buffer.append(frame.copy())\n",
    "            \n",
    "            writer.write(frame)\n",
    "        \n",
    "        cap.release()\n",
    "        writer.release()\n",
    "        self.process_license_plates()\n",
    "        self.generate_output()\n",
    "\n",
    "    def save_redlight_clip(self):\n",
    "        if not self.frame_buffer:\n",
    "            return\n",
    "        \n",
    "        clip_path = os.path.join(\n",
    "            self.config['output_folder'],\n",
    "            f\"redlight_{len(self.red_light_intervals)}.mp4\"\n",
    "        )\n",
    "        \n",
    "        h, w = self.frame_buffer[0].shape[:2]\n",
    "        writer = cv2.VideoWriter(clip_path, cv2.VideoWriter_fourcc(*'mp4v'), \n",
    "                            self.config['output_fps'], (w, h))\n",
    "        for f in self.frame_buffer:\n",
    "            writer.write(f)\n",
    "        writer.release()\n",
    "\n",
    "    def process_license_plates(self):\n",
    "        api_key = self.config['plate_api_key']\n",
    "        for track_id, data in tqdm(self.tracking_summary.items(), desc=\"Processing Plates\"):\n",
    "            try:\n",
    "                if not data['violation_frames']:\n",
    "                    continue\n",
    "                    \n",
    "                frame_num = data['violation_frames'][0]\n",
    "                cap = cv2.VideoCapture(self.config['input_video'])\n",
    "                cap.set(cv2.CAP_PROP_POS_FRAMES, frame_num)\n",
    "                ret, frame = cap.read()\n",
    "                \n",
    "                if ret and 'bbox' in data:\n",
    "                    x1, y1, x2, y2 = data['bbox']\n",
    "                    # Add safety checks for bounding box coordinates\n",
    "                    x1 = max(0, x1)\n",
    "                    y1 = max(0, y1)\n",
    "                    x2 = min(frame.shape[1], x2)\n",
    "                    y2 = min(frame.shape[0], y2)\n",
    "                    \n",
    "                    if x2 > x1 and y2 > y1:\n",
    "                        cropped = frame[y1:y2, x1:x2]\n",
    "                        cv2.imwrite('temp.jpg', cropped)\n",
    "                        \n",
    "                        plate = self.recognize_plate('temp.jpg', api_key)\n",
    "                        data['plate_number'] = plate\n",
    "                    else:\n",
    "                        print(f\"Invalid bbox for track {track_id}: {data['bbox']}\")\n",
    "            except Exception as e:\n",
    "                print(f\"Error processing track {track_id}: {str(e)}\")\n",
    "            finally:\n",
    "                cap.release()\n",
    "\n",
    "    def recognize_plate(self, image_path, api_key, retries=3):\n",
    "        for _ in range(retries):\n",
    "            try:\n",
    "                with open(image_path, 'rb') as f:\n",
    "                    response = requests.post(\n",
    "                        'https://api.platerecognizer.com/v1/plate-reader/',\n",
    "                        files={'upload': f},\n",
    "                        headers={'Authorization': f'Token {api_key}'}\n",
    "                    )\n",
    "                if response.status_code == 200:\n",
    "                    results = response.json().get('results', [])\n",
    "                    return results[0]['plate'] if results else 'UNKNOWN'\n",
    "            except Exception as e:\n",
    "                time.sleep(2)\n",
    "        return 'UNKNOWN'\n",
    "\n",
    "    def generate_output(self):\n",
    "        output_data = {\n",
    "            'redlight_intervals': self.red_light_intervals,\n",
    "            'violations': []\n",
    "        }\n",
    "        \n",
    "        for track_id, data in self.tracking_summary.items():\n",
    "            output_data['violations'].append({\n",
    "                'track_id': track_id,\n",
    "                'plate_number': data['plate_number'],\n",
    "                'first_seen': data['first_seen'],\n",
    "                'last_seen': data['last_seen'],\n",
    "                'duration': (data['last_seen'] - data['first_seen'])/self.config['output_fps']\n",
    "            })\n",
    "        \n",
    "        with open(self.config['json_output'], 'w') as f:\n",
    "            json.dump(output_data, f, indent=2)\n",
    "\n",
    "def create_gradio_interface():\n",
    "    def process_video_wrapper(video_file):\n",
    "        \n",
    "        config = {\n",
    "            \"input_video\": video_file,\n",
    "            \"output_video\": \"output.mp4\",\n",
    "            \"output_folder\": \"violationClips\",\n",
    "            \"json_output\": \"violations.json\",\n",
    "            \"output_fps\": 25,\n",
    "            \"plate_api_key\": \"df9ea40d34e80d6149f57d04d8b1328d61920916\",\n",
    "            \"histogram_files\": {\n",
    "                \"Green\": \"./Histogram_Data/averaged_hist_Green.pkl\",\n",
    "                \"Red\": \"./Histogram_Data/averaged_hist_Red.pkl\",\n",
    "                \"Orange\": \"./Histogram_Data/averaged_hist_Orange.pkl\",\n",
    "                \"None\": \"./Histogram_Data/averaged_hist_None.pkl\"\n",
    "            },\n",
    "            \"traffic_light_bbox\": (0.485879, 0.577487, 0.016630, 0.051067),\n",
    "            \"violation_zone_bbox\": (0.901061, 0.730515, 0.197877, 0.199434)\n",
    "        }\n",
    "\n",
    "        # Initialize and process\n",
    "        system = TrafficViolationSystem(config)\n",
    "        system.process_video()\n",
    "\n",
    "        # Collect results\n",
    "        violation_clips = [os.path.join(config['output_folder'], f) \n",
    "                         for f in os.listdir(config['output_folder'])]\n",
    "        with open(config['json_output']) as f:\n",
    "            violation_data = json.load(f)\n",
    "\n",
    "        return violation_clips, config['output_video'], violation_data\n",
    "\n",
    "    with gr.Blocks(title=\"Traffic Violation Detection System\", theme=gr.themes.Soft()) as demo:\n",
    "        gr.Markdown(\"# 🚥 Automatic Traffic Violation Detection System\")\n",
    "        \n",
    "        with gr.Row():\n",
    "            with gr.Column(scale=2):\n",
    "                video_input = gr.Video(label=\"Upload Traffic Video\", sources=[\"upload\"])\n",
    "                process_btn = gr.Button(\"Analyze Video\", variant=\"primary\")\n",
    "                \n",
    "            with gr.Column(scale=3):\n",
    "                with gr.Tabs():\n",
    "                    with gr.TabItem(\"Violation Clips\"):\n",
    "                        clip_gallery = gr.Gallery(label=\"Detected Violations\", columns=3)\n",
    "                    with gr.TabItem(\"Processed Video\"):\n",
    "                        output_video = gr.Video(label=\"Annotated Video\")\n",
    "                    with gr.TabItem(\"Violation Data\"):\n",
    "                        json_output = gr.JSON(label=\"Violation Details\")\n",
    "        \n",
    "        process_btn.click(\n",
    "            fn=process_video_wrapper,\n",
    "            inputs=video_input,\n",
    "            outputs=[clip_gallery, output_video, json_output]\n",
    "        )\n",
    "\n",
    "    return demo\n",
    "\n",
    "if __name__ == \"__main__\":\n",
    "    demo = create_gradio_interface()\n",
    "    demo.launch(\n",
    "        server_name=\"0.0.0.0\",\n",
    "        server_port=7860,\n",
    "        share=True,\n",
    "        show_error=True\n",
    "    )"
   ]
  },
  {
   "cell_type": "markdown",
   "metadata": {},
   "source": [
    "The code by Saim for clipping only red light period "
   ]
  },
  {
   "cell_type": "code",
   "execution_count": 2,
   "metadata": {},
   "outputs": [
    {
     "name": "stdout",
     "output_type": "stream",
     "text": [
      "* Running on local URL:  http://127.0.0.1:7860\n",
      "* Running on public URL: https://22456e14144daac36c.gradio.live\n",
      "\n",
      "This share link expires in 72 hours. For free permanent hosting and GPU upgrades, run `gradio deploy` from the terminal in the working directory to deploy to Hugging Face Spaces (https://huggingface.co/spaces)\n"
     ]
    },
    {
     "data": {
      "text/html": [
       "<div><iframe src=\"https://22456e14144daac36c.gradio.live\" width=\"100%\" height=\"500\" allow=\"autoplay; camera; microphone; clipboard-read; clipboard-write;\" frameborder=\"0\" allowfullscreen></iframe></div>"
      ],
      "text/plain": [
       "<IPython.core.display.HTML object>"
      ]
     },
     "metadata": {},
     "output_type": "display_data"
    },
    {
     "name": "stdout",
     "output_type": "stream",
     "text": [
      "\n",
      "0: 384x640 11 persons, 9 cars, 5 motorcycles, 1 truck, 84.0ms\n",
      "Speed: 3.2ms preprocess, 84.0ms inference, 2.0ms postprocess per image at shape (1, 3, 384, 640)\n",
      "\n",
      "0: 384x640 7 persons, 9 cars, 3 motorcycles, 1 truck, 154.7ms\n",
      "Speed: 13.5ms preprocess, 154.7ms inference, 1.0ms postprocess per image at shape (1, 3, 384, 640)\n",
      "\n",
      "0: 384x640 10 persons, 10 cars, 5 motorcycles, 277.8ms\n",
      "Speed: 23.0ms preprocess, 277.8ms inference, 6.1ms postprocess per image at shape (1, 3, 384, 640)\n",
      "\n",
      "0: 384x640 6 persons, 11 cars, 3 motorcycles, 163.4ms\n",
      "Speed: 8.5ms preprocess, 163.4ms inference, 6.0ms postprocess per image at shape (1, 3, 384, 640)\n",
      "\n",
      "0: 384x640 6 persons, 7 cars, 3 motorcycles, 340.5ms\n",
      "Speed: 7.7ms preprocess, 340.5ms inference, 1.8ms postprocess per image at shape (1, 3, 384, 640)\n",
      "\n",
      "0: 384x640 11 persons, 9 cars, 3 motorcycles, 162.1ms\n",
      "Speed: 11.7ms preprocess, 162.1ms inference, 1.1ms postprocess per image at shape (1, 3, 384, 640)\n",
      "\n",
      "0: 384x640 12 persons, 7 cars, 3 motorcycles, 1 truck, 139.4ms\n",
      "Speed: 4.5ms preprocess, 139.4ms inference, 1.0ms postprocess per image at shape (1, 3, 384, 640)\n",
      "\n",
      "0: 384x640 8 persons, 9 cars, 2 motorcycles, 1 truck, 178.9ms\n",
      "Speed: 20.9ms preprocess, 178.9ms inference, 1.2ms postprocess per image at shape (1, 3, 384, 640)\n",
      "\n",
      "0: 384x640 9 persons, 7 cars, 2 motorcycles, 2 trucks, 305.1ms\n",
      "Speed: 17.9ms preprocess, 305.1ms inference, 0.9ms postprocess per image at shape (1, 3, 384, 640)\n",
      "\n",
      "0: 384x640 10 persons, 7 cars, 5 motorcycles, 2 trucks, 238.4ms\n",
      "Speed: 21.2ms preprocess, 238.4ms inference, 4.4ms postprocess per image at shape (1, 3, 384, 640)\n",
      "\n",
      "0: 384x640 9 persons, 8 cars, 4 motorcycles, 1 truck, 198.1ms\n",
      "Speed: 19.5ms preprocess, 198.1ms inference, 3.8ms postprocess per image at shape (1, 3, 384, 640)\n",
      "\n",
      "0: 384x640 11 persons, 7 cars, 3 motorcycles, 1 truck, 144.8ms\n",
      "Speed: 10.4ms preprocess, 144.8ms inference, 0.9ms postprocess per image at shape (1, 3, 384, 640)\n",
      "\n",
      "0: 384x640 10 persons, 7 cars, 2 motorcycles, 114.1ms\n",
      "Speed: 3.2ms preprocess, 114.1ms inference, 0.9ms postprocess per image at shape (1, 3, 384, 640)\n",
      "\n",
      "0: 384x640 9 persons, 8 cars, 2 motorcycles, 288.0ms\n",
      "Speed: 9.4ms preprocess, 288.0ms inference, 1.4ms postprocess per image at shape (1, 3, 384, 640)\n",
      "\n",
      "0: 384x640 8 persons, 8 cars, 2 motorcycles, 332.7ms\n",
      "Speed: 13.4ms preprocess, 332.7ms inference, 14.3ms postprocess per image at shape (1, 3, 384, 640)\n",
      "\n",
      "0: 384x640 11 persons, 7 cars, 1 motorcycle, 128.8ms\n",
      "Speed: 24.0ms preprocess, 128.8ms inference, 1.0ms postprocess per image at shape (1, 3, 384, 640)\n",
      "\n",
      "0: 384x640 11 persons, 6 cars, 1 motorcycle, 170.8ms\n",
      "Speed: 5.8ms preprocess, 170.8ms inference, 4.8ms postprocess per image at shape (1, 3, 384, 640)\n",
      "\n",
      "0: 384x640 9 persons, 6 cars, 3 motorcycles, 214.1ms\n",
      "Speed: 6.7ms preprocess, 214.1ms inference, 8.3ms postprocess per image at shape (1, 3, 384, 640)\n",
      "\n",
      "0: 384x640 14 persons, 6 cars, 2 motorcycles, 148.5ms\n",
      "Speed: 11.3ms preprocess, 148.5ms inference, 1.0ms postprocess per image at shape (1, 3, 384, 640)\n",
      "\n",
      "0: 384x640 12 persons, 6 cars, 1 motorcycle, 112.0ms\n",
      "Speed: 3.4ms preprocess, 112.0ms inference, 1.0ms postprocess per image at shape (1, 3, 384, 640)\n",
      "\n",
      "0: 384x640 9 persons, 6 cars, 1 motorcycle, 287.5ms\n",
      "Speed: 11.2ms preprocess, 287.5ms inference, 0.8ms postprocess per image at shape (1, 3, 384, 640)\n",
      "\n",
      "0: 384x640 9 persons, 6 cars, 1 motorcycle, 253.9ms\n",
      "Speed: 19.1ms preprocess, 253.9ms inference, 0.6ms postprocess per image at shape (1, 3, 384, 640)\n",
      "\n",
      "0: 384x640 9 persons, 1 bicycle, 5 cars, 2 motorcycles, 184.9ms\n",
      "Speed: 7.8ms preprocess, 184.9ms inference, 2.7ms postprocess per image at shape (1, 3, 384, 640)\n",
      "\n",
      "0: 384x640 9 persons, 5 cars, 2 motorcycles, 116.1ms\n",
      "Speed: 10.1ms preprocess, 116.1ms inference, 1.1ms postprocess per image at shape (1, 3, 384, 640)\n",
      "\n",
      "0: 384x640 9 persons, 5 cars, 3 motorcycles, 138.6ms\n",
      "Speed: 6.7ms preprocess, 138.6ms inference, 2.0ms postprocess per image at shape (1, 3, 384, 640)\n",
      "\n",
      "0: 384x640 10 persons, 4 cars, 2 motorcycles, 179.3ms\n",
      "Speed: 11.3ms preprocess, 179.3ms inference, 0.9ms postprocess per image at shape (1, 3, 384, 640)\n",
      "\n",
      "0: 384x640 9 persons, 5 cars, 1 motorcycle, 162.0ms\n",
      "Speed: 8.6ms preprocess, 162.0ms inference, 23.9ms postprocess per image at shape (1, 3, 384, 640)\n",
      "\n",
      "0: 384x640 10 persons, 6 cars, 2 motorcycles, 292.2ms\n",
      "Speed: 8.5ms preprocess, 292.2ms inference, 1.8ms postprocess per image at shape (1, 3, 384, 640)\n",
      "\n",
      "0: 384x640 9 persons, 7 cars, 1 motorcycle, 157.4ms\n",
      "Speed: 16.7ms preprocess, 157.4ms inference, 5.4ms postprocess per image at shape (1, 3, 384, 640)\n",
      "\n",
      "0: 384x640 8 persons, 5 cars, 1 motorcycle, 128.2ms\n",
      "Speed: 14.2ms preprocess, 128.2ms inference, 1.0ms postprocess per image at shape (1, 3, 384, 640)\n",
      "\n",
      "0: 384x640 8 persons, 5 cars, 1 motorcycle, 107.9ms\n",
      "Speed: 17.6ms preprocess, 107.9ms inference, 1.4ms postprocess per image at shape (1, 3, 384, 640)\n",
      "\n",
      "0: 384x640 9 persons, 6 cars, 1 motorcycle, 130.4ms\n",
      "Speed: 9.3ms preprocess, 130.4ms inference, 1.5ms postprocess per image at shape (1, 3, 384, 640)\n",
      "\n",
      "0: 384x640 8 persons, 6 cars, 213.6ms\n",
      "Speed: 15.3ms preprocess, 213.6ms inference, 1.2ms postprocess per image at shape (1, 3, 384, 640)\n",
      "\n",
      "0: 384x640 9 persons, 1 bicycle, 7 cars, 171.7ms\n",
      "Speed: 17.9ms preprocess, 171.7ms inference, 0.9ms postprocess per image at shape (1, 3, 384, 640)\n",
      "\n",
      "0: 384x640 11 persons, 9 cars, 98.0ms\n",
      "Speed: 6.5ms preprocess, 98.0ms inference, 0.9ms postprocess per image at shape (1, 3, 384, 640)\n",
      "\n",
      "0: 384x640 10 persons, 9 cars, 116.4ms\n",
      "Speed: 12.7ms preprocess, 116.4ms inference, 1.0ms postprocess per image at shape (1, 3, 384, 640)\n",
      "\n",
      "0: 384x640 8 persons, 9 cars, 1 truck, 214.6ms\n",
      "Speed: 19.0ms preprocess, 214.6ms inference, 2.0ms postprocess per image at shape (1, 3, 384, 640)\n",
      "\n",
      "0: 384x640 8 persons, 9 cars, 1 motorcycle, 193.0ms\n",
      "Speed: 16.8ms preprocess, 193.0ms inference, 2.3ms postprocess per image at shape (1, 3, 384, 640)\n",
      "\n",
      "0: 384x640 7 persons, 8 cars, 2 motorcycles, 89.9ms\n",
      "Speed: 20.3ms preprocess, 89.9ms inference, 0.9ms postprocess per image at shape (1, 3, 384, 640)\n",
      "\n",
      "0: 384x640 7 persons, 9 cars, 1 motorcycle, 1 truck, 113.9ms\n",
      "Speed: 5.0ms preprocess, 113.9ms inference, 1.1ms postprocess per image at shape (1, 3, 384, 640)\n",
      "\n",
      "0: 384x640 8 persons, 8 cars, 1 motorcycle, 1 truck, 100.6ms\n",
      "Speed: 5.2ms preprocess, 100.6ms inference, 1.0ms postprocess per image at shape (1, 3, 384, 640)\n",
      "\n",
      "0: 384x640 7 persons, 9 cars, 2 motorcycles, 1 truck, 264.1ms\n",
      "Speed: 7.8ms preprocess, 264.1ms inference, 3.2ms postprocess per image at shape (1, 3, 384, 640)\n",
      "\n",
      "0: 384x640 8 persons, 10 cars, 1 motorcycle, 1 truck, 101.4ms\n",
      "Speed: 7.4ms preprocess, 101.4ms inference, 0.9ms postprocess per image at shape (1, 3, 384, 640)\n",
      "\n",
      "0: 384x640 7 persons, 9 cars, 1 motorcycle, 1 truck, 88.7ms\n",
      "Speed: 6.7ms preprocess, 88.7ms inference, 0.8ms postprocess per image at shape (1, 3, 384, 640)\n",
      "\n",
      "0: 384x640 9 persons, 11 cars, 1 motorcycle, 2 trucks, 151.0ms\n",
      "Speed: 3.6ms preprocess, 151.0ms inference, 23.5ms postprocess per image at shape (1, 3, 384, 640)\n",
      "\n",
      "0: 384x640 9 persons, 10 cars, 1 motorcycle, 2 trucks, 213.3ms\n",
      "Speed: 22.0ms preprocess, 213.3ms inference, 1.7ms postprocess per image at shape (1, 3, 384, 640)\n",
      "\n",
      "0: 384x640 8 persons, 11 cars, 2 motorcycles, 2 trucks, 113.3ms\n",
      "Speed: 5.9ms preprocess, 113.3ms inference, 0.6ms postprocess per image at shape (1, 3, 384, 640)\n",
      "\n",
      "0: 384x640 7 persons, 11 cars, 1 motorcycle, 2 trucks, 88.5ms\n",
      "Speed: 8.7ms preprocess, 88.5ms inference, 0.9ms postprocess per image at shape (1, 3, 384, 640)\n",
      "\n",
      "0: 384x640 7 persons, 12 cars, 2 motorcycles, 2 trucks, 85.2ms\n",
      "Speed: 6.0ms preprocess, 85.2ms inference, 0.9ms postprocess per image at shape (1, 3, 384, 640)\n",
      "\n",
      "0: 384x640 7 persons, 9 cars, 2 motorcycles, 1 truck, 165.4ms\n",
      "Speed: 8.6ms preprocess, 165.4ms inference, 4.9ms postprocess per image at shape (1, 3, 384, 640)\n",
      "\n",
      "0: 384x640 7 persons, 7 cars, 1 truck, 264.6ms\n",
      "Speed: 20.6ms preprocess, 264.6ms inference, 0.8ms postprocess per image at shape (1, 3, 384, 640)\n",
      "\n",
      "0: 384x640 9 persons, 9 cars, 2 motorcycles, 2 trucks, 126.4ms\n",
      "Speed: 6.2ms preprocess, 126.4ms inference, 0.9ms postprocess per image at shape (1, 3, 384, 640)\n",
      "\n",
      "0: 384x640 8 persons, 8 cars, 2 trucks, 137.1ms\n",
      "Speed: 8.1ms preprocess, 137.1ms inference, 1.9ms postprocess per image at shape (1, 3, 384, 640)\n",
      "\n",
      "0: 384x640 8 persons, 8 cars, 2 motorcycles, 2 trucks, 170.0ms\n",
      "Speed: 10.9ms preprocess, 170.0ms inference, 1.1ms postprocess per image at shape (1, 3, 384, 640)\n",
      "\n",
      "0: 384x640 6 persons, 8 cars, 2 motorcycles, 1 truck, 190.0ms\n",
      "Speed: 24.8ms preprocess, 190.0ms inference, 3.8ms postprocess per image at shape (1, 3, 384, 640)\n",
      "\n",
      "0: 384x640 7 persons, 8 cars, 1 motorcycle, 1 truck, 116.9ms\n",
      "Speed: 11.9ms preprocess, 116.9ms inference, 1.0ms postprocess per image at shape (1, 3, 384, 640)\n",
      "\n",
      "0: 384x640 7 persons, 5 cars, 3 motorcycles, 1 truck, 104.3ms\n",
      "Speed: 6.9ms preprocess, 104.3ms inference, 0.9ms postprocess per image at shape (1, 3, 384, 640)\n",
      "\n",
      "0: 384x640 6 persons, 7 cars, 2 motorcycles, 1 truck, 105.3ms\n",
      "Speed: 6.3ms preprocess, 105.3ms inference, 2.8ms postprocess per image at shape (1, 3, 384, 640)\n",
      "\n",
      "0: 384x640 7 persons, 7 cars, 2 motorcycles, 2 trucks, 129.9ms\n",
      "Speed: 5.4ms preprocess, 129.9ms inference, 1.1ms postprocess per image at shape (1, 3, 384, 640)\n",
      "\n",
      "0: 384x640 5 persons, 9 cars, 1 motorcycle, 1 truck, 131.3ms\n",
      "Speed: 6.9ms preprocess, 131.3ms inference, 0.8ms postprocess per image at shape (1, 3, 384, 640)\n",
      "\n",
      "0: 384x640 6 persons, 6 cars, 1 truck, 124.2ms\n",
      "Speed: 3.7ms preprocess, 124.2ms inference, 6.5ms postprocess per image at shape (1, 3, 384, 640)\n",
      "\n",
      "0: 384x640 7 persons, 7 cars, 1 truck, 117.5ms\n",
      "Speed: 17.0ms preprocess, 117.5ms inference, 1.2ms postprocess per image at shape (1, 3, 384, 640)\n",
      "\n",
      "0: 384x640 7 persons, 7 cars, 1 truck, 102.3ms\n",
      "Speed: 5.6ms preprocess, 102.3ms inference, 6.2ms postprocess per image at shape (1, 3, 384, 640)\n",
      "\n",
      "0: 384x640 7 persons, 7 cars, 1 truck, 331.1ms\n",
      "Speed: 13.4ms preprocess, 331.1ms inference, 0.6ms postprocess per image at shape (1, 3, 384, 640)\n",
      "\n",
      "0: 384x640 9 persons, 8 cars, 1 truck, 147.2ms\n",
      "Speed: 7.5ms preprocess, 147.2ms inference, 4.0ms postprocess per image at shape (1, 3, 384, 640)\n",
      "\n",
      "0: 384x640 9 persons, 8 cars, 1 bus, 157.9ms\n",
      "Speed: 5.1ms preprocess, 157.9ms inference, 2.7ms postprocess per image at shape (1, 3, 384, 640)\n",
      "\n",
      "0: 384x640 8 persons, 8 cars, 1 bus, 95.1ms\n",
      "Speed: 8.2ms preprocess, 95.1ms inference, 1.2ms postprocess per image at shape (1, 3, 384, 640)\n",
      "\n",
      "0: 384x640 7 persons, 7 cars, 1 bus, 1 truck, 218.1ms\n",
      "Speed: 6.8ms preprocess, 218.1ms inference, 5.1ms postprocess per image at shape (1, 3, 384, 640)\n",
      "\n",
      "0: 384x640 6 persons, 8 cars, 1 bus, 1 truck, 182.6ms\n",
      "Speed: 17.4ms preprocess, 182.6ms inference, 1.5ms postprocess per image at shape (1, 3, 384, 640)\n",
      "\n",
      "0: 384x640 7 persons, 8 cars, 1 truck, 199.9ms\n",
      "Speed: 9.1ms preprocess, 199.9ms inference, 0.8ms postprocess per image at shape (1, 3, 384, 640)\n",
      "\n",
      "0: 384x640 6 persons, 9 cars, 1 truck, 98.6ms\n",
      "Speed: 4.3ms preprocess, 98.6ms inference, 1.1ms postprocess per image at shape (1, 3, 384, 640)\n",
      "\n",
      "0: 384x640 6 persons, 8 cars, 1 truck, 185.8ms\n",
      "Speed: 23.9ms preprocess, 185.8ms inference, 2.1ms postprocess per image at shape (1, 3, 384, 640)\n",
      "\n",
      "0: 384x640 6 persons, 5 cars, 1 truck, 122.9ms\n",
      "Speed: 10.7ms preprocess, 122.9ms inference, 3.2ms postprocess per image at shape (1, 3, 384, 640)\n",
      "\n",
      "0: 384x640 6 persons, 6 cars, 1 truck, 120.1ms\n",
      "Speed: 10.0ms preprocess, 120.1ms inference, 2.7ms postprocess per image at shape (1, 3, 384, 640)\n",
      "\n",
      "0: 384x640 6 persons, 6 cars, 1 truck, 128.9ms\n",
      "Speed: 3.8ms preprocess, 128.9ms inference, 1.1ms postprocess per image at shape (1, 3, 384, 640)\n",
      "\n",
      "0: 384x640 6 persons, 6 cars, 1 truck, 146.4ms\n",
      "Speed: 22.1ms preprocess, 146.4ms inference, 1.4ms postprocess per image at shape (1, 3, 384, 640)\n",
      "\n",
      "0: 384x640 5 persons, 6 cars, 1 truck, 251.2ms\n",
      "Speed: 17.6ms preprocess, 251.2ms inference, 2.1ms postprocess per image at shape (1, 3, 384, 640)\n",
      "\n",
      "0: 384x640 7 persons, 6 cars, 1 truck, 82.9ms\n",
      "Speed: 4.0ms preprocess, 82.9ms inference, 1.0ms postprocess per image at shape (1, 3, 384, 640)\n",
      "\n",
      "0: 384x640 6 persons, 7 cars, 2 trucks, 84.7ms\n",
      "Speed: 7.9ms preprocess, 84.7ms inference, 1.2ms postprocess per image at shape (1, 3, 384, 640)\n",
      "\n",
      "0: 384x640 6 persons, 8 cars, 1 bus, 1 truck, 203.5ms\n",
      "Speed: 17.3ms preprocess, 203.5ms inference, 1.0ms postprocess per image at shape (1, 3, 384, 640)\n",
      "\n",
      "0: 384x640 6 persons, 11 cars, 1 truck, 114.0ms\n",
      "Speed: 29.0ms preprocess, 114.0ms inference, 7.4ms postprocess per image at shape (1, 3, 384, 640)\n",
      "\n",
      "0: 384x640 6 persons, 11 cars, 1 truck, 174.3ms\n",
      "Speed: 17.9ms preprocess, 174.3ms inference, 1.9ms postprocess per image at shape (1, 3, 384, 640)\n",
      "\n",
      "0: 384x640 6 persons, 8 cars, 1 truck, 161.9ms\n",
      "Speed: 4.5ms preprocess, 161.9ms inference, 0.8ms postprocess per image at shape (1, 3, 384, 640)\n",
      "\n",
      "0: 384x640 7 persons, 7 cars, 1 truck, 156.4ms\n",
      "Speed: 20.7ms preprocess, 156.4ms inference, 0.9ms postprocess per image at shape (1, 3, 384, 640)\n",
      "\n",
      "0: 384x640 5 persons, 6 cars, 1 truck, 142.0ms\n",
      "Speed: 14.0ms preprocess, 142.0ms inference, 1.2ms postprocess per image at shape (1, 3, 384, 640)\n",
      "\n",
      "0: 384x640 8 persons, 6 cars, 1 truck, 88.5ms\n",
      "Speed: 7.3ms preprocess, 88.5ms inference, 2.3ms postprocess per image at shape (1, 3, 384, 640)\n",
      "\n",
      "0: 384x640 7 persons, 6 cars, 1 truck, 84.5ms\n",
      "Speed: 4.6ms preprocess, 84.5ms inference, 1.2ms postprocess per image at shape (1, 3, 384, 640)\n",
      "\n",
      "0: 384x640 9 persons, 7 cars, 1 truck, 123.4ms\n",
      "Speed: 6.8ms preprocess, 123.4ms inference, 1.1ms postprocess per image at shape (1, 3, 384, 640)\n",
      "\n",
      "0: 384x640 8 persons, 7 cars, 1 truck, 253.0ms\n",
      "Speed: 25.3ms preprocess, 253.0ms inference, 1.0ms postprocess per image at shape (1, 3, 384, 640)\n",
      "\n",
      "0: 384x640 8 persons, 8 cars, 1 truck, 119.4ms\n",
      "Speed: 11.2ms preprocess, 119.4ms inference, 1.1ms postprocess per image at shape (1, 3, 384, 640)\n",
      "\n",
      "0: 384x640 7 persons, 8 cars, 1 truck, 97.6ms\n",
      "Speed: 16.1ms preprocess, 97.6ms inference, 0.8ms postprocess per image at shape (1, 3, 384, 640)\n",
      "\n",
      "0: 384x640 7 persons, 7 cars, 1 truck, 100.6ms\n",
      "Speed: 6.9ms preprocess, 100.6ms inference, 1.2ms postprocess per image at shape (1, 3, 384, 640)\n",
      "\n",
      "0: 384x640 8 persons, 7 cars, 1 truck, 115.4ms\n",
      "Speed: 8.3ms preprocess, 115.4ms inference, 2.9ms postprocess per image at shape (1, 3, 384, 640)\n",
      "\n",
      "0: 384x640 8 persons, 7 cars, 1 truck, 155.0ms\n",
      "Speed: 8.3ms preprocess, 155.0ms inference, 1.1ms postprocess per image at shape (1, 3, 384, 640)\n",
      "\n",
      "0: 384x640 9 persons, 8 cars, 1 truck, 209.3ms\n",
      "Speed: 13.6ms preprocess, 209.3ms inference, 3.6ms postprocess per image at shape (1, 3, 384, 640)\n",
      "\n",
      "0: 384x640 6 persons, 8 cars, 1 truck, 94.5ms\n",
      "Speed: 3.1ms preprocess, 94.5ms inference, 1.0ms postprocess per image at shape (1, 3, 384, 640)\n",
      "\n",
      "0: 384x640 9 persons, 1 bicycle, 10 cars, 2 trucks, 111.7ms\n",
      "Speed: 3.3ms preprocess, 111.7ms inference, 1.1ms postprocess per image at shape (1, 3, 384, 640)\n",
      "\n",
      "0: 384x640 8 persons, 1 bicycle, 10 cars, 1 motorcycle, 2 trucks, 262.1ms\n",
      "Speed: 28.9ms preprocess, 262.1ms inference, 3.6ms postprocess per image at shape (1, 3, 384, 640)\n",
      "\n",
      "0: 384x640 7 persons, 7 cars, 1 motorcycle, 1 truck, 137.1ms\n",
      "Speed: 18.0ms preprocess, 137.1ms inference, 5.7ms postprocess per image at shape (1, 3, 384, 640)\n",
      "\n",
      "0: 384x640 8 persons, 7 cars, 1 truck, 103.4ms\n",
      "Speed: 9.3ms preprocess, 103.4ms inference, 1.4ms postprocess per image at shape (1, 3, 384, 640)\n",
      "\n",
      "0: 384x640 8 persons, 8 cars, 2 trucks, 81.5ms\n",
      "Speed: 2.6ms preprocess, 81.5ms inference, 0.9ms postprocess per image at shape (1, 3, 384, 640)\n",
      "\n",
      "0: 384x640 10 persons, 7 cars, 1 motorcycle, 1 truck, 135.7ms\n",
      "Speed: 6.2ms preprocess, 135.7ms inference, 1.5ms postprocess per image at shape (1, 3, 384, 640)\n",
      "\n",
      "0: 384x640 7 persons, 7 cars, 1 motorcycle, 1 truck, 128.3ms\n",
      "Speed: 10.0ms preprocess, 128.3ms inference, 1.5ms postprocess per image at shape (1, 3, 384, 640)\n",
      "\n",
      "0: 384x640 8 persons, 6 cars, 1 truck, 149.9ms\n",
      "Speed: 11.0ms preprocess, 149.9ms inference, 1.1ms postprocess per image at shape (1, 3, 384, 640)\n",
      "\n",
      "0: 384x640 10 persons, 9 cars, 1 truck, 153.3ms\n",
      "Speed: 10.8ms preprocess, 153.3ms inference, 2.9ms postprocess per image at shape (1, 3, 384, 640)\n",
      "\n",
      "0: 384x640 8 persons, 1 bicycle, 8 cars, 1 truck, 91.6ms\n",
      "Speed: 8.2ms preprocess, 91.6ms inference, 0.6ms postprocess per image at shape (1, 3, 384, 640)\n",
      "\n",
      "0: 384x640 7 persons, 8 cars, 1 truck, 111.2ms\n",
      "Speed: 3.5ms preprocess, 111.2ms inference, 3.0ms postprocess per image at shape (1, 3, 384, 640)\n",
      "\n",
      "0: 384x640 8 persons, 8 cars, 1 truck, 177.9ms\n",
      "Speed: 19.3ms preprocess, 177.9ms inference, 1.1ms postprocess per image at shape (1, 3, 384, 640)\n",
      "\n",
      "0: 384x640 8 persons, 7 cars, 2 trucks, 133.7ms\n",
      "Speed: 9.7ms preprocess, 133.7ms inference, 1.1ms postprocess per image at shape (1, 3, 384, 640)\n",
      "\n",
      "0: 384x640 8 persons, 7 cars, 1 truck, 97.7ms\n",
      "Speed: 4.7ms preprocess, 97.7ms inference, 1.1ms postprocess per image at shape (1, 3, 384, 640)\n",
      "\n",
      "0: 384x640 7 persons, 8 cars, 1 motorcycle, 2 trucks, 138.1ms\n",
      "Speed: 7.8ms preprocess, 138.1ms inference, 1.1ms postprocess per image at shape (1, 3, 384, 640)\n",
      "\n",
      "0: 384x640 6 persons, 8 cars, 1 motorcycle, 1 truck, 1 skateboard, 160.5ms\n",
      "Speed: 17.4ms preprocess, 160.5ms inference, 0.9ms postprocess per image at shape (1, 3, 384, 640)\n",
      "\n",
      "0: 384x640 7 persons, 7 cars, 1 motorcycle, 1 truck, 154.4ms\n",
      "Speed: 9.2ms preprocess, 154.4ms inference, 1.0ms postprocess per image at shape (1, 3, 384, 640)\n",
      "\n",
      "0: 384x640 8 persons, 1 bicycle, 8 cars, 1 truck, 108.2ms\n",
      "Speed: 5.1ms preprocess, 108.2ms inference, 1.6ms postprocess per image at shape (1, 3, 384, 640)\n",
      "\n",
      "0: 384x640 9 persons, 7 cars, 1 motorcycle, 1 truck, 124.5ms\n",
      "Speed: 6.5ms preprocess, 124.5ms inference, 0.7ms postprocess per image at shape (1, 3, 384, 640)\n",
      "\n",
      "0: 384x640 8 persons, 2 bicycles, 7 cars, 1 motorcycle, 1 truck, 80.0ms\n",
      "Speed: 2.5ms preprocess, 80.0ms inference, 1.6ms postprocess per image at shape (1, 3, 384, 640)\n",
      "\n",
      "0: 384x640 8 persons, 1 bicycle, 7 cars, 1 truck, 218.7ms\n",
      "Speed: 19.5ms preprocess, 218.7ms inference, 0.8ms postprocess per image at shape (1, 3, 384, 640)\n",
      "\n",
      "0: 384x640 8 persons, 1 bicycle, 7 cars, 1 motorcycle, 1 truck, 156.5ms\n",
      "Speed: 18.1ms preprocess, 156.5ms inference, 1.2ms postprocess per image at shape (1, 3, 384, 640)\n",
      "\n",
      "0: 384x640 9 persons, 8 cars, 1 motorcycle, 1 truck, 99.9ms\n",
      "Speed: 5.7ms preprocess, 99.9ms inference, 1.1ms postprocess per image at shape (1, 3, 384, 640)\n",
      "\n",
      "0: 384x640 7 persons, 9 cars, 1 motorcycle, 1 truck, 177.5ms\n",
      "Speed: 6.7ms preprocess, 177.5ms inference, 2.1ms postprocess per image at shape (1, 3, 384, 640)\n",
      "\n",
      "0: 384x640 7 persons, 8 cars, 1 motorcycle, 1 truck, 135.0ms\n",
      "Speed: 14.1ms preprocess, 135.0ms inference, 1.0ms postprocess per image at shape (1, 3, 384, 640)\n",
      "\n",
      "0: 384x640 8 persons, 7 cars, 1 motorcycle, 1 truck, 143.6ms\n",
      "Speed: 7.1ms preprocess, 143.6ms inference, 1.5ms postprocess per image at shape (1, 3, 384, 640)\n",
      "\n",
      "0: 384x640 6 persons, 8 cars, 2 motorcycles, 1 truck, 115.6ms\n",
      "Speed: 16.0ms preprocess, 115.6ms inference, 1.8ms postprocess per image at shape (1, 3, 384, 640)\n",
      "\n",
      "0: 384x640 9 persons, 7 cars, 3 motorcycles, 1 truck, 117.7ms\n",
      "Speed: 9.1ms preprocess, 117.7ms inference, 1.1ms postprocess per image at shape (1, 3, 384, 640)\n",
      "\n",
      "0: 384x640 9 persons, 8 cars, 1 motorcycle, 1 truck, 81.5ms\n",
      "Speed: 2.2ms preprocess, 81.5ms inference, 1.1ms postprocess per image at shape (1, 3, 384, 640)\n",
      "\n",
      "0: 384x640 10 persons, 9 cars, 2 motorcycles, 1 truck, 273.2ms\n",
      "Speed: 8.8ms preprocess, 273.2ms inference, 1.1ms postprocess per image at shape (1, 3, 384, 640)\n",
      "\n",
      "0: 384x640 8 persons, 9 cars, 3 motorcycles, 1 truck, 301.1ms\n",
      "Speed: 6.8ms preprocess, 301.1ms inference, 7.5ms postprocess per image at shape (1, 3, 384, 640)\n",
      "\n",
      "0: 384x640 9 persons, 10 cars, 3 motorcycles, 1 truck, 94.6ms\n",
      "Speed: 6.4ms preprocess, 94.6ms inference, 1.3ms postprocess per image at shape (1, 3, 384, 640)\n",
      "\n",
      "0: 384x640 10 persons, 10 cars, 2 motorcycles, 1 truck, 149.9ms\n",
      "Speed: 7.8ms preprocess, 149.9ms inference, 1.2ms postprocess per image at shape (1, 3, 384, 640)\n",
      "\n",
      "0: 384x640 8 persons, 9 cars, 2 motorcycles, 1 truck, 153.8ms\n",
      "Speed: 8.8ms preprocess, 153.8ms inference, 1.1ms postprocess per image at shape (1, 3, 384, 640)\n",
      "\n",
      "0: 384x640 8 persons, 7 cars, 2 motorcycles, 1 truck, 103.2ms\n",
      "Speed: 14.6ms preprocess, 103.2ms inference, 0.7ms postprocess per image at shape (1, 3, 384, 640)\n",
      "\n",
      "0: 384x640 7 persons, 8 cars, 2 motorcycles, 1 truck, 93.3ms\n",
      "Speed: 5.6ms preprocess, 93.3ms inference, 1.1ms postprocess per image at shape (1, 3, 384, 640)\n",
      "\n",
      "0: 384x640 6 persons, 10 cars, 3 motorcycles, 2 trucks, 98.5ms\n",
      "Speed: 4.2ms preprocess, 98.5ms inference, 1.5ms postprocess per image at shape (1, 3, 384, 640)\n",
      "\n",
      "0: 384x640 7 persons, 7 cars, 2 motorcycles, 2 trucks, 170.5ms\n",
      "Speed: 6.7ms preprocess, 170.5ms inference, 0.8ms postprocess per image at shape (1, 3, 384, 640)\n",
      "\n",
      "0: 384x640 6 persons, 8 cars, 2 motorcycles, 2 trucks, 140.7ms\n",
      "Speed: 25.0ms preprocess, 140.7ms inference, 1.1ms postprocess per image at shape (1, 3, 384, 640)\n",
      "\n",
      "0: 384x640 8 persons, 7 cars, 2 motorcycles, 1 truck, 198.7ms\n",
      "Speed: 17.6ms preprocess, 198.7ms inference, 2.7ms postprocess per image at shape (1, 3, 384, 640)\n",
      "\n",
      "0: 384x640 7 persons, 1 bicycle, 8 cars, 3 motorcycles, 1 truck, 88.7ms\n",
      "Speed: 2.8ms preprocess, 88.7ms inference, 1.2ms postprocess per image at shape (1, 3, 384, 640)\n",
      "\n",
      "0: 384x640 8 persons, 1 bicycle, 7 cars, 3 motorcycles, 1 truck, 132.3ms\n",
      "Speed: 14.7ms preprocess, 132.3ms inference, 1.9ms postprocess per image at shape (1, 3, 384, 640)\n",
      "\n",
      "0: 384x640 9 persons, 9 cars, 3 motorcycles, 1 truck, 151.2ms\n",
      "Speed: 5.6ms preprocess, 151.2ms inference, 1.2ms postprocess per image at shape (1, 3, 384, 640)\n",
      "\n",
      "0: 384x640 8 persons, 1 bicycle, 9 cars, 2 motorcycles, 1 truck, 171.2ms\n",
      "Speed: 10.6ms preprocess, 171.2ms inference, 3.0ms postprocess per image at shape (1, 3, 384, 640)\n",
      "\n",
      "0: 384x640 11 persons, 8 cars, 3 motorcycles, 1 truck, 127.8ms\n",
      "Speed: 2.0ms preprocess, 127.8ms inference, 1.2ms postprocess per image at shape (1, 3, 384, 640)\n",
      "\n",
      "0: 384x640 10 persons, 9 cars, 3 motorcycles, 1 truck, 93.4ms\n",
      "Speed: 2.6ms preprocess, 93.4ms inference, 1.4ms postprocess per image at shape (1, 3, 384, 640)\n",
      "\n",
      "0: 384x640 11 persons, 8 cars, 4 motorcycles, 1 truck, 84.8ms\n",
      "Speed: 5.8ms preprocess, 84.8ms inference, 1.1ms postprocess per image at shape (1, 3, 384, 640)\n",
      "\n",
      "0: 384x640 11 persons, 7 cars, 2 motorcycles, 1 truck, 155.4ms\n",
      "Speed: 17.2ms preprocess, 155.4ms inference, 13.7ms postprocess per image at shape (1, 3, 384, 640)\n",
      "\n",
      "0: 384x640 8 persons, 6 cars, 2 motorcycles, 1 truck, 160.0ms\n",
      "Speed: 19.6ms preprocess, 160.0ms inference, 1.2ms postprocess per image at shape (1, 3, 384, 640)\n",
      "\n",
      "0: 384x640 9 persons, 5 cars, 2 motorcycles, 1 truck, 190.3ms\n",
      "Speed: 10.8ms preprocess, 190.3ms inference, 8.3ms postprocess per image at shape (1, 3, 384, 640)\n",
      "\n",
      "0: 384x640 11 persons, 5 cars, 3 motorcycles, 1 truck, 94.6ms\n",
      "Speed: 18.4ms preprocess, 94.6ms inference, 0.8ms postprocess per image at shape (1, 3, 384, 640)\n",
      "\n",
      "0: 384x640 11 persons, 5 cars, 3 motorcycles, 1 truck, 151.8ms\n",
      "Speed: 6.1ms preprocess, 151.8ms inference, 2.2ms postprocess per image at shape (1, 3, 384, 640)\n",
      "\n",
      "0: 384x640 9 persons, 7 cars, 2 motorcycles, 1 truck, 135.5ms\n",
      "Speed: 10.4ms preprocess, 135.5ms inference, 0.9ms postprocess per image at shape (1, 3, 384, 640)\n",
      "\n",
      "0: 384x640 7 persons, 6 cars, 3 motorcycles, 2 trucks, 144.5ms\n",
      "Speed: 10.2ms preprocess, 144.5ms inference, 1.0ms postprocess per image at shape (1, 3, 384, 640)\n",
      "\n",
      "0: 384x640 7 persons, 7 cars, 3 motorcycles, 2 trucks, 118.2ms\n",
      "Speed: 8.4ms preprocess, 118.2ms inference, 1.4ms postprocess per image at shape (1, 3, 384, 640)\n",
      "\n",
      "0: 384x640 6 persons, 6 cars, 3 motorcycles, 1 truck, 92.1ms\n",
      "Speed: 4.8ms preprocess, 92.1ms inference, 2.2ms postprocess per image at shape (1, 3, 384, 640)\n",
      "\n",
      "0: 384x640 6 persons, 7 cars, 3 motorcycles, 1 truck, 116.5ms\n",
      "Speed: 5.6ms preprocess, 116.5ms inference, 1.7ms postprocess per image at shape (1, 3, 384, 640)\n",
      "\n",
      "0: 384x640 6 persons, 6 cars, 3 motorcycles, 2 trucks, 211.4ms\n",
      "Speed: 18.2ms preprocess, 211.4ms inference, 3.1ms postprocess per image at shape (1, 3, 384, 640)\n",
      "\n",
      "0: 384x640 5 persons, 1 bicycle, 8 cars, 3 motorcycles, 1 truck, 270.5ms\n",
      "Speed: 11.7ms preprocess, 270.5ms inference, 1.3ms postprocess per image at shape (1, 3, 384, 640)\n",
      "\n",
      "0: 384x640 5 persons, 8 cars, 3 motorcycles, 1 truck, 77.5ms\n",
      "Speed: 4.7ms preprocess, 77.5ms inference, 1.1ms postprocess per image at shape (1, 3, 384, 640)\n",
      "\n",
      "0: 384x640 6 persons, 8 cars, 3 motorcycles, 96.8ms\n",
      "Speed: 2.3ms preprocess, 96.8ms inference, 1.1ms postprocess per image at shape (1, 3, 384, 640)\n",
      "\n",
      "0: 384x640 6 persons, 8 cars, 3 motorcycles, 134.7ms\n",
      "Speed: 9.6ms preprocess, 134.7ms inference, 0.9ms postprocess per image at shape (1, 3, 384, 640)\n",
      "\n",
      "0: 384x640 6 persons, 8 cars, 3 motorcycles, 1 truck, 135.2ms\n",
      "Speed: 8.8ms preprocess, 135.2ms inference, 1.9ms postprocess per image at shape (1, 3, 384, 640)\n",
      "\n",
      "0: 384x640 6 persons, 8 cars, 3 motorcycles, 148.4ms\n",
      "Speed: 24.1ms preprocess, 148.4ms inference, 1.8ms postprocess per image at shape (1, 3, 384, 640)\n",
      "\n",
      "0: 384x640 6 persons, 8 cars, 3 motorcycles, 108.7ms\n",
      "Speed: 8.1ms preprocess, 108.7ms inference, 1.2ms postprocess per image at shape (1, 3, 384, 640)\n",
      "\n",
      "0: 384x640 7 persons, 8 cars, 2 motorcycles, 93.1ms\n",
      "Speed: 7.7ms preprocess, 93.1ms inference, 1.5ms postprocess per image at shape (1, 3, 384, 640)\n",
      "\n",
      "0: 384x640 8 persons, 8 cars, 3 motorcycles, 118.0ms\n",
      "Speed: 10.8ms preprocess, 118.0ms inference, 1.8ms postprocess per image at shape (1, 3, 384, 640)\n",
      "\n",
      "0: 384x640 8 persons, 7 cars, 3 motorcycles, 1 truck, 249.2ms\n",
      "Speed: 12.8ms preprocess, 249.2ms inference, 3.8ms postprocess per image at shape (1, 3, 384, 640)\n",
      "\n",
      "0: 384x640 8 persons, 7 cars, 3 motorcycles, 1 truck, 313.1ms\n",
      "Speed: 12.8ms preprocess, 313.1ms inference, 1.1ms postprocess per image at shape (1, 3, 384, 640)\n",
      "\n",
      "0: 384x640 8 persons, 6 cars, 2 motorcycles, 1 truck, 125.7ms\n",
      "Speed: 5.1ms preprocess, 125.7ms inference, 7.6ms postprocess per image at shape (1, 3, 384, 640)\n",
      "\n",
      "0: 384x640 8 persons, 9 cars, 3 motorcycles, 1 truck, 193.7ms\n",
      "Speed: 9.5ms preprocess, 193.7ms inference, 3.5ms postprocess per image at shape (1, 3, 384, 640)\n",
      "\n",
      "0: 384x640 8 persons, 6 cars, 4 motorcycles, 1 truck, 211.9ms\n",
      "Speed: 8.5ms preprocess, 211.9ms inference, 2.2ms postprocess per image at shape (1, 3, 384, 640)\n",
      "\n",
      "0: 384x640 8 persons, 6 cars, 3 motorcycles, 1 truck, 150.0ms\n",
      "Speed: 5.7ms preprocess, 150.0ms inference, 1.3ms postprocess per image at shape (1, 3, 384, 640)\n",
      "\n",
      "0: 384x640 9 persons, 7 cars, 3 motorcycles, 1 truck, 124.3ms\n",
      "Speed: 6.0ms preprocess, 124.3ms inference, 1.1ms postprocess per image at shape (1, 3, 384, 640)\n",
      "\n",
      "0: 384x640 8 persons, 9 cars, 3 motorcycles, 1 truck, 210.5ms\n",
      "Speed: 9.8ms preprocess, 210.5ms inference, 6.3ms postprocess per image at shape (1, 3, 384, 640)\n",
      "\n",
      "0: 384x640 8 persons, 6 cars, 4 motorcycles, 1 truck, 184.1ms\n",
      "Speed: 13.0ms preprocess, 184.1ms inference, 4.4ms postprocess per image at shape (1, 3, 384, 640)\n",
      "\n",
      "0: 384x640 8 persons, 7 cars, 3 motorcycles, 1 truck, 191.9ms\n",
      "Speed: 15.7ms preprocess, 191.9ms inference, 0.9ms postprocess per image at shape (1, 3, 384, 640)\n",
      "\n",
      "0: 384x640 8 persons, 6 cars, 4 motorcycles, 1 truck, 93.3ms\n",
      "Speed: 6.1ms preprocess, 93.3ms inference, 1.0ms postprocess per image at shape (1, 3, 384, 640)\n",
      "\n",
      "0: 384x640 7 persons, 7 cars, 4 motorcycles, 114.7ms\n",
      "Speed: 4.8ms preprocess, 114.7ms inference, 0.6ms postprocess per image at shape (1, 3, 384, 640)\n",
      "\n",
      "0: 384x640 7 persons, 6 cars, 6 motorcycles, 125.1ms\n",
      "Speed: 3.0ms preprocess, 125.1ms inference, 1.3ms postprocess per image at shape (1, 3, 384, 640)\n",
      "\n",
      "0: 384x640 9 persons, 7 cars, 6 motorcycles, 178.9ms\n",
      "Speed: 12.9ms preprocess, 178.9ms inference, 1.2ms postprocess per image at shape (1, 3, 384, 640)\n",
      "\n",
      "0: 384x640 7 persons, 8 cars, 6 motorcycles, 128.1ms\n",
      "Speed: 14.8ms preprocess, 128.1ms inference, 3.2ms postprocess per image at shape (1, 3, 384, 640)\n",
      "\n",
      "0: 384x640 7 persons, 5 cars, 6 motorcycles, 101.6ms\n",
      "Speed: 2.2ms preprocess, 101.6ms inference, 1.2ms postprocess per image at shape (1, 3, 384, 640)\n",
      "\n",
      "0: 384x640 9 persons, 5 cars, 4 motorcycles, 195.8ms\n",
      "Speed: 5.9ms preprocess, 195.8ms inference, 0.8ms postprocess per image at shape (1, 3, 384, 640)\n",
      "\n",
      "0: 384x640 6 persons, 4 cars, 6 motorcycles, 114.7ms\n",
      "Speed: 6.8ms preprocess, 114.7ms inference, 1.0ms postprocess per image at shape (1, 3, 384, 640)\n",
      "\n",
      "0: 384x640 9 persons, 6 cars, 5 motorcycles, 190.0ms\n",
      "Speed: 16.5ms preprocess, 190.0ms inference, 1.3ms postprocess per image at shape (1, 3, 384, 640)\n",
      "\n",
      "0: 384x640 13 persons, 7 cars, 5 motorcycles, 182.2ms\n",
      "Speed: 4.5ms preprocess, 182.2ms inference, 2.5ms postprocess per image at shape (1, 3, 384, 640)\n",
      "\n",
      "0: 384x640 10 persons, 6 cars, 4 motorcycles, 98.6ms\n",
      "Speed: 10.3ms preprocess, 98.6ms inference, 1.0ms postprocess per image at shape (1, 3, 384, 640)\n",
      "\n",
      "0: 384x640 9 persons, 5 cars, 5 motorcycles, 102.4ms\n",
      "Speed: 5.7ms preprocess, 102.4ms inference, 1.7ms postprocess per image at shape (1, 3, 384, 640)\n",
      "\n",
      "0: 384x640 10 persons, 6 cars, 5 motorcycles, 119.1ms\n",
      "Speed: 4.4ms preprocess, 119.1ms inference, 1.4ms postprocess per image at shape (1, 3, 384, 640)\n",
      "\n",
      "0: 384x640 9 persons, 5 cars, 6 motorcycles, 1 truck, 213.0ms\n",
      "Speed: 29.6ms preprocess, 213.0ms inference, 1.4ms postprocess per image at shape (1, 3, 384, 640)\n",
      "\n",
      "0: 384x640 9 persons, 5 cars, 5 motorcycles, 1 truck, 128.5ms\n",
      "Speed: 18.5ms preprocess, 128.5ms inference, 1.5ms postprocess per image at shape (1, 3, 384, 640)\n",
      "\n",
      "0: 384x640 9 persons, 5 cars, 4 motorcycles, 1 truck, 99.0ms\n",
      "Speed: 4.7ms preprocess, 99.0ms inference, 1.1ms postprocess per image at shape (1, 3, 384, 640)\n",
      "\n",
      "0: 384x640 9 persons, 6 cars, 8 motorcycles, 1 truck, 99.8ms\n",
      "Speed: 12.4ms preprocess, 99.8ms inference, 1.1ms postprocess per image at shape (1, 3, 384, 640)\n",
      "\n",
      "0: 384x640 8 persons, 5 cars, 5 motorcycles, 1 truck, 121.6ms\n",
      "Speed: 3.7ms preprocess, 121.6ms inference, 1.4ms postprocess per image at shape (1, 3, 384, 640)\n",
      "\n",
      "0: 384x640 11 persons, 4 cars, 6 motorcycles, 266.5ms\n",
      "Speed: 9.2ms preprocess, 266.5ms inference, 1.2ms postprocess per image at shape (1, 3, 384, 640)\n",
      "\n",
      "0: 384x640 10 persons, 6 cars, 4 motorcycles, 1 truck, 250.3ms\n",
      "Speed: 16.2ms preprocess, 250.3ms inference, 1.1ms postprocess per image at shape (1, 3, 384, 640)\n",
      "\n",
      "0: 384x640 10 persons, 5 cars, 6 motorcycles, 2 trucks, 97.5ms\n",
      "Speed: 7.7ms preprocess, 97.5ms inference, 2.3ms postprocess per image at shape (1, 3, 384, 640)\n",
      "\n",
      "0: 384x640 10 persons, 5 cars, 7 motorcycles, 2 trucks, 103.1ms\n",
      "Speed: 2.4ms preprocess, 103.1ms inference, 1.6ms postprocess per image at shape (1, 3, 384, 640)\n",
      "\n",
      "0: 384x640 12 persons, 6 cars, 5 motorcycles, 1 truck, 179.0ms\n",
      "Speed: 8.8ms preprocess, 179.0ms inference, 1.4ms postprocess per image at shape (1, 3, 384, 640)\n",
      "\n",
      "0: 384x640 11 persons, 6 cars, 2 motorcycles, 1 truck, 134.6ms\n",
      "Speed: 19.8ms preprocess, 134.6ms inference, 0.8ms postprocess per image at shape (1, 3, 384, 640)\n",
      "\n",
      "0: 384x640 12 persons, 6 cars, 4 motorcycles, 2 trucks, 159.9ms\n",
      "Speed: 18.8ms preprocess, 159.9ms inference, 3.0ms postprocess per image at shape (1, 3, 384, 640)\n",
      "\n",
      "0: 384x640 13 persons, 6 cars, 5 motorcycles, 1 truck, 89.1ms\n",
      "Speed: 11.1ms preprocess, 89.1ms inference, 0.7ms postprocess per image at shape (1, 3, 384, 640)\n",
      "\n",
      "0: 384x640 10 persons, 7 cars, 1 truck, 105.4ms\n",
      "Speed: 2.0ms preprocess, 105.4ms inference, 2.0ms postprocess per image at shape (1, 3, 384, 640)\n",
      "\n",
      "0: 384x640 10 persons, 4 cars, 5 motorcycles, 1 truck, 232.4ms\n",
      "Speed: 4.8ms preprocess, 232.4ms inference, 2.2ms postprocess per image at shape (1, 3, 384, 640)\n",
      "\n",
      "0: 384x640 11 persons, 3 cars, 7 motorcycles, 175.5ms\n",
      "Speed: 19.6ms preprocess, 175.5ms inference, 2.7ms postprocess per image at shape (1, 3, 384, 640)\n",
      "\n",
      "0: 384x640 10 persons, 5 cars, 5 motorcycles, 158.1ms\n",
      "Speed: 17.6ms preprocess, 158.1ms inference, 1.8ms postprocess per image at shape (1, 3, 384, 640)\n",
      "\n",
      "0: 384x640 9 persons, 4 cars, 5 motorcycles, 140.8ms\n",
      "Speed: 18.2ms preprocess, 140.8ms inference, 2.5ms postprocess per image at shape (1, 3, 384, 640)\n",
      "\n",
      "0: 384x640 10 persons, 5 cars, 7 motorcycles, 94.5ms\n",
      "Speed: 5.7ms preprocess, 94.5ms inference, 1.6ms postprocess per image at shape (1, 3, 384, 640)\n",
      "\n",
      "0: 384x640 10 persons, 5 cars, 6 motorcycles, 126.0ms\n",
      "Speed: 3.2ms preprocess, 126.0ms inference, 1.2ms postprocess per image at shape (1, 3, 384, 640)\n",
      "\n",
      "0: 384x640 8 persons, 4 cars, 4 motorcycles, 137.2ms\n",
      "Speed: 4.9ms preprocess, 137.2ms inference, 1.3ms postprocess per image at shape (1, 3, 384, 640)\n",
      "\n",
      "0: 384x640 9 persons, 5 cars, 4 motorcycles, 147.9ms\n",
      "Speed: 14.4ms preprocess, 147.9ms inference, 1.3ms postprocess per image at shape (1, 3, 384, 640)\n",
      "\n",
      "0: 384x640 10 persons, 4 cars, 4 motorcycles, 173.4ms\n",
      "Speed: 14.4ms preprocess, 173.4ms inference, 1.1ms postprocess per image at shape (1, 3, 384, 640)\n",
      "\n",
      "0: 384x640 8 persons, 4 cars, 4 motorcycles, 100.3ms\n",
      "Speed: 6.8ms preprocess, 100.3ms inference, 1.1ms postprocess per image at shape (1, 3, 384, 640)\n",
      "\n",
      "0: 384x640 6 persons, 5 cars, 3 motorcycles, 120.1ms\n",
      "Speed: 7.8ms preprocess, 120.1ms inference, 1.6ms postprocess per image at shape (1, 3, 384, 640)\n",
      "\n",
      "0: 384x640 8 persons, 5 cars, 2 motorcycles, 192.8ms\n",
      "Speed: 21.0ms preprocess, 192.8ms inference, 1.3ms postprocess per image at shape (1, 3, 384, 640)\n",
      "\n",
      "0: 384x640 9 persons, 8 cars, 4 motorcycles, 145.1ms\n",
      "Speed: 11.5ms preprocess, 145.1ms inference, 1.2ms postprocess per image at shape (1, 3, 384, 640)\n",
      "\n",
      "0: 384x640 8 persons, 6 cars, 2 motorcycles, 81.5ms\n",
      "Speed: 9.0ms preprocess, 81.5ms inference, 1.2ms postprocess per image at shape (1, 3, 384, 640)\n",
      "\n",
      "0: 384x640 7 persons, 5 cars, 2 motorcycles, 99.7ms\n",
      "Speed: 2.8ms preprocess, 99.7ms inference, 1.6ms postprocess per image at shape (1, 3, 384, 640)\n",
      "\n",
      "0: 384x640 7 persons, 5 cars, 3 motorcycles, 131.4ms\n",
      "Speed: 3.9ms preprocess, 131.4ms inference, 26.6ms postprocess per image at shape (1, 3, 384, 640)\n",
      "\n",
      "0: 384x640 7 persons, 5 cars, 2 motorcycles, 2 trucks, 151.2ms\n",
      "Speed: 10.8ms preprocess, 151.2ms inference, 1.3ms postprocess per image at shape (1, 3, 384, 640)\n",
      "\n",
      "0: 384x640 7 persons, 4 cars, 1 motorcycle, 1 truck, 173.7ms\n",
      "Speed: 7.8ms preprocess, 173.7ms inference, 1.6ms postprocess per image at shape (1, 3, 384, 640)\n",
      "\n",
      "0: 384x640 5 persons, 4 cars, 1 motorcycle, 1 truck, 103.6ms\n",
      "Speed: 2.6ms preprocess, 103.6ms inference, 2.7ms postprocess per image at shape (1, 3, 384, 640)\n",
      "\n",
      "0: 384x640 7 persons, 4 cars, 1 truck, 89.5ms\n",
      "Speed: 3.4ms preprocess, 89.5ms inference, 2.0ms postprocess per image at shape (1, 3, 384, 640)\n",
      "\n",
      "0: 384x640 8 persons, 4 cars, 1 motorcycle, 1 truck, 102.4ms\n",
      "Speed: 10.1ms preprocess, 102.4ms inference, 1.2ms postprocess per image at shape (1, 3, 384, 640)\n",
      "\n",
      "0: 384x640 7 persons, 3 cars, 2 motorcycles, 1 truck, 342.0ms\n",
      "Speed: 13.7ms preprocess, 342.0ms inference, 1.7ms postprocess per image at shape (1, 3, 384, 640)\n",
      "\n",
      "0: 384x640 8 persons, 3 cars, 2 motorcycles, 1 truck, 180.8ms\n",
      "Speed: 10.1ms preprocess, 180.8ms inference, 2.2ms postprocess per image at shape (1, 3, 384, 640)\n",
      "\n",
      "0: 384x640 8 persons, 3 cars, 3 motorcycles, 3 trucks, 92.9ms\n",
      "Speed: 2.7ms preprocess, 92.9ms inference, 1.6ms postprocess per image at shape (1, 3, 384, 640)\n",
      "\n",
      "0: 384x640 7 persons, 4 cars, 1 motorcycle, 2 trucks, 105.3ms\n",
      "Speed: 3.0ms preprocess, 105.3ms inference, 1.9ms postprocess per image at shape (1, 3, 384, 640)\n",
      "\n",
      "0: 384x640 8 persons, 4 cars, 2 motorcycles, 2 trucks, 131.7ms\n",
      "Speed: 8.1ms preprocess, 131.7ms inference, 1.7ms postprocess per image at shape (1, 3, 384, 640)\n",
      "\n",
      "0: 384x640 7 persons, 4 cars, 3 motorcycles, 2 trucks, 180.0ms\n",
      "Speed: 7.7ms preprocess, 180.0ms inference, 1.5ms postprocess per image at shape (1, 3, 384, 640)\n",
      "\n",
      "0: 384x640 7 persons, 5 cars, 3 motorcycles, 1 truck, 135.5ms\n",
      "Speed: 19.9ms preprocess, 135.5ms inference, 1.3ms postprocess per image at shape (1, 3, 384, 640)\n",
      "\n",
      "0: 384x640 9 persons, 4 cars, 4 motorcycles, 1 truck, 80.7ms\n",
      "Speed: 3.1ms preprocess, 80.7ms inference, 1.1ms postprocess per image at shape (1, 3, 384, 640)\n",
      "\n",
      "0: 384x640 9 persons, 3 cars, 5 motorcycles, 1 truck, 103.3ms\n",
      "Speed: 6.6ms preprocess, 103.3ms inference, 1.2ms postprocess per image at shape (1, 3, 384, 640)\n",
      "\n",
      "0: 384x640 7 persons, 4 cars, 3 motorcycles, 1 truck, 113.0ms\n",
      "Speed: 6.6ms preprocess, 113.0ms inference, 1.8ms postprocess per image at shape (1, 3, 384, 640)\n",
      "\n",
      "0: 384x640 10 persons, 5 cars, 4 motorcycles, 2 trucks, 280.7ms\n",
      "Speed: 9.6ms preprocess, 280.7ms inference, 1.4ms postprocess per image at shape (1, 3, 384, 640)\n",
      "\n",
      "0: 384x640 9 persons, 5 cars, 5 motorcycles, 2 trucks, 159.2ms\n",
      "Speed: 5.9ms preprocess, 159.2ms inference, 1.3ms postprocess per image at shape (1, 3, 384, 640)\n",
      "\n",
      "0: 384x640 10 persons, 5 cars, 5 motorcycles, 2 trucks, 151.3ms\n",
      "Speed: 19.2ms preprocess, 151.3ms inference, 1.3ms postprocess per image at shape (1, 3, 384, 640)\n",
      "\n",
      "0: 384x640 9 persons, 5 cars, 5 motorcycles, 2 trucks, 92.4ms\n",
      "Speed: 2.8ms preprocess, 92.4ms inference, 3.0ms postprocess per image at shape (1, 3, 384, 640)\n",
      "\n",
      "0: 384x640 9 persons, 5 cars, 5 motorcycles, 97.7ms\n",
      "Speed: 14.4ms preprocess, 97.7ms inference, 1.5ms postprocess per image at shape (1, 3, 384, 640)\n",
      "\n",
      "0: 384x640 9 persons, 4 cars, 5 motorcycles, 1 truck, 146.0ms\n",
      "Speed: 4.4ms preprocess, 146.0ms inference, 1.1ms postprocess per image at shape (1, 3, 384, 640)\n",
      "\n",
      "0: 384x640 9 persons, 5 cars, 3 motorcycles, 1 truck, 106.4ms\n",
      "Speed: 4.0ms preprocess, 106.4ms inference, 6.2ms postprocess per image at shape (1, 3, 384, 640)\n",
      "\n",
      "0: 384x640 7 persons, 6 cars, 3 motorcycles, 2 trucks, 117.4ms\n",
      "Speed: 6.3ms preprocess, 117.4ms inference, 1.4ms postprocess per image at shape (1, 3, 384, 640)\n",
      "\n",
      "0: 384x640 8 persons, 5 cars, 2 motorcycles, 2 trucks, 88.4ms\n",
      "Speed: 7.4ms preprocess, 88.4ms inference, 1.1ms postprocess per image at shape (1, 3, 384, 640)\n",
      "\n",
      "0: 384x640 8 persons, 4 cars, 3 motorcycles, 1 truck, 185.8ms\n",
      "Speed: 2.3ms preprocess, 185.8ms inference, 0.9ms postprocess per image at shape (1, 3, 384, 640)\n",
      "\n",
      "0: 384x640 8 persons, 4 cars, 2 motorcycles, 1 truck, 80.7ms\n",
      "Speed: 4.5ms preprocess, 80.7ms inference, 1.8ms postprocess per image at shape (1, 3, 384, 640)\n",
      "\n",
      "0: 384x640 7 persons, 5 cars, 1 motorcycle, 1 truck, 266.5ms\n",
      "Speed: 10.9ms preprocess, 266.5ms inference, 2.5ms postprocess per image at shape (1, 3, 384, 640)\n",
      "\n",
      "0: 384x640 6 persons, 4 cars, 2 motorcycles, 1 truck, 164.2ms\n",
      "Speed: 18.7ms preprocess, 164.2ms inference, 1.2ms postprocess per image at shape (1, 3, 384, 640)\n",
      "\n",
      "0: 384x640 7 persons, 5 cars, 2 motorcycles, 1 truck, 98.7ms\n",
      "Speed: 2.8ms preprocess, 98.7ms inference, 1.1ms postprocess per image at shape (1, 3, 384, 640)\n",
      "\n",
      "0: 384x640 6 persons, 4 cars, 3 motorcycles, 1 truck, 90.3ms\n",
      "Speed: 6.9ms preprocess, 90.3ms inference, 1.1ms postprocess per image at shape (1, 3, 384, 640)\n",
      "\n",
      "0: 384x640 8 persons, 5 cars, 2 motorcycles, 1 truck, 96.7ms\n",
      "Speed: 3.6ms preprocess, 96.7ms inference, 1.6ms postprocess per image at shape (1, 3, 384, 640)\n",
      "\n",
      "0: 384x640 7 persons, 6 cars, 2 motorcycles, 1 truck, 131.1ms\n",
      "Speed: 10.6ms preprocess, 131.1ms inference, 1.1ms postprocess per image at shape (1, 3, 384, 640)\n",
      "\n",
      "0: 384x640 7 persons, 4 cars, 2 motorcycles, 2 trucks, 132.7ms\n",
      "Speed: 3.8ms preprocess, 132.7ms inference, 1.4ms postprocess per image at shape (1, 3, 384, 640)\n",
      "\n",
      "0: 384x640 6 persons, 4 cars, 1 motorcycle, 1 truck, 129.2ms\n",
      "Speed: 14.0ms preprocess, 129.2ms inference, 1.4ms postprocess per image at shape (1, 3, 384, 640)\n",
      "\n",
      "0: 384x640 8 persons, 4 cars, 1 motorcycle, 1 truck, 148.1ms\n",
      "Speed: 2.4ms preprocess, 148.1ms inference, 1.1ms postprocess per image at shape (1, 3, 384, 640)\n",
      "\n",
      "0: 384x640 7 persons, 4 cars, 2 motorcycles, 1 truck, 113.7ms\n",
      "Speed: 3.9ms preprocess, 113.7ms inference, 2.9ms postprocess per image at shape (1, 3, 384, 640)\n",
      "Processed video clip saved at ./red_output_video.mp4\n",
      "Total frames processed: 468, Frames saved: 252\n"
     ]
    },
    {
     "name": "stderr",
     "output_type": "stream",
     "text": [
      "/home/maazi/Desktop/Fyp/ProjectsTesting/Dashboard Testing/sort/myvenv/lib/python3.12/site-packages/gradio/components/video.py:340: UserWarning: Video does not have browser-compatible container or codec. Converting to mp4.\n",
      "  warnings.warn(\n"
     ]
    }
   ],
   "source": [
    "# Load histogram from a pickle file\n",
    "def load_histogram(file_path):\n",
    "    \"\"\"Load a histogram from a pickle file.\"\"\"\n",
    "    with open(file_path, 'rb') as file:\n",
    "        histogram = pickle.load(file)\n",
    "    return histogram\n",
    "\n",
    "# Calculate histogram for a region in the image\n",
    "def calculate_histogram(image, bbox):\n",
    "    \"\"\"Calculate and normalize the histogram for a region in the image.\"\"\"\n",
    "    height, width, _ = image.shape\n",
    "    x_center, y_center, box_width, box_height = bbox\n",
    "\n",
    "    # Convert normalized coordinates to pixel coordinates\n",
    "    x_min = int((x_center - box_width / 2) * width)\n",
    "    x_max = int((x_center + box_width / 2) * width)\n",
    "    y_min = int((y_center - box_height / 2) * height)\n",
    "    y_max = int((y_center + box_height / 2) * height)\n",
    "\n",
    "    # Crop the region of interest\n",
    "    roi = image[y_min:y_max, x_min:x_max]\n",
    "\n",
    "    # Calculate the histogram\n",
    "    histogram = cv2.calcHist([roi], [0, 1, 2], None, [8, 8, 8], [0, 256, 0, 256, 0, 256])\n",
    "    histogram = cv2.normalize(histogram, histogram).flatten()\n",
    "    return histogram\n",
    "\n",
    "# Compare histograms to determine the signal color\n",
    "def compare_histograms(frame_histogram, histograms):\n",
    "    \"\"\"Compare the frame histogram with a list of histograms using correlation.\"\"\"\n",
    "    best_match = None\n",
    "    best_score = -1\n",
    "\n",
    "    for label, histogram in histograms.items():\n",
    "        score = cv2.compareHist(frame_histogram, histogram, cv2.HISTCMP_CORREL)\n",
    "        if score > best_score:\n",
    "            best_score = score\n",
    "            best_match = label\n",
    "\n",
    "    return best_match, best_score\n",
    "\n",
    "# Draw a large, filled downward arrow above the detected object\n",
    "def draw_arrow(frame, x1, y1, x2, y2):\n",
    "    \"\"\"Draw a large, filled downward arrow above the detected object.\"\"\"\n",
    "    center_x = (x1 + x2) // 2\n",
    "    top_y = y1 - 150  # Position above the bounding box\n",
    "\n",
    "    # Define arrow dimensions\n",
    "    arrow_width = 50\n",
    "    arrow_height = 100\n",
    "    shaft_width = 20\n",
    "\n",
    "    # Coordinates for the arrowhead\n",
    "    arrow_tip = (center_x, y1)\n",
    "    left_corner = (center_x - arrow_width, top_y + arrow_height)\n",
    "    right_corner = (center_x + arrow_width, top_y + arrow_height)\n",
    "\n",
    "    # Coordinates for the shaft\n",
    "    shaft_top_left = (center_x - shaft_width, top_y)\n",
    "    shaft_top_right = (center_x + shaft_width, top_y)\n",
    "    shaft_bottom_left = (center_x - shaft_width, top_y + arrow_height)\n",
    "    shaft_bottom_right = (center_x + shaft_width, top_y + arrow_height)\n",
    "\n",
    "    # Combine polygons to form the arrow\n",
    "    arrow_head = np.array([arrow_tip, left_corner, right_corner], np.int32)\n",
    "    arrow_shaft = np.array([shaft_top_left, shaft_bottom_left, shaft_bottom_right, shaft_top_right], np.int32)\n",
    "\n",
    "    # Draw the filled polygons\n",
    "    color = (0, 0, 255)  # Red color for the arrow\n",
    "    cv2.fillPoly(frame, [arrow_head], color)\n",
    "    cv2.fillPoly(frame, [arrow_shaft], color)\n",
    "\n",
    "# Detect cars within the specified path region\n",
    "def detect_cars(frame, model, specified_path):\n",
    "    \"\"\"Detect cars only within the specified path region.\"\"\"\n",
    "    results = model(frame)  # Perform inference\n",
    "    detections = []\n",
    "\n",
    "    for box in results[0].boxes.data:  # Access bounding box data\n",
    "        x_min, y_min, x_max, y_max = map(int, box[:4])  # Extract coordinates\n",
    "        cls = int(box[5])  # Class ID\n",
    "        if cls == 2:  # Class ID for 'car'\n",
    "            # Check if the bounding box lies within the specified path\n",
    "            car_center_x = (x_min + x_max) // 2\n",
    "            car_center_y = (y_min + y_max) // 2\n",
    "            if is_within_path(car_center_x, car_center_y, specified_path, frame.shape):\n",
    "                detections.append((x_min, y_min, x_max, y_max))\n",
    "                draw_arrow(frame, x_min, y_min, x_max, y_max)  # Draw arrow on the car\n",
    "    return detections\n",
    "\n",
    "# Check if a car's center lies within the specified path\n",
    "def is_within_path(car_center_x, car_center_y, path_bbox, frame_shape):\n",
    "    \"\"\"Check if the car's center lies within the specified path.\"\"\"\n",
    "    height, width, _ = frame_shape\n",
    "    x_center, y_center, box_width, box_height = path_bbox\n",
    "\n",
    "    # Convert normalized path coordinates to pixel coordinates\n",
    "    x_min = int((x_center - box_width / 2) * width)\n",
    "    x_max = int((x_center + box_width / 2) * width)\n",
    "    y_min = int((y_center - box_height / 2) * height)\n",
    "    y_max = int((y_center + box_height / 2) * height)\n",
    "\n",
    "    return x_min <= car_center_x <= x_max and y_min <= car_center_y <= y_max\n",
    "\n",
    "# Process video and generate output\n",
    "def process_video(input_video_path, histogram_files, bbox, path_bbox, output_video_path):\n",
    "    \"\"\"\n",
    "    Process video, match histograms, detect cars, and output processed video.\n",
    "    Only frames with a \"Red\" signal are written to the output video.\n",
    "    \"\"\"\n",
    "    # Load the precomputed histograms\n",
    "    histograms = {label: load_histogram(file) for label, file in histogram_files.items()}\n",
    "\n",
    "    # Initialize YOLO model\n",
    "    model = YOLO('yolov8n.pt')  # Use YOLOv8 pretrained model\n",
    "\n",
    "    # Open the input video\n",
    "    video_cap = cv2.VideoCapture(input_video_path)\n",
    "    fps = int(video_cap.get(cv2.CAP_PROP_FPS))\n",
    "    frame_width = int(video_cap.get(cv2.CAP_PROP_FRAME_WIDTH))\n",
    "    frame_height = int(video_cap.get(cv2.CAP_PROP_FRAME_HEIGHT))\n",
    "    \n",
    "    # Set up the video writer for only the red-signal frames\n",
    "    fourcc = cv2.VideoWriter_fourcc(*'mp4v')\n",
    "    video_writer = cv2.VideoWriter(output_video_path, fourcc, fps, (frame_width, frame_height))\n",
    "\n",
    "    frame_count = 0\n",
    "    saved_frame_count = 0\n",
    "\n",
    "    while video_cap.isOpened():\n",
    "        ret, frame = video_cap.read()\n",
    "        if not ret:\n",
    "            break\n",
    "\n",
    "        # Calculate the histogram for the specified region\n",
    "        frame_histogram = calculate_histogram(frame, bbox)\n",
    "\n",
    "        # Compare histograms to determine the signal color\n",
    "        matched_label, score = compare_histograms(frame_histogram, histograms)\n",
    "\n",
    "        # Draw the bounding box for the region where histogram is calculated\n",
    "        height, width, _ = frame.shape\n",
    "        x_center, y_center, box_width, box_height = bbox\n",
    "        x_min = int((x_center - box_width / 2) * width)\n",
    "        x_max = int((x_center + box_width / 2) * width)\n",
    "        y_min = int((y_center - box_height / 2) * height)\n",
    "        y_max = int((y_center + box_height / 2) * height)\n",
    "\n",
    "        # Color mapping for visualization\n",
    "        color_map = {\n",
    "            \"Green\": (0, 255, 0),\n",
    "            \"None\": (255, 255, 255),\n",
    "            \"Orange\": (0, 165, 255),\n",
    "            \"Red\": (0, 0, 255)\n",
    "        }\n",
    "        color = color_map.get(matched_label, (255, 255, 255))  # Default to white if label not found\n",
    "        cv2.rectangle(frame, (x_min, y_min), (x_max, y_max), color, 2)\n",
    "        label_text = f\"{matched_label} ({score:.2f})\"\n",
    "        cv2.putText(frame, label_text, (x_min, y_max + 20), cv2.FONT_HERSHEY_SIMPLEX, 0.5, color, 2)\n",
    "\n",
    "        # Only process and save the frame if the signal is \"Red\"\n",
    "        if matched_label == \"Red\":\n",
    "            # Detect cars in the frame\n",
    "            car_detections = detect_cars(frame, model, path_bbox)\n",
    "            for (x1, y1, x2, y2) in car_detections:\n",
    "                cv2.rectangle(frame, (x1, y1), (x2, y2), (0, 0, 255), 2)  # Red for car detections\n",
    "\n",
    "            # Write the processed frame to the output video clip\n",
    "            video_writer.write(frame)\n",
    "            saved_frame_count += 1\n",
    "\n",
    "        frame_count += 1\n",
    "\n",
    "    video_cap.release()\n",
    "    video_writer.release()\n",
    "    print(f\"Processed video clip saved at {output_video_path}\")\n",
    "    print(f\"Total frames processed: {frame_count}, Frames saved: {saved_frame_count}\")\n",
    "\n",
    "# Gradio wrapper function\n",
    "def gradio_process_video(input_video):\n",
    "    \"\"\"Wrapper function for Gradio interface.\"\"\"\n",
    "    # Define the output video path\n",
    "    output_video_path = \"./red_output_video.mp4\"\n",
    "    \n",
    "    # Define parameters\n",
    "    histogram_files = {\n",
    "        \"Green\": \"./Histogram_Data/averaged_hist_Green.pkl\",\n",
    "        \"Red\": \"./Histogram_Data/averaged_hist_Red.pkl\",\n",
    "        \"Orange\": \"./Histogram_Data/averaged_hist_Orange.pkl\",\n",
    "        \"None\": \"./Histogram_Data/averaged_hist_None.pkl\"\n",
    "    }\n",
    "    bbox = (0.485879, 0.577487, 0.016630, 0.051067)  # Normalized coordinates for histogram calculation\n",
    "    path_bbox = (0.901061, 0.730515, 0.197877, 0.199434)  # Path coordinates for car detection\n",
    "\n",
    "    # Process the video\n",
    "    process_video(\n",
    "        input_video_path=input_video,\n",
    "        histogram_files=histogram_files,\n",
    "        bbox=bbox,\n",
    "        path_bbox=path_bbox,\n",
    "        output_video_path=output_video_path\n",
    "    )\n",
    "    \n",
    "    return output_video_path\n",
    "\n",
    "# Gradio UI\n",
    "with gr.Blocks(title=\"Automatic Traffic Violation Detection\") as demo:\n",
    "    gr.Markdown(\"# 🚦 Automatic Traffic Violation Detection System\")\n",
    "    \n",
    "    with gr.Row():\n",
    "        with gr.Column():\n",
    "            input_video = gr.Video(label=\"Upload Traffic Video\", sources=[\"upload\"])\n",
    "            process_btn = gr.Button(\"Detect Violations\", variant=\"primary\")\n",
    "        \n",
    "        with gr.Column():\n",
    "            output_video = gr.Video(label=\"Violations Clip (Red Light Period)\", autoplay=True)\n",
    "    \n",
    "    process_btn.click(\n",
    "        fn=gradio_process_video,\n",
    "        inputs=[input_video],\n",
    "        outputs=[output_video],\n",
    "        \n",
    "    )\n",
    "\n",
    "if __name__ == \"__main__\":\n",
    "    demo.launch(\n",
    "        share = True\n",
    "    )\n",
    "    "
   ]
  }
 ],
 "metadata": {
  "kernelspec": {
   "display_name": "myvenv",
   "language": "python",
   "name": "python3"
  },
  "language_info": {
   "codemirror_mode": {
    "name": "ipython",
    "version": 3
   },
   "file_extension": ".py",
   "mimetype": "text/x-python",
   "name": "python",
   "nbconvert_exporter": "python",
   "pygments_lexer": "ipython3",
   "version": "3.12.3"
  }
 },
 "nbformat": 4,
 "nbformat_minor": 2
}
