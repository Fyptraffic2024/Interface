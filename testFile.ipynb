{
 "cells": [
  {
   "cell_type": "code",
   "execution_count": null,
   "metadata": {},
   "outputs": [],
   "source": [
    "import gradio as gr\n",
    "import cv2\n",
    "import json\n",
    "\n",
    "# Your existing YOLOv8 + SORT pipeline\n",
    "def process_video(video_path):\n",
    "    # Process the video and generate violation clips and JSON data\n",
    "    violation_clips = [\"./violationClips/clip1.mp4\", \"./violationClips/clip2.mp4\"]  # Example\n",
    "    violation_data = [\n",
    "        {\"id\": 1, \"plate_number\": \"ABC123\", \"timestamp\": \"12:34:56\"},\n",
    "        {\"id\": 2, \"plate_number\": \"XYZ789\", \"timestamp\": \"12:35:10\"},\n",
    "    ]\n",
    "    return violation_clips, json.dumps(violation_data, indent=2)\n",
    "\n",
    "# Gradio Interface\n",
    "def gradio_interface(video):\n",
    "    violation_clips, violation_data = process_video(video)\n",
    "    return violation_clips, violation_data\n",
    "\n",
    "# Define inputs and outputs\n",
    "inputs = gr.Video(label=\"Upload Video\")\n",
    "outputs = [gr.Gallery(label=\"Violation Clips\"), gr.JSON(label=\"Violation Data\")]\n",
    "\n",
    "# Launch the interface\n",
    "interface = gr.Interface(\n",
    "    fn=gradio_interface,\n",
    "    inputs=inputs,\n",
    "    outputs=outputs,\n",
    "    title=\"Automatic Traffic Violation Detection\",\n",
    "    description=\"Upload a video to detect traffic violations.\",\n",
    ")\n",
    "\n",
    "interface.launch()"
   ]
  },
  {
   "cell_type": "code",
   "execution_count": 5,
   "metadata": {},
   "outputs": [],
   "source": [
    "import os\n",
    "import cv2\n",
    "import json\n",
    "import numpy as np\n",
    "import gradio as gr\n",
    "from ultralytics import YOLO\n",
    "from sort import *  # Make sure you have SORT installed"
   ]
  },
  {
   "cell_type": "code",
   "execution_count": null,
   "metadata": {},
   "outputs": [],
   "source": [
    "\n",
    "\n",
    "# Initialize YOLOv8 model and SORT tracker\n",
    "model = YOLO(\"yolov8n.pt\")\n",
    "tracker = Sort()\n",
    "\n",
    "# Configuration\n",
    "VIOLATION_CLIPS_DIR = \"./violationClips\"\n",
    "os.makedirs(VIOLATION_CLIPS_DIR, exist_ok=True)\n",
    "\n",
    "def detect_violations(video_path):\n",
    "    \"\"\"\n",
    "    Process video to detect red light violations\n",
    "    Returns: violation clips paths, violation data JSON\n",
    "    \"\"\"\n",
    "    cap = cv2.VideoCapture(video_path)\n",
    "    if not cap.isOpened():\n",
    "        raise ValueError(f\"Could not open video: {video_path}\")\n",
    "\n",
    "    # Video properties\n",
    "    fps = int(cap.get(cv2.CAP_PROP_FPS))\n",
    "    width = int(cap.get(cv2.CAP_PROP_FRAME_WIDTH))\n",
    "    height = int(cap.get(cv2.CAP_PROP_FRAME_HEIGHT))\n",
    "\n",
    "    # Violation tracking\n",
    "    violations = []\n",
    "    current_clip = None\n",
    "    clip_writer = None\n",
    "    violation_frames = []\n",
    "\n",
    "    # Define your red light region (example coordinates)\n",
    "    stop_line_y = int(height * 0.7)  # Adjust based on your video perspective\n",
    "    red_light_active = False  # Replace with actual red light detection logic\n",
    "\n",
    "    while cap.isOpened():\n",
    "        ret, frame = cap.read()\n",
    "        if not ret:\n",
    "            break\n",
    "\n",
    "        frame_number = int(cap.get(cv2.CAP_PROP_POS_FRAMES))\n",
    "\n",
    "        # Detect vehicles using YOLOv8\n",
    "        results = model.track(frame, persist=True, classes=[2, 3, 5, 7])  # Car, bike, bus, truck\n",
    "        boxes = results[0].boxes.xyxy.cpu().numpy()\n",
    "        track_ids = results[0].boxes.id.cpu().numpy() if results[0].boxes.id is not None else []\n",
    "\n",
    "        # Update SORT tracker\n",
    "        tracked_objects = tracker.update(boxes)\n",
    "\n",
    "        # Check for violations\n",
    "        if red_light_active:\n",
    "            for obj in tracked_objects:\n",
    "                x1, y1, x2, y2, obj_id = map(int, obj)\n",
    "                \n",
    "                # Check if vehicle crosses stop line\n",
    "                if y2 > stop_line_y:\n",
    "                    # Start recording violation clip\n",
    "                    if clip_writer is None:\n",
    "                        clip_path = os.path.join(VIOLATION_CLIPS_DIR, f\"violation_{obj_id}_{frame_number}.mp4\")\n",
    "                        clip_writer = cv2.VideoWriter(\n",
    "                            clip_path,\n",
    "                            cv2.VideoWriter_fourcc(*'mp4v'),\n",
    "                            fps,\n",
    "                            (width, height)\n",
    "                        )\n",
    "                        violation_frames = []\n",
    "\n",
    "                    # Save violation data\n",
    "                    violations.append({\n",
    "                        \"id\": int(obj_id),\n",
    "                        \"timestamp\": f\"{frame_number//fps//60:02}:{frame_number//fps%60:02}\",\n",
    "                        \"plate_number\": \"UNKNOWN\",  # Add license plate recognition here\n",
    "                        \"clip_path\": clip_path\n",
    "                    })\n",
    "\n",
    "        # Write frames to clip if recording\n",
    "        if clip_writer is not None:\n",
    "            clip_writer.write(frame)\n",
    "            violation_frames.append(frame_number)\n",
    "            \n",
    "            # Stop recording after 5 seconds\n",
    "            if len(violation_frames) > fps * 5:\n",
    "                clip_writer.release()\n",
    "                clip_writer = None\n",
    "\n",
    "    cap.release()\n",
    "    if clip_writer is not None:\n",
    "        clip_writer.release()\n",
    "\n",
    "    # Prepare output\n",
    "    violation_clips = [v[\"clip_path\"] for v in violations]\n",
    "    return violation_clips, json.dumps(violations, indent=2)\n",
    "\n",
    "# Gradio Interface\n",
    "with gr.Blocks(title=\"Traffic Violation System\") as demo:\n",
    "    gr.Markdown(\"# 🚦 Automatic Traffic Violation Detection System\")\n",
    "    \n",
    "    with gr.Row():\n",
    "        with gr.Column():\n",
    "            video_input = gr.Video(label=\"Upload Traffic Video\", sources=[\"upload\"])\n",
    "            process_btn = gr.Button(\"Process Video\")\n",
    "        \n",
    "        with gr.Column():\n",
    "            gallery = gr.Gallery(label=\"Violation Clips\", columns=3)\n",
    "            json_output = gr.JSON(label=\"Violation Data\")\n",
    "    \n",
    "    process_btn.click(\n",
    "        fn=detect_violations,\n",
    "        inputs=video_input,\n",
    "        outputs=[gallery, json_output]\n",
    "    )\n",
    "\n",
    "if __name__ == \"__main__\":\n",
    "    demo.launch(server_port=7861, share=True)"
   ]
  },
  {
   "cell_type": "markdown",
   "metadata": {},
   "source": [
    "The final running code but need some modification by Maazi"
   ]
  },
  {
   "cell_type": "code",
   "execution_count": 1,
   "metadata": {},
   "outputs": [],
   "source": [
    "import os\n",
    "import cv2\n",
    "import json\n",
    "import time\n",
    "import tempfile\n",
    "import gradio as gr\n",
    "import numpy as np\n",
    "from tqdm import tqdm\n",
    "from collections import defaultdict\n",
    "from ultralytics import YOLO\n",
    "from sort import *\n",
    "import pickle\n"
   ]
  },
  {
   "cell_type": "code",
   "execution_count": null,
   "metadata": {},
   "outputs": [],
   "source": [
    "\n",
    "\n",
    "class TrafficViolationSystem:\n",
    "    def __init__(self, config):\n",
    "        self.config = config\n",
    "        self.histograms = self.load_histograms()\n",
    "        self.model = YOLO('yolov8n.pt')\n",
    "        self.tracker = Sort(max_age=15, min_hits=3)\n",
    "        self.violations = []\n",
    "        self.red_light_intervals = []\n",
    "        self.current_red_interval = None\n",
    "        self.frame_buffer = []\n",
    "        self.plate_cache = {}\n",
    "        self.tracking_summary = defaultdict(dict)\n",
    "\n",
    "    def load_histograms(self):\n",
    "            histograms = {}\n",
    "            for label, path in self.config['histogram_files'].items():\n",
    "                with open(path, 'rb') as f:\n",
    "                    histograms[label] = pickle.load(f)\n",
    "            return histograms\n",
    "\n",
    "    def calculate_histogram(self, frame):\n",
    "        height, width = frame.shape[:2]\n",
    "        x_center, y_center, w, h = self.config['traffic_light_bbox']\n",
    "        x_min = int((x_center - w/2) * width)\n",
    "        x_max = int((x_center + w/2) * width)\n",
    "        y_min = int((y_center - h/2) * height)\n",
    "        y_max = int((y_center + h/2) * height)\n",
    "        \n",
    "        roi = frame[y_min:y_max, x_min:x_max]\n",
    "        hist = cv2.calcHist([roi], [0,1,2], None, [8,8,8], [0,256]*3)\n",
    "        return cv2.normalize(hist, hist).flatten()\n",
    "\n",
    "    def detect_traffic_light(self, frame):\n",
    "        frame_hist = self.calculate_histogram(frame)\n",
    "        best_match, best_score = None, -1\n",
    "        for label, hist in self.histograms.items():\n",
    "            score = cv2.compareHist(frame_hist, hist, cv2.HISTCMP_CORREL)\n",
    "            if score > best_score:\n",
    "                best_score, best_match = score, label\n",
    "        return best_match, best_score\n",
    "\n",
    "    def detect_vehicles(self, frame):\n",
    "        results = self.model(frame)\n",
    "        detections = []\n",
    "        for box in results[0].boxes.data:\n",
    "            x1, y1, x2, y2, conf, cls = map(float, box)\n",
    "            if int(cls) == 2:  # Car class\n",
    "                detections.append([x1, y1, x2, y2, conf])\n",
    "        return np.array(detections) if detections else np.empty((0, 5))\n",
    "\n",
    "    def is_within_violation_zone(self, x, y):\n",
    "        x_center, y_center, w, h = self.config['violation_zone_bbox']\n",
    "        x_min = int((x_center - w/2) * self.video_width)\n",
    "        x_max = int((x_center + w/2) * self.video_width)\n",
    "        y_min = int((y_center - h/2) * self.video_height)\n",
    "        y_max = int((y_center + h/2) * self.video_height)\n",
    "        return x_min <= x <= x_max and y_min <= y <= y_max\n",
    "\n",
    "    def track_violations(self, frame, frame_number):\n",
    "        detections = self.detect_vehicles(frame)\n",
    "        tracked_objs = self.tracker.update(detections)\n",
    "        \n",
    "        for obj in tracked_objs:\n",
    "            x1, y1, x2, y2, track_id = map(int, obj)\n",
    "            cx, cy = (x1+x2)//2, (y1+y2)//2\n",
    "            \n",
    "            if not self.is_within_violation_zone(cx, cy):\n",
    "                continue\n",
    "            \n",
    "            if track_id not in self.tracking_summary:\n",
    "                self.tracking_summary[track_id] = {\n",
    "                    'first_seen': frame_number,\n",
    "                    'last_seen': frame_number,\n",
    "                    'violation_frames': [],\n",
    "                    'plate_number': 'UNKNOWN',\n",
    "                    'bbox': (x1, y1, x2, y2)  # Store bounding box coordinates\n",
    "                }\n",
    "            else:\n",
    "                # Update the bounding box to the last known position\n",
    "                self.tracking_summary[track_id]['bbox'] = (x1, y1, x2, y2)\n",
    "            \n",
    "            self.tracking_summary[track_id]['last_seen'] = frame_number\n",
    "            self.tracking_summary[track_id]['violation_frames'].append(frame_number)\n",
    "            \n",
    "            cv2.rectangle(frame, (x1, y1), (x2, y2), (0,0,255), 2)\n",
    "            cv2.putText(frame, f\"ID: {track_id}\", (x1, y1-10), \n",
    "                    cv2.FONT_HERSHEY_SIMPLEX, 0.5, (0,0,255), 2)\n",
    "\n",
    "    def process_video(self):\n",
    "        cap = cv2.VideoCapture(self.config['input_video'])\n",
    "        self.video_width = int(cap.get(cv2.CAP_PROP_FRAME_WIDTH))\n",
    "        self.video_height = int(cap.get(cv2.CAP_PROP_FRAME_HEIGHT))\n",
    "        fps = cap.get(cv2.CAP_PROP_FPS)\n",
    "        total_frames = int(cap.get(cv2.CAP_PROP_FRAME_COUNT))\n",
    "        \n",
    "        writer = cv2.VideoWriter(self.config['output_video'], \n",
    "                            cv2.VideoWriter_fourcc(*'mp4v'), \n",
    "                            fps, (self.video_width, self.video_height))\n",
    "        \n",
    "        red_active = False\n",
    "        for frame_num in tqdm(range(total_frames), desc=\"Processing Frames\"):\n",
    "            ret, frame = cap.read()\n",
    "            if not ret: break\n",
    "            \n",
    "            light_status, _ = self.detect_traffic_light(frame)\n",
    "            \n",
    "            # Red light state management\n",
    "            if light_status == 'Red' and not red_active:\n",
    "                red_active = True\n",
    "                self.current_red_interval = {\n",
    "                    'start_frame': frame_num,\n",
    "                    'start_time': frame_num/fps,\n",
    "                    'end_frame': None,\n",
    "                    'end_time': None\n",
    "                }\n",
    "                self.frame_buffer = []\n",
    "            elif light_status != 'Red' and red_active:\n",
    "                red_active = False\n",
    "                self.current_red_interval['end_frame'] = frame_num\n",
    "                self.current_red_interval['end_time'] = frame_num/fps\n",
    "                self.red_light_intervals.append(self.current_red_interval)\n",
    "                self.save_redlight_clip()\n",
    "                self.frame_buffer = []\n",
    "            \n",
    "            if red_active:\n",
    "                self.track_violations(frame, frame_num)\n",
    "                self.frame_buffer.append(frame.copy())\n",
    "            \n",
    "            writer.write(frame)\n",
    "        \n",
    "        cap.release()\n",
    "        writer.release()\n",
    "        self.process_license_plates()\n",
    "        self.generate_output()\n",
    "\n",
    "    def save_redlight_clip(self):\n",
    "        if not self.frame_buffer:\n",
    "            return\n",
    "        \n",
    "        clip_path = os.path.join(\n",
    "            self.config['output_folder'],\n",
    "            f\"redlight_{len(self.red_light_intervals)}.mp4\"\n",
    "        )\n",
    "        \n",
    "        h, w = self.frame_buffer[0].shape[:2]\n",
    "        writer = cv2.VideoWriter(clip_path, cv2.VideoWriter_fourcc(*'mp4v'), \n",
    "                            self.config['output_fps'], (w, h))\n",
    "        for f in self.frame_buffer:\n",
    "            writer.write(f)\n",
    "        writer.release()\n",
    "\n",
    "    def process_license_plates(self):\n",
    "        api_key = self.config['plate_api_key']\n",
    "        for track_id, data in tqdm(self.tracking_summary.items(), desc=\"Processing Plates\"):\n",
    "            try:\n",
    "                if not data['violation_frames']:\n",
    "                    continue\n",
    "                    \n",
    "                frame_num = data['violation_frames'][0]\n",
    "                cap = cv2.VideoCapture(self.config['input_video'])\n",
    "                cap.set(cv2.CAP_PROP_POS_FRAMES, frame_num)\n",
    "                ret, frame = cap.read()\n",
    "                \n",
    "                if ret and 'bbox' in data:\n",
    "                    x1, y1, x2, y2 = data['bbox']\n",
    "                    # Add safety checks for bounding box coordinates\n",
    "                    x1 = max(0, x1)\n",
    "                    y1 = max(0, y1)\n",
    "                    x2 = min(frame.shape[1], x2)\n",
    "                    y2 = min(frame.shape[0], y2)\n",
    "                    \n",
    "                    if x2 > x1 and y2 > y1:\n",
    "                        cropped = frame[y1:y2, x1:x2]\n",
    "                        cv2.imwrite('temp.jpg', cropped)\n",
    "                        \n",
    "                        plate = self.recognize_plate('temp.jpg', api_key)\n",
    "                        data['plate_number'] = plate\n",
    "                    else:\n",
    "                        print(f\"Invalid bbox for track {track_id}: {data['bbox']}\")\n",
    "            except Exception as e:\n",
    "                print(f\"Error processing track {track_id}: {str(e)}\")\n",
    "            finally:\n",
    "                cap.release()\n",
    "\n",
    "    def recognize_plate(self, image_path, api_key, retries=3):\n",
    "        for _ in range(retries):\n",
    "            try:\n",
    "                with open(image_path, 'rb') as f:\n",
    "                    response = requests.post(\n",
    "                        'https://api.platerecognizer.com/v1/plate-reader/',\n",
    "                        files={'upload': f},\n",
    "                        headers={'Authorization': f'Token {api_key}'}\n",
    "                    )\n",
    "                if response.status_code == 200:\n",
    "                    results = response.json().get('results', [])\n",
    "                    return results[0]['plate'] if results else 'UNKNOWN'\n",
    "            except Exception as e:\n",
    "                time.sleep(2)\n",
    "        return 'UNKNOWN'\n",
    "\n",
    "    def generate_output(self):\n",
    "        output_data = {\n",
    "            'redlight_intervals': self.red_light_intervals,\n",
    "            'violations': []\n",
    "        }\n",
    "        \n",
    "        for track_id, data in self.tracking_summary.items():\n",
    "            output_data['violations'].append({\n",
    "                'track_id': track_id,\n",
    "                'plate_number': data['plate_number'],\n",
    "                'first_seen': data['first_seen'],\n",
    "                'last_seen': data['last_seen'],\n",
    "                'duration': (data['last_seen'] - data['first_seen'])/self.config['output_fps']\n",
    "            })\n",
    "        \n",
    "        with open(self.config['json_output'], 'w') as f:\n",
    "            json.dump(output_data, f, indent=2)\n",
    "\n",
    "def create_gradio_interface():\n",
    "    def process_video_wrapper(video_file):\n",
    "        # Create temporary working directory\n",
    "        # This is necessary because the TrafficViolationSystem \n",
    "        # class expects a folder to store violation clips\n",
    "        \n",
    "        \n",
    "        config = {\n",
    "            \"input_video\": video_file,\n",
    "            \"output_video\": \"output.mp4\",\n",
    "            \"output_folder\": \"violationClips\",\n",
    "            \"json_output\": \"violations.json\",\n",
    "            \"output_fps\": 25,\n",
    "            \"plate_api_key\": \"df9ea40d34e80d6149f57d04d8b1328d61920916\",\n",
    "            \"histogram_files\": {\n",
    "                \"Green\": \"./Histogram_Data/averaged_hist_Green.pkl\",\n",
    "                \"Red\": \"./Histogram_Data/averaged_hist_Red.pkl\",\n",
    "                \"Orange\": \"./Histogram_Data/averaged_hist_Orange.pkl\",\n",
    "                \"None\": \"./Histogram_Data/averaged_hist_None.pkl\"\n",
    "            },\n",
    "            \"traffic_light_bbox\": (0.485879, 0.577487, 0.016630, 0.051067),\n",
    "            \"violation_zone_bbox\": (0.901061, 0.730515, 0.197877, 0.199434)\n",
    "        }\n",
    "\n",
    "        # Initialize and process\n",
    "        system = TrafficViolationSystem(config)\n",
    "        system.process_video()\n",
    "\n",
    "        # Collect results\n",
    "        violation_clips = [os.path.join(config['output_folder'], f) \n",
    "                         for f in os.listdir(config['output_folder'])]\n",
    "        with open(config['json_output']) as f:\n",
    "            violation_data = json.load(f)\n",
    "\n",
    "        return violation_clips, config['output_video'], violation_data\n",
    "\n",
    "    with gr.Blocks(title=\"Traffic Violation Detection System\", theme=gr.themes.Soft()) as demo:\n",
    "        gr.Markdown(\"# 🚥 Automatic Traffic Violation Detection System\")\n",
    "        \n",
    "        with gr.Row():\n",
    "            with gr.Column(scale=2):\n",
    "                video_input = gr.Video(label=\"Upload Traffic Video\", sources=[\"upload\"])\n",
    "                process_btn = gr.Button(\"Analyze Video\", variant=\"primary\")\n",
    "                \n",
    "            with gr.Column(scale=3):\n",
    "                with gr.Tabs():\n",
    "                    with gr.TabItem(\"Violation Clips\"):\n",
    "                        clip_gallery = gr.Gallery(label=\"Detected Violations\", columns=3)\n",
    "                    with gr.TabItem(\"Processed Video\"):\n",
    "                        output_video = gr.Video(label=\"Annotated Video\")\n",
    "                    with gr.TabItem(\"Violation Data\"):\n",
    "                        json_output = gr.JSON(label=\"Violation Details\")\n",
    "        \n",
    "        process_btn.click(\n",
    "            fn=process_video_wrapper,\n",
    "            inputs=video_input,\n",
    "            outputs=[clip_gallery, output_video, json_output]\n",
    "        )\n",
    "\n",
    "    return demo\n",
    "\n",
    "if __name__ == \"__main__\":\n",
    "    demo = create_gradio_interface()\n",
    "    demo.launch(\n",
    "        server_name=\"0.0.0.0\",\n",
    "        server_port=7860,\n",
    "        share=False,\n",
    "        show_error=True\n",
    "    )"
   ]
  },
  {
   "cell_type": "markdown",
   "metadata": {},
   "source": [
    "The code by Saim for clipping violations"
   ]
  },
  {
   "cell_type": "code",
   "execution_count": 1,
   "metadata": {},
   "outputs": [
    {
     "name": "stderr",
     "output_type": "stream",
     "text": [
      "/home/maazi/Desktop/Fyp/ProjectsTesting/Dashboard Testing/sort/myvenv/lib/python3.12/site-packages/gradio/utils.py:1017: UserWarning: Expected 4 arguments for function <function create_gradio_interface.<locals>.process_video_wrapper at 0x74d1e29d9da0>, received 1.\n",
      "  warnings.warn(\n",
      "/home/maazi/Desktop/Fyp/ProjectsTesting/Dashboard Testing/sort/myvenv/lib/python3.12/site-packages/gradio/utils.py:1021: UserWarning: Expected at least 4 arguments for function <function create_gradio_interface.<locals>.process_video_wrapper at 0x74d1e29d9da0>, received 1.\n",
      "  warnings.warn(\n"
     ]
    },
    {
     "name": "stdout",
     "output_type": "stream",
     "text": [
      "* Running on local URL:  http://0.0.0.0:7861\n",
      "* Running on public URL: https://cde2391eecf077b39a.gradio.live\n",
      "\n",
      "This share link expires in 72 hours. For free permanent hosting and GPU upgrades, run `gradio deploy` from the terminal in the working directory to deploy to Hugging Face Spaces (https://huggingface.co/spaces)\n"
     ]
    },
    {
     "data": {
      "text/html": [
       "<div><iframe src=\"https://cde2391eecf077b39a.gradio.live\" width=\"100%\" height=\"500\" allow=\"autoplay; camera; microphone; clipboard-read; clipboard-write;\" frameborder=\"0\" allowfullscreen></iframe></div>"
      ],
      "text/plain": [
       "<IPython.core.display.HTML object>"
      ]
     },
     "metadata": {},
     "output_type": "display_data"
    },
    {
     "name": "stderr",
     "output_type": "stream",
     "text": [
      "/home/maazi/Desktop/Fyp/ProjectsTesting/Dashboard Testing/sort/myvenv/lib/python3.12/site-packages/gradio/helpers.py:968: UserWarning: Unexpected argument. Filling with None.\n",
      "  warnings.warn(\"Unexpected argument. Filling with None.\")\n",
      "Processing Frames:  30%|██▉       | 139/468 [00:03<00:09, 36.25it/s]"
     ]
    },
    {
     "name": "stdout",
     "output_type": "stream",
     "text": [
      "\n",
      "0: 384x640 8 cars, 5 motorcycles, 1 truck, 99.3ms\n",
      "Speed: 4.1ms preprocess, 99.3ms inference, 10.4ms postprocess per image at shape (1, 3, 384, 640)\n"
     ]
    },
    {
     "name": "stderr",
     "output_type": "stream",
     "text": [
      "Processing Frames:  46%|████▌     | 216/468 [00:08<00:07, 34.38it/s]"
     ]
    },
    {
     "name": "stdout",
     "output_type": "stream",
     "text": [
      "\n",
      "0: 384x640 5 cars, 216.3ms\n",
      "Speed: 9.8ms preprocess, 216.3ms inference, 7.5ms postprocess per image at shape (1, 3, 384, 640)\n",
      "\n",
      "0: 384x640 7 cars, 1 motorcycle, 135.0ms\n",
      "Speed: 7.8ms preprocess, 135.0ms inference, 4.1ms postprocess per image at shape (1, 3, 384, 640)\n",
      "\n",
      "0: 384x640 7 cars, 2 motorcycles, 128.6ms\n",
      "Speed: 19.6ms preprocess, 128.6ms inference, 2.4ms postprocess per image at shape (1, 3, 384, 640)\n"
     ]
    },
    {
     "name": "stderr",
     "output_type": "stream",
     "text": [
      "Processing Frames:  47%|████▋     | 220/468 [00:09<00:20, 12.31it/s]"
     ]
    },
    {
     "name": "stdout",
     "output_type": "stream",
     "text": [
      "\n",
      "0: 384x640 7 cars, 3 motorcycles, 150.0ms\n",
      "Speed: 9.1ms preprocess, 150.0ms inference, 2.3ms postprocess per image at shape (1, 3, 384, 640)\n",
      "\n",
      "0: 384x640 8 cars, 3 motorcycles, 197.4ms\n",
      "Speed: 17.3ms preprocess, 197.4ms inference, 1.2ms postprocess per image at shape (1, 3, 384, 640)\n",
      "\n",
      "0: 384x640 8 cars, 3 motorcycles, 100.3ms\n",
      "Speed: 16.5ms preprocess, 100.3ms inference, 0.7ms postprocess per image at shape (1, 3, 384, 640)\n"
     ]
    },
    {
     "name": "stderr",
     "output_type": "stream",
     "text": [
      "Processing Frames:  48%|████▊     | 223/468 [00:09<00:29,  8.34it/s]"
     ]
    },
    {
     "name": "stdout",
     "output_type": "stream",
     "text": [
      "\n",
      "0: 384x640 7 cars, 3 motorcycles, 1 truck, 99.4ms\n",
      "Speed: 2.9ms preprocess, 99.4ms inference, 2.1ms postprocess per image at shape (1, 3, 384, 640)\n",
      "\n",
      "0: 384x640 7 cars, 3 motorcycles, 1 truck, 185.4ms\n",
      "Speed: 8.4ms preprocess, 185.4ms inference, 1.0ms postprocess per image at shape (1, 3, 384, 640)\n"
     ]
    },
    {
     "name": "stderr",
     "output_type": "stream",
     "text": [
      "Processing Frames:  48%|████▊     | 225/468 [00:10<00:34,  6.98it/s]"
     ]
    },
    {
     "name": "stdout",
     "output_type": "stream",
     "text": [
      "\n",
      "0: 384x640 7 cars, 2 motorcycles, 1 truck, 206.1ms\n",
      "Speed: 5.9ms preprocess, 206.1ms inference, 1.2ms postprocess per image at shape (1, 3, 384, 640)\n",
      "\n",
      "0: 384x640 7 cars, 4 motorcycles, 2 trucks, 90.4ms\n",
      "Speed: 6.5ms preprocess, 90.4ms inference, 1.0ms postprocess per image at shape (1, 3, 384, 640)\n"
     ]
    },
    {
     "name": "stderr",
     "output_type": "stream",
     "text": [
      "Processing Frames:  49%|████▊     | 227/468 [00:10<00:39,  6.16it/s]"
     ]
    },
    {
     "name": "stdout",
     "output_type": "stream",
     "text": [
      "\n",
      "0: 384x640 8 cars, 4 motorcycles, 2 trucks, 105.9ms\n",
      "Speed: 3.4ms preprocess, 105.9ms inference, 1.1ms postprocess per image at shape (1, 3, 384, 640)\n",
      "\n",
      "0: 384x640 8 cars, 3 motorcycles, 1 truck, 124.9ms\n",
      "Speed: 5.9ms preprocess, 124.9ms inference, 1.1ms postprocess per image at shape (1, 3, 384, 640)\n"
     ]
    },
    {
     "name": "stderr",
     "output_type": "stream",
     "text": [
      "Processing Frames:  49%|████▉     | 229/468 [00:11<00:41,  5.80it/s]"
     ]
    },
    {
     "name": "stdout",
     "output_type": "stream",
     "text": [
      "\n",
      "0: 384x640 8 cars, 3 motorcycles, 1 truck, 117.0ms\n",
      "Speed: 5.3ms preprocess, 117.0ms inference, 1.3ms postprocess per image at shape (1, 3, 384, 640)\n"
     ]
    },
    {
     "name": "stderr",
     "output_type": "stream",
     "text": [
      "Processing Frames:  49%|████▉     | 230/468 [00:11<00:42,  5.66it/s]"
     ]
    },
    {
     "name": "stdout",
     "output_type": "stream",
     "text": [
      "\n",
      "0: 384x640 9 cars, 3 motorcycles, 101.6ms\n",
      "Speed: 4.3ms preprocess, 101.6ms inference, 5.7ms postprocess per image at shape (1, 3, 384, 640)\n"
     ]
    },
    {
     "name": "stderr",
     "output_type": "stream",
     "text": [
      "Processing Frames:  49%|████▉     | 231/468 [00:11<00:42,  5.60it/s]"
     ]
    },
    {
     "name": "stdout",
     "output_type": "stream",
     "text": [
      "\n",
      "0: 384x640 9 cars, 3 motorcycles, 294.3ms\n",
      "Speed: 8.7ms preprocess, 294.3ms inference, 1.0ms postprocess per image at shape (1, 3, 384, 640)\n"
     ]
    },
    {
     "name": "stderr",
     "output_type": "stream",
     "text": [
      "Processing Frames:  50%|████▉     | 232/468 [00:12<00:51,  4.61it/s]"
     ]
    },
    {
     "name": "stdout",
     "output_type": "stream",
     "text": [
      "\n",
      "0: 384x640 8 cars, 3 motorcycles, 1 truck, 229.6ms\n",
      "Speed: 9.2ms preprocess, 229.6ms inference, 0.9ms postprocess per image at shape (1, 3, 384, 640)\n"
     ]
    },
    {
     "name": "stderr",
     "output_type": "stream",
     "text": [
      "Processing Frames:  50%|████▉     | 233/468 [00:12<00:56,  4.19it/s]"
     ]
    },
    {
     "name": "stdout",
     "output_type": "stream",
     "text": [
      "\n",
      "0: 384x640 9 cars, 3 motorcycles, 91.7ms\n",
      "Speed: 1.9ms preprocess, 91.7ms inference, 2.4ms postprocess per image at shape (1, 3, 384, 640)\n"
     ]
    },
    {
     "name": "stderr",
     "output_type": "stream",
     "text": [
      "Processing Frames:  50%|█████     | 234/468 [00:12<00:52,  4.49it/s]"
     ]
    },
    {
     "name": "stdout",
     "output_type": "stream",
     "text": [
      "\n",
      "0: 384x640 9 cars, 3 motorcycles, 170.1ms\n",
      "Speed: 10.0ms preprocess, 170.1ms inference, 1.0ms postprocess per image at shape (1, 3, 384, 640)\n"
     ]
    },
    {
     "name": "stderr",
     "output_type": "stream",
     "text": [
      "Processing Frames:  50%|█████     | 235/468 [00:12<00:55,  4.21it/s]"
     ]
    },
    {
     "name": "stdout",
     "output_type": "stream",
     "text": [
      "\n",
      "0: 384x640 9 cars, 2 motorcycles, 148.7ms\n",
      "Speed: 20.6ms preprocess, 148.7ms inference, 0.7ms postprocess per image at shape (1, 3, 384, 640)\n"
     ]
    },
    {
     "name": "stderr",
     "output_type": "stream",
     "text": [
      "Processing Frames:  50%|█████     | 236/468 [00:13<00:57,  4.05it/s]"
     ]
    },
    {
     "name": "stdout",
     "output_type": "stream",
     "text": [
      "\n",
      "0: 384x640 9 cars, 1 motorcycle, 107.5ms\n",
      "Speed: 6.2ms preprocess, 107.5ms inference, 1.2ms postprocess per image at shape (1, 3, 384, 640)\n"
     ]
    },
    {
     "name": "stderr",
     "output_type": "stream",
     "text": [
      "Processing Frames:  51%|█████     | 237/468 [00:13<00:54,  4.20it/s]"
     ]
    },
    {
     "name": "stdout",
     "output_type": "stream",
     "text": [
      "\n",
      "0: 384x640 9 cars, 1 motorcycle, 172.3ms\n",
      "Speed: 6.5ms preprocess, 172.3ms inference, 1.5ms postprocess per image at shape (1, 3, 384, 640)\n"
     ]
    },
    {
     "name": "stderr",
     "output_type": "stream",
     "text": [
      "Processing Frames:  51%|█████     | 238/468 [00:13<00:56,  4.04it/s]"
     ]
    },
    {
     "name": "stdout",
     "output_type": "stream",
     "text": [
      "\n",
      "0: 384x640 9 cars, 1 motorcycle, 183.3ms\n",
      "Speed: 6.4ms preprocess, 183.3ms inference, 1.0ms postprocess per image at shape (1, 3, 384, 640)\n"
     ]
    },
    {
     "name": "stderr",
     "output_type": "stream",
     "text": [
      "Processing Frames:  51%|█████     | 239/468 [00:13<00:59,  3.87it/s]"
     ]
    },
    {
     "name": "stdout",
     "output_type": "stream",
     "text": [
      "\n",
      "0: 384x640 7 cars, 2 motorcycles, 85.5ms\n",
      "Speed: 2.5ms preprocess, 85.5ms inference, 1.2ms postprocess per image at shape (1, 3, 384, 640)\n"
     ]
    },
    {
     "name": "stderr",
     "output_type": "stream",
     "text": [
      "Processing Frames:  51%|█████▏    | 240/468 [00:14<00:54,  4.17it/s]"
     ]
    },
    {
     "name": "stdout",
     "output_type": "stream",
     "text": [
      "\n",
      "0: 384x640 7 cars, 2 motorcycles, 158.9ms\n",
      "Speed: 10.0ms preprocess, 158.9ms inference, 1.3ms postprocess per image at shape (1, 3, 384, 640)\n"
     ]
    },
    {
     "name": "stderr",
     "output_type": "stream",
     "text": [
      "Processing Frames:  51%|█████▏    | 241/468 [00:14<00:56,  4.03it/s]"
     ]
    },
    {
     "name": "stdout",
     "output_type": "stream",
     "text": [
      "\n",
      "0: 384x640 6 cars, 1 motorcycle, 152.8ms\n",
      "Speed: 13.0ms preprocess, 152.8ms inference, 1.0ms postprocess per image at shape (1, 3, 384, 640)\n"
     ]
    },
    {
     "name": "stderr",
     "output_type": "stream",
     "text": [
      "Processing Frames:  52%|█████▏    | 242/468 [00:14<00:58,  3.87it/s]"
     ]
    },
    {
     "name": "stdout",
     "output_type": "stream",
     "text": [
      "\n",
      "0: 384x640 6 cars, 1 motorcycle, 93.1ms\n",
      "Speed: 17.7ms preprocess, 93.1ms inference, 1.6ms postprocess per image at shape (1, 3, 384, 640)\n"
     ]
    },
    {
     "name": "stderr",
     "output_type": "stream",
     "text": [
      "Processing Frames:  52%|█████▏    | 243/468 [00:14<00:54,  4.12it/s]"
     ]
    },
    {
     "name": "stdout",
     "output_type": "stream",
     "text": [
      "\n",
      "0: 384x640 7 cars, 1 motorcycle, 226.2ms\n",
      "Speed: 19.5ms preprocess, 226.2ms inference, 1.3ms postprocess per image at shape (1, 3, 384, 640)\n"
     ]
    },
    {
     "name": "stderr",
     "output_type": "stream",
     "text": [
      "Processing Frames:  52%|█████▏    | 244/468 [00:15<01:01,  3.67it/s]"
     ]
    },
    {
     "name": "stdout",
     "output_type": "stream",
     "text": [
      "\n",
      "0: 384x640 7 cars, 1 motorcycle, 201.3ms\n",
      "Speed: 8.2ms preprocess, 201.3ms inference, 1.6ms postprocess per image at shape (1, 3, 384, 640)\n"
     ]
    },
    {
     "name": "stderr",
     "output_type": "stream",
     "text": [
      "Processing Frames:  52%|█████▏    | 245/468 [00:15<01:02,  3.58it/s]"
     ]
    },
    {
     "name": "stdout",
     "output_type": "stream",
     "text": [
      "\n",
      "0: 384x640 7 cars, 1 motorcycle, 143.8ms\n",
      "Speed: 6.1ms preprocess, 143.8ms inference, 0.8ms postprocess per image at shape (1, 3, 384, 640)\n"
     ]
    },
    {
     "name": "stderr",
     "output_type": "stream",
     "text": [
      "Processing Frames:  53%|█████▎    | 246/468 [00:15<00:57,  3.85it/s]"
     ]
    },
    {
     "name": "stdout",
     "output_type": "stream",
     "text": [
      "\n",
      "0: 384x640 7 cars, 1 motorcycle, 77.0ms\n",
      "Speed: 5.3ms preprocess, 77.0ms inference, 0.9ms postprocess per image at shape (1, 3, 384, 640)\n"
     ]
    },
    {
     "name": "stderr",
     "output_type": "stream",
     "text": [
      "Processing Frames:  53%|█████▎    | 247/468 [00:15<00:50,  4.39it/s]"
     ]
    },
    {
     "name": "stdout",
     "output_type": "stream",
     "text": [
      "\n",
      "0: 384x640 7 cars, 1 motorcycle, 215.9ms\n",
      "Speed: 12.4ms preprocess, 215.9ms inference, 1.5ms postprocess per image at shape (1, 3, 384, 640)\n"
     ]
    },
    {
     "name": "stderr",
     "output_type": "stream",
     "text": [
      "Processing Frames:  53%|█████▎    | 248/468 [00:16<00:56,  3.89it/s]"
     ]
    },
    {
     "name": "stdout",
     "output_type": "stream",
     "text": [
      "\n",
      "0: 384x640 8 cars, 120.4ms\n",
      "Speed: 7.6ms preprocess, 120.4ms inference, 1.2ms postprocess per image at shape (1, 3, 384, 640)\n"
     ]
    },
    {
     "name": "stderr",
     "output_type": "stream",
     "text": [
      "Processing Frames:  53%|█████▎    | 249/468 [00:16<00:53,  4.12it/s]"
     ]
    },
    {
     "name": "stdout",
     "output_type": "stream",
     "text": [
      "\n",
      "0: 384x640 8 cars, 168.3ms\n",
      "Speed: 9.0ms preprocess, 168.3ms inference, 1.8ms postprocess per image at shape (1, 3, 384, 640)\n"
     ]
    },
    {
     "name": "stderr",
     "output_type": "stream",
     "text": [
      "Processing Frames:  53%|█████▎    | 250/468 [00:16<00:54,  4.01it/s]"
     ]
    },
    {
     "name": "stdout",
     "output_type": "stream",
     "text": [
      "\n",
      "0: 384x640 8 cars, 155.3ms\n",
      "Speed: 7.5ms preprocess, 155.3ms inference, 1.1ms postprocess per image at shape (1, 3, 384, 640)\n"
     ]
    },
    {
     "name": "stderr",
     "output_type": "stream",
     "text": [
      "Processing Frames:  54%|█████▎    | 251/468 [00:16<00:54,  3.97it/s]"
     ]
    },
    {
     "name": "stdout",
     "output_type": "stream",
     "text": [
      "\n",
      "0: 384x640 7 cars, 97.2ms\n",
      "Speed: 2.4ms preprocess, 97.2ms inference, 0.7ms postprocess per image at shape (1, 3, 384, 640)\n"
     ]
    },
    {
     "name": "stderr",
     "output_type": "stream",
     "text": [
      "Processing Frames:  54%|█████▍    | 252/468 [00:17<00:49,  4.39it/s]"
     ]
    },
    {
     "name": "stdout",
     "output_type": "stream",
     "text": [
      "\n",
      "0: 384x640 7 cars, 209.0ms\n",
      "Speed: 8.8ms preprocess, 209.0ms inference, 2.0ms postprocess per image at shape (1, 3, 384, 640)\n"
     ]
    },
    {
     "name": "stderr",
     "output_type": "stream",
     "text": [
      "Processing Frames:  54%|█████▍    | 253/468 [00:17<00:54,  3.95it/s]"
     ]
    },
    {
     "name": "stdout",
     "output_type": "stream",
     "text": [
      "\n",
      "0: 384x640 7 cars, 219.2ms\n",
      "Speed: 12.3ms preprocess, 219.2ms inference, 1.5ms postprocess per image at shape (1, 3, 384, 640)\n"
     ]
    },
    {
     "name": "stderr",
     "output_type": "stream",
     "text": [
      "Processing Frames:  54%|█████▍    | 254/468 [00:17<00:58,  3.67it/s]"
     ]
    },
    {
     "name": "stdout",
     "output_type": "stream",
     "text": [
      "\n",
      "0: 384x640 8 cars, 142.0ms\n",
      "Speed: 8.5ms preprocess, 142.0ms inference, 1.3ms postprocess per image at shape (1, 3, 384, 640)\n"
     ]
    },
    {
     "name": "stderr",
     "output_type": "stream",
     "text": [
      "Processing Frames:  54%|█████▍    | 255/468 [00:17<00:55,  3.82it/s]"
     ]
    },
    {
     "name": "stdout",
     "output_type": "stream",
     "text": [
      "\n",
      "0: 384x640 8 cars, 129.4ms\n",
      "Speed: 10.8ms preprocess, 129.4ms inference, 1.6ms postprocess per image at shape (1, 3, 384, 640)\n"
     ]
    },
    {
     "name": "stderr",
     "output_type": "stream",
     "text": [
      "Processing Frames:  55%|█████▍    | 256/468 [00:18<00:53,  3.96it/s]"
     ]
    },
    {
     "name": "stdout",
     "output_type": "stream",
     "text": [
      "\n",
      "0: 384x640 7 cars, 1 truck, 158.7ms\n",
      "Speed: 8.2ms preprocess, 158.7ms inference, 2.0ms postprocess per image at shape (1, 3, 384, 640)\n"
     ]
    },
    {
     "name": "stderr",
     "output_type": "stream",
     "text": [
      "Processing Frames:  55%|█████▍    | 257/468 [00:18<00:54,  3.89it/s]"
     ]
    },
    {
     "name": "stdout",
     "output_type": "stream",
     "text": [
      "\n",
      "0: 384x640 8 cars, 1 truck, 134.4ms\n",
      "Speed: 17.2ms preprocess, 134.4ms inference, 1.1ms postprocess per image at shape (1, 3, 384, 640)\n"
     ]
    },
    {
     "name": "stderr",
     "output_type": "stream",
     "text": [
      "Processing Frames:  55%|█████▌    | 258/468 [00:18<00:52,  4.03it/s]"
     ]
    },
    {
     "name": "stdout",
     "output_type": "stream",
     "text": [
      "\n",
      "0: 384x640 9 cars, 1 motorcycle, 1 truck, 118.5ms\n",
      "Speed: 4.1ms preprocess, 118.5ms inference, 1.4ms postprocess per image at shape (1, 3, 384, 640)\n"
     ]
    },
    {
     "name": "stderr",
     "output_type": "stream",
     "text": [
      "Processing Frames:  55%|█████▌    | 259/468 [00:18<00:47,  4.38it/s]"
     ]
    },
    {
     "name": "stdout",
     "output_type": "stream",
     "text": [
      "\n",
      "0: 384x640 9 cars, 1 motorcycle, 1 truck, 110.4ms\n",
      "Speed: 5.1ms preprocess, 110.4ms inference, 1.1ms postprocess per image at shape (1, 3, 384, 640)\n"
     ]
    },
    {
     "name": "stderr",
     "output_type": "stream",
     "text": [
      "Processing Frames:  56%|█████▌    | 260/468 [00:18<00:45,  4.57it/s]"
     ]
    },
    {
     "name": "stdout",
     "output_type": "stream",
     "text": [
      "\n",
      "0: 384x640 10 cars, 1 motorcycle, 1 truck, 176.5ms\n",
      "Speed: 15.4ms preprocess, 176.5ms inference, 1.0ms postprocess per image at shape (1, 3, 384, 640)\n"
     ]
    },
    {
     "name": "stderr",
     "output_type": "stream",
     "text": [
      "Processing Frames:  56%|█████▌    | 261/468 [00:19<00:47,  4.35it/s]"
     ]
    },
    {
     "name": "stdout",
     "output_type": "stream",
     "text": [
      "\n",
      "0: 384x640 10 cars, 1 motorcycle, 2 trucks, 71.4ms\n",
      "Speed: 4.6ms preprocess, 71.4ms inference, 1.3ms postprocess per image at shape (1, 3, 384, 640)\n"
     ]
    },
    {
     "name": "stderr",
     "output_type": "stream",
     "text": [
      "Processing Frames:  56%|█████▌    | 262/468 [00:19<00:44,  4.67it/s]"
     ]
    },
    {
     "name": "stdout",
     "output_type": "stream",
     "text": [
      "\n",
      "0: 384x640 10 cars, 1 motorcycle, 2 trucks, 212.8ms\n",
      "Speed: 17.1ms preprocess, 212.8ms inference, 1.6ms postprocess per image at shape (1, 3, 384, 640)\n"
     ]
    },
    {
     "name": "stderr",
     "output_type": "stream",
     "text": [
      "Processing Frames:  56%|█████▌    | 263/468 [00:19<00:51,  3.98it/s]"
     ]
    },
    {
     "name": "stdout",
     "output_type": "stream",
     "text": [
      "\n",
      "0: 384x640 10 cars, 1 motorcycle, 2 trucks, 177.2ms\n",
      "Speed: 19.2ms preprocess, 177.2ms inference, 0.8ms postprocess per image at shape (1, 3, 384, 640)\n"
     ]
    },
    {
     "name": "stderr",
     "output_type": "stream",
     "text": [
      "Processing Frames:  56%|█████▋    | 264/468 [00:20<00:52,  3.88it/s]"
     ]
    },
    {
     "name": "stdout",
     "output_type": "stream",
     "text": [
      "\n",
      "0: 384x640 10 cars, 1 motorcycle, 2 trucks, 90.8ms\n",
      "Speed: 2.6ms preprocess, 90.8ms inference, 3.3ms postprocess per image at shape (1, 3, 384, 640)\n"
     ]
    },
    {
     "name": "stderr",
     "output_type": "stream",
     "text": [
      "Processing Frames:  57%|█████▋    | 265/468 [00:20<00:47,  4.24it/s]"
     ]
    },
    {
     "name": "stdout",
     "output_type": "stream",
     "text": [
      "\n",
      "0: 384x640 10 cars, 1 motorcycle, 2 trucks, 104.3ms\n",
      "Speed: 11.4ms preprocess, 104.3ms inference, 1.1ms postprocess per image at shape (1, 3, 384, 640)\n"
     ]
    },
    {
     "name": "stderr",
     "output_type": "stream",
     "text": [
      "Processing Frames:  57%|█████▋    | 266/468 [00:20<00:45,  4.45it/s]"
     ]
    },
    {
     "name": "stdout",
     "output_type": "stream",
     "text": [
      "\n",
      "0: 384x640 10 cars, 1 motorcycle, 2 trucks, 185.2ms\n",
      "Speed: 7.0ms preprocess, 185.2ms inference, 2.3ms postprocess per image at shape (1, 3, 384, 640)\n"
     ]
    },
    {
     "name": "stderr",
     "output_type": "stream",
     "text": [
      "Processing Frames:  57%|█████▋    | 267/468 [00:20<00:48,  4.15it/s]"
     ]
    },
    {
     "name": "stdout",
     "output_type": "stream",
     "text": [
      "\n",
      "0: 384x640 9 cars, 1 motorcycle, 2 trucks, 100.0ms\n",
      "Speed: 3.2ms preprocess, 100.0ms inference, 2.0ms postprocess per image at shape (1, 3, 384, 640)\n"
     ]
    },
    {
     "name": "stderr",
     "output_type": "stream",
     "text": [
      "Processing Frames:  57%|█████▋    | 268/468 [00:20<00:51,  3.91it/s]"
     ]
    },
    {
     "name": "stdout",
     "output_type": "stream",
     "text": [
      "\n",
      "0: 384x640 9 cars, 1 motorcycle, 2 trucks, 239.2ms\n",
      "Speed: 5.1ms preprocess, 239.2ms inference, 1.4ms postprocess per image at shape (1, 3, 384, 640)\n"
     ]
    },
    {
     "name": "stderr",
     "output_type": "stream",
     "text": [
      "Processing Frames:  57%|█████▋    | 269/468 [00:21<00:56,  3.53it/s]"
     ]
    },
    {
     "name": "stdout",
     "output_type": "stream",
     "text": [
      "\n",
      "0: 384x640 9 cars, 1 motorcycle, 2 trucks, 202.0ms\n",
      "Speed: 18.6ms preprocess, 202.0ms inference, 1.4ms postprocess per image at shape (1, 3, 384, 640)\n"
     ]
    },
    {
     "name": "stderr",
     "output_type": "stream",
     "text": [
      "Processing Frames:  58%|█████▊    | 270/468 [00:21<00:57,  3.47it/s]"
     ]
    },
    {
     "name": "stdout",
     "output_type": "stream",
     "text": [
      "\n",
      "0: 384x640 9 cars, 1 motorcycle, 2 trucks, 135.1ms\n",
      "Speed: 4.7ms preprocess, 135.1ms inference, 6.2ms postprocess per image at shape (1, 3, 384, 640)\n"
     ]
    },
    {
     "name": "stderr",
     "output_type": "stream",
     "text": [
      "Processing Frames:  58%|█████▊    | 271/468 [00:21<00:52,  3.75it/s]"
     ]
    },
    {
     "name": "stdout",
     "output_type": "stream",
     "text": [
      "\n",
      "0: 384x640 9 cars, 1 motorcycle, 2 trucks, 165.7ms\n",
      "Speed: 7.6ms preprocess, 165.7ms inference, 1.5ms postprocess per image at shape (1, 3, 384, 640)\n"
     ]
    },
    {
     "name": "stderr",
     "output_type": "stream",
     "text": [
      "Processing Frames:  58%|█████▊    | 272/468 [00:22<00:52,  3.77it/s]"
     ]
    },
    {
     "name": "stdout",
     "output_type": "stream",
     "text": [
      "\n",
      "0: 384x640 8 cars, 1 motorcycle, 1 bus, 1 truck, 130.7ms\n",
      "Speed: 7.2ms preprocess, 130.7ms inference, 1.0ms postprocess per image at shape (1, 3, 384, 640)\n"
     ]
    },
    {
     "name": "stderr",
     "output_type": "stream",
     "text": [
      "Processing Frames:  58%|█████▊    | 273/468 [00:22<00:48,  3.99it/s]"
     ]
    },
    {
     "name": "stdout",
     "output_type": "stream",
     "text": [
      "\n",
      "0: 384x640 8 cars, 1 motorcycle, 2 trucks, 106.2ms\n",
      "Speed: 5.7ms preprocess, 106.2ms inference, 0.7ms postprocess per image at shape (1, 3, 384, 640)\n"
     ]
    },
    {
     "name": "stderr",
     "output_type": "stream",
     "text": [
      "Processing Frames:  59%|█████▊    | 274/468 [00:22<00:45,  4.29it/s]"
     ]
    },
    {
     "name": "stdout",
     "output_type": "stream",
     "text": [
      "\n",
      "0: 384x640 8 cars, 1 motorcycle, 2 trucks, 176.5ms\n",
      "Speed: 10.9ms preprocess, 176.5ms inference, 1.4ms postprocess per image at shape (1, 3, 384, 640)\n"
     ]
    },
    {
     "name": "stderr",
     "output_type": "stream",
     "text": [
      "Processing Frames:  59%|█████▉    | 275/468 [00:22<00:47,  4.06it/s]"
     ]
    },
    {
     "name": "stdout",
     "output_type": "stream",
     "text": [
      "\n",
      "0: 384x640 8 cars, 1 motorcycle, 2 trucks, 223.8ms\n",
      "Speed: 5.2ms preprocess, 223.8ms inference, 10.0ms postprocess per image at shape (1, 3, 384, 640)\n"
     ]
    },
    {
     "name": "stderr",
     "output_type": "stream",
     "text": [
      "Processing Frames:  59%|█████▉    | 276/468 [00:23<00:53,  3.60it/s]"
     ]
    },
    {
     "name": "stdout",
     "output_type": "stream",
     "text": [
      "\n",
      "0: 384x640 8 cars, 1 motorcycle, 2 trucks, 166.8ms\n",
      "Speed: 5.4ms preprocess, 166.8ms inference, 1.0ms postprocess per image at shape (1, 3, 384, 640)\n"
     ]
    },
    {
     "name": "stderr",
     "output_type": "stream",
     "text": [
      "Processing Frames:  59%|█████▉    | 277/468 [00:23<00:50,  3.76it/s]"
     ]
    },
    {
     "name": "stdout",
     "output_type": "stream",
     "text": [
      "\n",
      "0: 384x640 9 cars, 1 motorcycle, 2 trucks, 134.3ms\n",
      "Speed: 2.5ms preprocess, 134.3ms inference, 1.7ms postprocess per image at shape (1, 3, 384, 640)\n"
     ]
    },
    {
     "name": "stderr",
     "output_type": "stream",
     "text": [
      "Processing Frames:  59%|█████▉    | 278/468 [00:23<00:47,  3.96it/s]"
     ]
    },
    {
     "name": "stdout",
     "output_type": "stream",
     "text": [
      "\n",
      "0: 384x640 9 cars, 2 trucks, 138.0ms\n",
      "Speed: 8.7ms preprocess, 138.0ms inference, 1.2ms postprocess per image at shape (1, 3, 384, 640)\n"
     ]
    },
    {
     "name": "stderr",
     "output_type": "stream",
     "text": [
      "Processing Frames:  60%|█████▉    | 279/468 [00:23<00:47,  4.02it/s]"
     ]
    },
    {
     "name": "stdout",
     "output_type": "stream",
     "text": [
      "\n",
      "0: 384x640 9 cars, 1 truck, 102.3ms\n",
      "Speed: 14.2ms preprocess, 102.3ms inference, 0.8ms postprocess per image at shape (1, 3, 384, 640)\n"
     ]
    },
    {
     "name": "stderr",
     "output_type": "stream",
     "text": [
      "Processing Frames:  60%|█████▉    | 280/468 [00:24<00:42,  4.40it/s]"
     ]
    },
    {
     "name": "stdout",
     "output_type": "stream",
     "text": [
      "\n",
      "0: 384x640 9 cars, 1 truck, 84.8ms\n",
      "Speed: 2.4ms preprocess, 84.8ms inference, 1.6ms postprocess per image at shape (1, 3, 384, 640)\n"
     ]
    },
    {
     "name": "stderr",
     "output_type": "stream",
     "text": [
      "Processing Frames:  60%|██████    | 281/468 [00:24<00:38,  4.84it/s]"
     ]
    },
    {
     "name": "stdout",
     "output_type": "stream",
     "text": [
      "\n",
      "0: 384x640 9 cars, 1 bus, 188.1ms\n",
      "Speed: 32.7ms preprocess, 188.1ms inference, 1.3ms postprocess per image at shape (1, 3, 384, 640)\n"
     ]
    },
    {
     "name": "stderr",
     "output_type": "stream",
     "text": [
      "Processing Frames:  60%|██████    | 282/468 [00:24<00:44,  4.18it/s]"
     ]
    },
    {
     "name": "stdout",
     "output_type": "stream",
     "text": [
      "\n",
      "0: 384x640 9 cars, 1 bus, 163.9ms\n",
      "Speed: 6.0ms preprocess, 163.9ms inference, 1.3ms postprocess per image at shape (1, 3, 384, 640)\n"
     ]
    },
    {
     "name": "stderr",
     "output_type": "stream",
     "text": [
      "Processing Frames:  60%|██████    | 283/468 [00:24<00:45,  4.10it/s]"
     ]
    },
    {
     "name": "stdout",
     "output_type": "stream",
     "text": [
      "\n",
      "0: 384x640 9 cars, 1 bus, 97.9ms\n",
      "Speed: 2.2ms preprocess, 97.9ms inference, 1.3ms postprocess per image at shape (1, 3, 384, 640)\n"
     ]
    },
    {
     "name": "stderr",
     "output_type": "stream",
     "text": [
      "Processing Frames:  61%|██████    | 284/468 [00:24<00:40,  4.49it/s]"
     ]
    },
    {
     "name": "stdout",
     "output_type": "stream",
     "text": [
      "\n",
      "0: 384x640 8 cars, 1 bus, 1 truck, 326.2ms\n",
      "Speed: 12.2ms preprocess, 326.2ms inference, 1.8ms postprocess per image at shape (1, 3, 384, 640)\n"
     ]
    },
    {
     "name": "stderr",
     "output_type": "stream",
     "text": [
      "Processing Frames:  61%|██████    | 285/468 [00:25<00:51,  3.56it/s]"
     ]
    },
    {
     "name": "stdout",
     "output_type": "stream",
     "text": [
      "\n",
      "0: 384x640 9 cars, 94.7ms\n",
      "Speed: 6.5ms preprocess, 94.7ms inference, 1.1ms postprocess per image at shape (1, 3, 384, 640)\n"
     ]
    },
    {
     "name": "stderr",
     "output_type": "stream",
     "text": [
      "Processing Frames:  61%|██████    | 286/468 [00:25<00:46,  3.91it/s]"
     ]
    },
    {
     "name": "stdout",
     "output_type": "stream",
     "text": [
      "\n",
      "0: 384x640 9 cars, 1 truck, 95.1ms\n",
      "Speed: 5.0ms preprocess, 95.1ms inference, 1.3ms postprocess per image at shape (1, 3, 384, 640)\n"
     ]
    },
    {
     "name": "stderr",
     "output_type": "stream",
     "text": [
      "Processing Frames:  61%|██████▏   | 287/468 [00:25<00:43,  4.17it/s]"
     ]
    },
    {
     "name": "stdout",
     "output_type": "stream",
     "text": [
      "\n",
      "0: 384x640 9 cars, 1 truck, 74.1ms\n",
      "Speed: 20.7ms preprocess, 74.1ms inference, 1.2ms postprocess per image at shape (1, 3, 384, 640)\n"
     ]
    },
    {
     "name": "stderr",
     "output_type": "stream",
     "text": [
      "Processing Frames:  62%|██████▏   | 288/468 [00:25<00:39,  4.57it/s]"
     ]
    },
    {
     "name": "stdout",
     "output_type": "stream",
     "text": [
      "\n",
      "0: 384x640 9 cars, 1 truck, 160.7ms\n",
      "Speed: 3.8ms preprocess, 160.7ms inference, 1.1ms postprocess per image at shape (1, 3, 384, 640)\n"
     ]
    },
    {
     "name": "stderr",
     "output_type": "stream",
     "text": [
      "Processing Frames:  62%|██████▏   | 289/468 [00:26<00:41,  4.32it/s]"
     ]
    },
    {
     "name": "stdout",
     "output_type": "stream",
     "text": [
      "\n",
      "0: 384x640 9 cars, 1 truck, 107.1ms\n",
      "Speed: 4.0ms preprocess, 107.1ms inference, 1.2ms postprocess per image at shape (1, 3, 384, 640)\n"
     ]
    },
    {
     "name": "stderr",
     "output_type": "stream",
     "text": [
      "Processing Frames:  62%|██████▏   | 290/468 [00:26<00:39,  4.50it/s]"
     ]
    },
    {
     "name": "stdout",
     "output_type": "stream",
     "text": [
      "\n",
      "0: 384x640 10 cars, 1 truck, 192.1ms\n",
      "Speed: 12.8ms preprocess, 192.1ms inference, 1.2ms postprocess per image at shape (1, 3, 384, 640)\n"
     ]
    },
    {
     "name": "stderr",
     "output_type": "stream",
     "text": [
      "Processing Frames:  62%|██████▏   | 291/468 [00:26<00:41,  4.22it/s]"
     ]
    },
    {
     "name": "stdout",
     "output_type": "stream",
     "text": [
      "\n",
      "0: 384x640 9 cars, 1 truck, 92.5ms\n",
      "Speed: 4.3ms preprocess, 92.5ms inference, 4.9ms postprocess per image at shape (1, 3, 384, 640)\n"
     ]
    },
    {
     "name": "stderr",
     "output_type": "stream",
     "text": [
      "Processing Frames:  62%|██████▏   | 292/468 [00:26<00:38,  4.53it/s]"
     ]
    },
    {
     "name": "stdout",
     "output_type": "stream",
     "text": [
      "\n",
      "0: 384x640 9 cars, 1 truck, 131.1ms\n",
      "Speed: 8.1ms preprocess, 131.1ms inference, 1.4ms postprocess per image at shape (1, 3, 384, 640)\n"
     ]
    },
    {
     "name": "stderr",
     "output_type": "stream",
     "text": [
      "Processing Frames:  63%|██████▎   | 293/468 [00:27<00:39,  4.41it/s]"
     ]
    },
    {
     "name": "stdout",
     "output_type": "stream",
     "text": [
      "\n",
      "0: 384x640 9 cars, 1 truck, 123.9ms\n",
      "Speed: 3.7ms preprocess, 123.9ms inference, 5.7ms postprocess per image at shape (1, 3, 384, 640)\n"
     ]
    },
    {
     "name": "stderr",
     "output_type": "stream",
     "text": [
      "Processing Frames:  63%|██████▎   | 294/468 [00:27<00:39,  4.43it/s]"
     ]
    },
    {
     "name": "stdout",
     "output_type": "stream",
     "text": [
      "\n",
      "0: 384x640 9 cars, 1 truck, 182.6ms\n",
      "Speed: 4.9ms preprocess, 182.6ms inference, 2.3ms postprocess per image at shape (1, 3, 384, 640)\n"
     ]
    },
    {
     "name": "stderr",
     "output_type": "stream",
     "text": [
      "Processing Frames:  63%|██████▎   | 295/468 [00:27<00:42,  4.10it/s]"
     ]
    },
    {
     "name": "stdout",
     "output_type": "stream",
     "text": [
      "\n",
      "0: 384x640 9 cars, 1 truck, 80.7ms\n",
      "Speed: 16.0ms preprocess, 80.7ms inference, 1.8ms postprocess per image at shape (1, 3, 384, 640)\n"
     ]
    },
    {
     "name": "stderr",
     "output_type": "stream",
     "text": [
      "Processing Frames:  63%|██████▎   | 296/468 [00:27<00:37,  4.54it/s]"
     ]
    },
    {
     "name": "stdout",
     "output_type": "stream",
     "text": [
      "\n",
      "0: 384x640 11 cars, 1 truck, 126.1ms\n",
      "Speed: 6.9ms preprocess, 126.1ms inference, 0.9ms postprocess per image at shape (1, 3, 384, 640)\n"
     ]
    },
    {
     "name": "stderr",
     "output_type": "stream",
     "text": [
      "Processing Frames:  63%|██████▎   | 297/468 [00:27<00:36,  4.64it/s]"
     ]
    },
    {
     "name": "stdout",
     "output_type": "stream",
     "text": [
      "\n",
      "0: 384x640 11 cars, 1 truck, 119.1ms\n",
      "Speed: 5.0ms preprocess, 119.1ms inference, 1.1ms postprocess per image at shape (1, 3, 384, 640)\n"
     ]
    },
    {
     "name": "stderr",
     "output_type": "stream",
     "text": [
      "Processing Frames:  64%|██████▎   | 298/468 [00:28<00:40,  4.17it/s]"
     ]
    },
    {
     "name": "stdout",
     "output_type": "stream",
     "text": [
      "\n",
      "0: 384x640 10 cars, 2 trucks, 105.1ms\n",
      "Speed: 2.5ms preprocess, 105.1ms inference, 0.7ms postprocess per image at shape (1, 3, 384, 640)\n"
     ]
    },
    {
     "name": "stderr",
     "output_type": "stream",
     "text": [
      "Processing Frames:  64%|██████▍   | 299/468 [00:28<00:37,  4.50it/s]"
     ]
    },
    {
     "name": "stdout",
     "output_type": "stream",
     "text": [
      "\n",
      "0: 384x640 10 cars, 2 trucks, 278.9ms\n",
      "Speed: 3.5ms preprocess, 278.9ms inference, 1.8ms postprocess per image at shape (1, 3, 384, 640)\n"
     ]
    },
    {
     "name": "stderr",
     "output_type": "stream",
     "text": [
      "Processing Frames:  64%|██████▍   | 300/468 [00:28<00:43,  3.90it/s]"
     ]
    },
    {
     "name": "stdout",
     "output_type": "stream",
     "text": [
      "\n",
      "0: 384x640 8 cars, 2 trucks, 161.0ms\n",
      "Speed: 13.8ms preprocess, 161.0ms inference, 0.9ms postprocess per image at shape (1, 3, 384, 640)\n"
     ]
    },
    {
     "name": "stderr",
     "output_type": "stream",
     "text": [
      "Processing Frames:  64%|██████▍   | 301/468 [00:28<00:42,  3.93it/s]"
     ]
    },
    {
     "name": "stdout",
     "output_type": "stream",
     "text": [
      "\n",
      "0: 384x640 8 cars, 1 truck, 67.0ms\n",
      "Speed: 2.5ms preprocess, 67.0ms inference, 1.2ms postprocess per image at shape (1, 3, 384, 640)\n"
     ]
    },
    {
     "name": "stderr",
     "output_type": "stream",
     "text": [
      "Processing Frames:  65%|██████▍   | 302/468 [00:29<00:36,  4.50it/s]"
     ]
    },
    {
     "name": "stdout",
     "output_type": "stream",
     "text": [
      "\n",
      "0: 384x640 8 cars, 1 truck, 141.1ms\n",
      "Speed: 5.5ms preprocess, 141.1ms inference, 1.0ms postprocess per image at shape (1, 3, 384, 640)\n"
     ]
    },
    {
     "name": "stderr",
     "output_type": "stream",
     "text": [
      "Processing Frames:  65%|██████▍   | 303/468 [00:29<00:36,  4.47it/s]"
     ]
    },
    {
     "name": "stdout",
     "output_type": "stream",
     "text": [
      "\n",
      "0: 384x640 8 cars, 1 truck, 105.8ms\n",
      "Speed: 3.2ms preprocess, 105.8ms inference, 1.8ms postprocess per image at shape (1, 3, 384, 640)\n"
     ]
    },
    {
     "name": "stderr",
     "output_type": "stream",
     "text": [
      "Processing Frames:  65%|██████▍   | 304/468 [00:29<00:35,  4.64it/s]"
     ]
    },
    {
     "name": "stdout",
     "output_type": "stream",
     "text": [
      "\n",
      "0: 384x640 8 cars, 1 truck, 170.4ms\n",
      "Speed: 4.6ms preprocess, 170.4ms inference, 5.9ms postprocess per image at shape (1, 3, 384, 640)\n"
     ]
    },
    {
     "name": "stderr",
     "output_type": "stream",
     "text": [
      "Processing Frames:  65%|██████▌   | 305/468 [00:29<00:37,  4.35it/s]"
     ]
    },
    {
     "name": "stdout",
     "output_type": "stream",
     "text": [
      "\n",
      "0: 384x640 9 cars, 1 truck, 97.3ms\n",
      "Speed: 3.3ms preprocess, 97.3ms inference, 4.1ms postprocess per image at shape (1, 3, 384, 640)\n"
     ]
    },
    {
     "name": "stderr",
     "output_type": "stream",
     "text": [
      "Processing Frames:  65%|██████▌   | 306/468 [00:30<00:35,  4.57it/s]"
     ]
    },
    {
     "name": "stdout",
     "output_type": "stream",
     "text": [
      "\n",
      "0: 384x640 9 cars, 1 truck, 149.8ms\n",
      "Speed: 15.0ms preprocess, 149.8ms inference, 1.2ms postprocess per image at shape (1, 3, 384, 640)\n"
     ]
    },
    {
     "name": "stderr",
     "output_type": "stream",
     "text": [
      "Processing Frames:  66%|██████▌   | 307/468 [00:30<00:35,  4.51it/s]"
     ]
    },
    {
     "name": "stdout",
     "output_type": "stream",
     "text": [
      "\n",
      "0: 384x640 9 cars, 1 truck, 108.9ms\n",
      "Speed: 4.9ms preprocess, 108.9ms inference, 1.8ms postprocess per image at shape (1, 3, 384, 640)\n"
     ]
    },
    {
     "name": "stderr",
     "output_type": "stream",
     "text": [
      "Processing Frames:  66%|██████▌   | 308/468 [00:30<00:34,  4.69it/s]"
     ]
    },
    {
     "name": "stdout",
     "output_type": "stream",
     "text": [
      "\n",
      "0: 384x640 9 cars, 1 truck, 86.4ms\n",
      "Speed: 2.6ms preprocess, 86.4ms inference, 1.3ms postprocess per image at shape (1, 3, 384, 640)\n"
     ]
    },
    {
     "name": "stderr",
     "output_type": "stream",
     "text": [
      "Processing Frames:  66%|██████▌   | 309/468 [00:30<00:32,  4.89it/s]"
     ]
    },
    {
     "name": "stdout",
     "output_type": "stream",
     "text": [
      "\n",
      "0: 384x640 9 cars, 1 truck, 183.0ms\n",
      "Speed: 6.6ms preprocess, 183.0ms inference, 1.6ms postprocess per image at shape (1, 3, 384, 640)\n"
     ]
    },
    {
     "name": "stderr",
     "output_type": "stream",
     "text": [
      "Processing Frames:  66%|██████▌   | 310/468 [00:30<00:35,  4.49it/s]"
     ]
    },
    {
     "name": "stdout",
     "output_type": "stream",
     "text": [
      "\n",
      "0: 384x640 9 cars, 1 truck, 101.1ms\n",
      "Speed: 5.6ms preprocess, 101.1ms inference, 2.4ms postprocess per image at shape (1, 3, 384, 640)\n"
     ]
    },
    {
     "name": "stderr",
     "output_type": "stream",
     "text": [
      "Processing Frames:  66%|██████▋   | 311/468 [00:31<00:33,  4.75it/s]"
     ]
    },
    {
     "name": "stdout",
     "output_type": "stream",
     "text": [
      "\n",
      "0: 384x640 10 cars, 1 truck, 97.3ms\n",
      "Speed: 6.7ms preprocess, 97.3ms inference, 2.3ms postprocess per image at shape (1, 3, 384, 640)\n"
     ]
    },
    {
     "name": "stderr",
     "output_type": "stream",
     "text": [
      "Processing Frames:  67%|██████▋   | 312/468 [00:31<00:31,  5.03it/s]"
     ]
    },
    {
     "name": "stdout",
     "output_type": "stream",
     "text": [
      "\n",
      "0: 384x640 9 cars, 2 trucks, 88.6ms\n",
      "Speed: 2.7ms preprocess, 88.6ms inference, 1.8ms postprocess per image at shape (1, 3, 384, 640)\n"
     ]
    },
    {
     "name": "stderr",
     "output_type": "stream",
     "text": [
      "Processing Frames:  67%|██████▋   | 313/468 [00:31<00:30,  5.05it/s]"
     ]
    },
    {
     "name": "stdout",
     "output_type": "stream",
     "text": [
      "\n",
      "0: 384x640 9 cars, 1 motorcycle, 2 trucks, 144.1ms\n",
      "Speed: 13.2ms preprocess, 144.1ms inference, 1.3ms postprocess per image at shape (1, 3, 384, 640)\n"
     ]
    },
    {
     "name": "stderr",
     "output_type": "stream",
     "text": [
      "Processing Frames:  67%|██████▋   | 314/468 [00:31<00:32,  4.76it/s]"
     ]
    },
    {
     "name": "stdout",
     "output_type": "stream",
     "text": [
      "\n",
      "0: 384x640 7 cars, 1 truck, 108.2ms\n",
      "Speed: 5.7ms preprocess, 108.2ms inference, 0.9ms postprocess per image at shape (1, 3, 384, 640)\n"
     ]
    },
    {
     "name": "stderr",
     "output_type": "stream",
     "text": [
      "Processing Frames:  67%|██████▋   | 315/468 [00:31<00:32,  4.77it/s]"
     ]
    },
    {
     "name": "stdout",
     "output_type": "stream",
     "text": [
      "\n",
      "0: 384x640 8 cars, 1 truck, 115.9ms\n",
      "Speed: 3.9ms preprocess, 115.9ms inference, 3.5ms postprocess per image at shape (1, 3, 384, 640)\n"
     ]
    },
    {
     "name": "stderr",
     "output_type": "stream",
     "text": [
      "Processing Frames:  68%|██████▊   | 316/468 [00:32<00:31,  4.88it/s]"
     ]
    },
    {
     "name": "stdout",
     "output_type": "stream",
     "text": [
      "\n",
      "0: 384x640 9 cars, 1 truck, 85.3ms\n",
      "Speed: 3.2ms preprocess, 85.3ms inference, 2.8ms postprocess per image at shape (1, 3, 384, 640)\n"
     ]
    },
    {
     "name": "stderr",
     "output_type": "stream",
     "text": [
      "Processing Frames:  68%|██████▊   | 317/468 [00:32<00:30,  4.94it/s]"
     ]
    },
    {
     "name": "stdout",
     "output_type": "stream",
     "text": [
      "\n",
      "0: 384x640 8 cars, 1 truck, 173.9ms\n",
      "Speed: 13.1ms preprocess, 173.9ms inference, 1.5ms postprocess per image at shape (1, 3, 384, 640)\n"
     ]
    },
    {
     "name": "stderr",
     "output_type": "stream",
     "text": [
      "Processing Frames:  68%|██████▊   | 318/468 [00:32<00:33,  4.42it/s]"
     ]
    },
    {
     "name": "stdout",
     "output_type": "stream",
     "text": [
      "\n",
      "0: 384x640 8 cars, 1 truck, 193.4ms\n",
      "Speed: 11.3ms preprocess, 193.4ms inference, 1.5ms postprocess per image at shape (1, 3, 384, 640)\n"
     ]
    },
    {
     "name": "stderr",
     "output_type": "stream",
     "text": [
      "Processing Frames:  68%|██████▊   | 319/468 [00:32<00:36,  4.06it/s]"
     ]
    },
    {
     "name": "stdout",
     "output_type": "stream",
     "text": [
      "\n",
      "0: 384x640 8 cars, 1 truck, 87.3ms\n",
      "Speed: 2.5ms preprocess, 87.3ms inference, 1.8ms postprocess per image at shape (1, 3, 384, 640)\n"
     ]
    },
    {
     "name": "stderr",
     "output_type": "stream",
     "text": [
      "Processing Frames:  68%|██████▊   | 320/468 [00:33<00:32,  4.53it/s]"
     ]
    },
    {
     "name": "stdout",
     "output_type": "stream",
     "text": [
      "\n",
      "0: 384x640 8 cars, 1 truck, 146.7ms\n",
      "Speed: 5.6ms preprocess, 146.7ms inference, 1.8ms postprocess per image at shape (1, 3, 384, 640)\n"
     ]
    },
    {
     "name": "stderr",
     "output_type": "stream",
     "text": [
      "Processing Frames:  69%|██████▊   | 321/468 [00:33<00:35,  4.17it/s]"
     ]
    },
    {
     "name": "stdout",
     "output_type": "stream",
     "text": [
      "\n",
      "0: 384x640 7 cars, 1 truck, 175.0ms\n",
      "Speed: 7.3ms preprocess, 175.0ms inference, 1.4ms postprocess per image at shape (1, 3, 384, 640)\n"
     ]
    },
    {
     "name": "stderr",
     "output_type": "stream",
     "text": [
      "Processing Frames:  69%|██████▉   | 322/468 [00:33<00:37,  3.94it/s]"
     ]
    },
    {
     "name": "stdout",
     "output_type": "stream",
     "text": [
      "\n",
      "0: 384x640 7 cars, 1 truck, 87.1ms\n",
      "Speed: 7.7ms preprocess, 87.1ms inference, 1.2ms postprocess per image at shape (1, 3, 384, 640)\n"
     ]
    },
    {
     "name": "stderr",
     "output_type": "stream",
     "text": [
      "Processing Frames:  69%|██████▉   | 323/468 [00:33<00:33,  4.27it/s]"
     ]
    },
    {
     "name": "stdout",
     "output_type": "stream",
     "text": [
      "\n",
      "0: 384x640 7 cars, 1 truck, 108.1ms\n",
      "Speed: 10.4ms preprocess, 108.1ms inference, 1.3ms postprocess per image at shape (1, 3, 384, 640)\n"
     ]
    },
    {
     "name": "stderr",
     "output_type": "stream",
     "text": [
      "Processing Frames:  69%|██████▉   | 324/468 [00:33<00:32,  4.40it/s]"
     ]
    },
    {
     "name": "stdout",
     "output_type": "stream",
     "text": [
      "\n",
      "0: 384x640 7 cars, 1 truck, 173.0ms\n",
      "Speed: 10.4ms preprocess, 173.0ms inference, 1.1ms postprocess per image at shape (1, 3, 384, 640)\n"
     ]
    },
    {
     "name": "stderr",
     "output_type": "stream",
     "text": [
      "Processing Frames:  69%|██████▉   | 325/468 [00:34<00:34,  4.19it/s]"
     ]
    },
    {
     "name": "stdout",
     "output_type": "stream",
     "text": [
      "\n",
      "0: 384x640 7 cars, 1 truck, 89.8ms\n",
      "Speed: 8.0ms preprocess, 89.8ms inference, 1.5ms postprocess per image at shape (1, 3, 384, 640)\n"
     ]
    },
    {
     "name": "stderr",
     "output_type": "stream",
     "text": [
      "Processing Frames:  70%|██████▉   | 326/468 [00:34<00:31,  4.54it/s]"
     ]
    },
    {
     "name": "stdout",
     "output_type": "stream",
     "text": [
      "\n",
      "0: 384x640 7 cars, 1 truck, 109.9ms\n",
      "Speed: 20.9ms preprocess, 109.9ms inference, 1.0ms postprocess per image at shape (1, 3, 384, 640)\n"
     ]
    },
    {
     "name": "stderr",
     "output_type": "stream",
     "text": [
      "Processing Frames:  70%|██████▉   | 327/468 [00:34<00:30,  4.68it/s]"
     ]
    },
    {
     "name": "stdout",
     "output_type": "stream",
     "text": [
      "\n",
      "0: 384x640 7 cars, 1 motorcycle, 1 truck, 186.2ms\n",
      "Speed: 11.0ms preprocess, 186.2ms inference, 1.7ms postprocess per image at shape (1, 3, 384, 640)\n"
     ]
    },
    {
     "name": "stderr",
     "output_type": "stream",
     "text": [
      "Processing Frames:  70%|███████   | 328/468 [00:34<00:32,  4.26it/s]"
     ]
    },
    {
     "name": "stdout",
     "output_type": "stream",
     "text": [
      "\n",
      "0: 384x640 7 cars, 1 motorcycle, 1 truck, 146.4ms\n",
      "Speed: 3.7ms preprocess, 146.4ms inference, 1.9ms postprocess per image at shape (1, 3, 384, 640)\n"
     ]
    },
    {
     "name": "stderr",
     "output_type": "stream",
     "text": [
      "Processing Frames:  70%|███████   | 329/468 [00:35<00:32,  4.23it/s]"
     ]
    },
    {
     "name": "stdout",
     "output_type": "stream",
     "text": [
      "\n",
      "0: 384x640 7 cars, 1 motorcycle, 1 truck, 115.4ms\n",
      "Speed: 2.7ms preprocess, 115.4ms inference, 1.4ms postprocess per image at shape (1, 3, 384, 640)\n"
     ]
    },
    {
     "name": "stderr",
     "output_type": "stream",
     "text": [
      "Processing Frames:  71%|███████   | 330/468 [00:35<00:31,  4.39it/s]"
     ]
    },
    {
     "name": "stdout",
     "output_type": "stream",
     "text": [
      "\n",
      "0: 384x640 7 cars, 1 motorcycle, 1 truck, 152.0ms\n",
      "Speed: 4.1ms preprocess, 152.0ms inference, 1.4ms postprocess per image at shape (1, 3, 384, 640)\n"
     ]
    },
    {
     "name": "stderr",
     "output_type": "stream",
     "text": [
      "Processing Frames:  71%|███████   | 331/468 [00:35<00:31,  4.29it/s]"
     ]
    },
    {
     "name": "stdout",
     "output_type": "stream",
     "text": [
      "\n",
      "0: 384x640 7 cars, 1 motorcycle, 1 truck, 127.3ms\n",
      "Speed: 19.8ms preprocess, 127.3ms inference, 1.2ms postprocess per image at shape (1, 3, 384, 640)\n"
     ]
    },
    {
     "name": "stderr",
     "output_type": "stream",
     "text": [
      "Processing Frames:  71%|███████   | 332/468 [00:35<00:31,  4.32it/s]"
     ]
    },
    {
     "name": "stdout",
     "output_type": "stream",
     "text": [
      "\n",
      "0: 384x640 7 cars, 1 motorcycle, 1 truck, 91.4ms\n",
      "Speed: 9.2ms preprocess, 91.4ms inference, 1.6ms postprocess per image at shape (1, 3, 384, 640)\n"
     ]
    },
    {
     "name": "stderr",
     "output_type": "stream",
     "text": [
      "Processing Frames:  71%|███████   | 333/468 [00:36<00:30,  4.46it/s]"
     ]
    },
    {
     "name": "stdout",
     "output_type": "stream",
     "text": [
      "\n",
      "0: 384x640 7 cars, 1 motorcycle, 1 truck, 117.6ms\n",
      "Speed: 19.6ms preprocess, 117.6ms inference, 1.3ms postprocess per image at shape (1, 3, 384, 640)\n"
     ]
    },
    {
     "name": "stderr",
     "output_type": "stream",
     "text": [
      "Processing Frames:  71%|███████▏  | 334/468 [00:36<00:30,  4.41it/s]"
     ]
    },
    {
     "name": "stdout",
     "output_type": "stream",
     "text": [
      "\n",
      "0: 384x640 7 cars, 1 motorcycle, 1 truck, 162.4ms\n",
      "Speed: 5.3ms preprocess, 162.4ms inference, 3.0ms postprocess per image at shape (1, 3, 384, 640)\n"
     ]
    },
    {
     "name": "stderr",
     "output_type": "stream",
     "text": [
      "Processing Frames:  72%|███████▏  | 335/468 [00:36<00:31,  4.16it/s]"
     ]
    },
    {
     "name": "stdout",
     "output_type": "stream",
     "text": [
      "\n",
      "0: 384x640 7 cars, 1 motorcycle, 1 truck, 108.7ms\n",
      "Speed: 3.2ms preprocess, 108.7ms inference, 3.0ms postprocess per image at shape (1, 3, 384, 640)\n"
     ]
    },
    {
     "name": "stderr",
     "output_type": "stream",
     "text": [
      "Processing Frames:  72%|███████▏  | 336/468 [00:36<00:30,  4.38it/s]"
     ]
    },
    {
     "name": "stdout",
     "output_type": "stream",
     "text": [
      "\n",
      "0: 384x640 7 cars, 1 motorcycle, 1 truck, 141.1ms\n",
      "Speed: 6.6ms preprocess, 141.1ms inference, 1.2ms postprocess per image at shape (1, 3, 384, 640)\n"
     ]
    },
    {
     "name": "stderr",
     "output_type": "stream",
     "text": [
      "Processing Frames:  72%|███████▏  | 337/468 [00:36<00:29,  4.39it/s]"
     ]
    },
    {
     "name": "stdout",
     "output_type": "stream",
     "text": [
      "\n",
      "0: 384x640 7 cars, 1 motorcycle, 1 truck, 87.7ms\n",
      "Speed: 9.9ms preprocess, 87.7ms inference, 1.4ms postprocess per image at shape (1, 3, 384, 640)\n"
     ]
    },
    {
     "name": "stderr",
     "output_type": "stream",
     "text": [
      "Processing Frames:  72%|███████▏  | 338/468 [00:37<00:27,  4.68it/s]"
     ]
    },
    {
     "name": "stdout",
     "output_type": "stream",
     "text": [
      "\n",
      "0: 384x640 7 cars, 1 motorcycle, 1 truck, 156.7ms\n",
      "Speed: 6.7ms preprocess, 156.7ms inference, 1.5ms postprocess per image at shape (1, 3, 384, 640)\n"
     ]
    },
    {
     "name": "stderr",
     "output_type": "stream",
     "text": [
      "Processing Frames:  72%|███████▏  | 339/468 [00:37<00:28,  4.46it/s]"
     ]
    },
    {
     "name": "stdout",
     "output_type": "stream",
     "text": [
      "\n",
      "0: 384x640 7 cars, 2 motorcycles, 1 truck, 254.7ms\n",
      "Speed: 7.9ms preprocess, 254.7ms inference, 5.4ms postprocess per image at shape (1, 3, 384, 640)\n"
     ]
    },
    {
     "name": "stderr",
     "output_type": "stream",
     "text": [
      "Processing Frames:  73%|███████▎  | 340/468 [00:37<00:33,  3.80it/s]"
     ]
    },
    {
     "name": "stdout",
     "output_type": "stream",
     "text": [
      "\n",
      "0: 384x640 7 cars, 2 motorcycles, 1 truck, 159.4ms\n",
      "Speed: 8.7ms preprocess, 159.4ms inference, 6.9ms postprocess per image at shape (1, 3, 384, 640)\n"
     ]
    },
    {
     "name": "stderr",
     "output_type": "stream",
     "text": [
      "Processing Frames:  73%|███████▎  | 341/468 [00:38<00:33,  3.78it/s]"
     ]
    },
    {
     "name": "stdout",
     "output_type": "stream",
     "text": [
      "\n",
      "0: 384x640 7 cars, 2 motorcycles, 1 truck, 87.3ms\n",
      "Speed: 6.3ms preprocess, 87.3ms inference, 1.2ms postprocess per image at shape (1, 3, 384, 640)\n"
     ]
    },
    {
     "name": "stderr",
     "output_type": "stream",
     "text": [
      "Processing Frames:  73%|███████▎  | 342/468 [00:38<00:29,  4.32it/s]"
     ]
    },
    {
     "name": "stdout",
     "output_type": "stream",
     "text": [
      "\n",
      "0: 384x640 7 cars, 2 motorcycles, 1 truck, 111.1ms\n",
      "Speed: 15.2ms preprocess, 111.1ms inference, 1.6ms postprocess per image at shape (1, 3, 384, 640)\n"
     ]
    },
    {
     "name": "stderr",
     "output_type": "stream",
     "text": [
      "Processing Frames:  73%|███████▎  | 343/468 [00:38<00:27,  4.48it/s]"
     ]
    },
    {
     "name": "stdout",
     "output_type": "stream",
     "text": [
      "\n",
      "0: 384x640 7 cars, 2 motorcycles, 1 truck, 131.4ms\n",
      "Speed: 4.2ms preprocess, 131.4ms inference, 1.4ms postprocess per image at shape (1, 3, 384, 640)\n"
     ]
    },
    {
     "name": "stderr",
     "output_type": "stream",
     "text": [
      "Processing Frames:  74%|███████▎  | 344/468 [00:38<00:27,  4.48it/s]"
     ]
    },
    {
     "name": "stdout",
     "output_type": "stream",
     "text": [
      "\n",
      "0: 384x640 8 cars, 2 motorcycles, 1 truck, 129.1ms\n",
      "Speed: 11.9ms preprocess, 129.1ms inference, 3.8ms postprocess per image at shape (1, 3, 384, 640)\n"
     ]
    },
    {
     "name": "stderr",
     "output_type": "stream",
     "text": [
      "Processing Frames:  74%|███████▎  | 345/468 [00:38<00:27,  4.48it/s]"
     ]
    },
    {
     "name": "stdout",
     "output_type": "stream",
     "text": [
      "\n",
      "0: 384x640 9 cars, 2 motorcycles, 1 truck, 100.8ms\n",
      "Speed: 3.1ms preprocess, 100.8ms inference, 1.6ms postprocess per image at shape (1, 3, 384, 640)\n"
     ]
    },
    {
     "name": "stderr",
     "output_type": "stream",
     "text": [
      "Processing Frames:  74%|███████▍  | 346/468 [00:39<00:26,  4.58it/s]"
     ]
    },
    {
     "name": "stdout",
     "output_type": "stream",
     "text": [
      "\n",
      "0: 384x640 8 cars, 2 motorcycles, 1 truck, 243.6ms\n",
      "Speed: 16.5ms preprocess, 243.6ms inference, 4.1ms postprocess per image at shape (1, 3, 384, 640)\n"
     ]
    },
    {
     "name": "stderr",
     "output_type": "stream",
     "text": [
      "Processing Frames:  74%|███████▍  | 347/468 [00:39<00:31,  3.83it/s]"
     ]
    },
    {
     "name": "stdout",
     "output_type": "stream",
     "text": [
      "\n",
      "0: 384x640 9 cars, 2 motorcycles, 1 truck, 98.8ms\n",
      "Speed: 4.0ms preprocess, 98.8ms inference, 3.5ms postprocess per image at shape (1, 3, 384, 640)\n"
     ]
    },
    {
     "name": "stderr",
     "output_type": "stream",
     "text": [
      "Processing Frames:  74%|███████▍  | 348/468 [00:39<00:28,  4.16it/s]"
     ]
    },
    {
     "name": "stdout",
     "output_type": "stream",
     "text": [
      "\n",
      "0: 384x640 8 cars, 2 motorcycles, 1 truck, 126.0ms\n",
      "Speed: 6.5ms preprocess, 126.0ms inference, 2.5ms postprocess per image at shape (1, 3, 384, 640)\n"
     ]
    },
    {
     "name": "stderr",
     "output_type": "stream",
     "text": [
      "Processing Frames:  75%|███████▍  | 349/468 [00:39<00:28,  4.17it/s]"
     ]
    },
    {
     "name": "stdout",
     "output_type": "stream",
     "text": [
      "\n",
      "0: 384x640 8 cars, 2 motorcycles, 2 trucks, 128.8ms\n",
      "Speed: 11.6ms preprocess, 128.8ms inference, 3.2ms postprocess per image at shape (1, 3, 384, 640)\n"
     ]
    },
    {
     "name": "stderr",
     "output_type": "stream",
     "text": [
      "Processing Frames:  75%|███████▍  | 350/468 [00:40<00:28,  4.21it/s]"
     ]
    },
    {
     "name": "stdout",
     "output_type": "stream",
     "text": [
      "\n",
      "0: 384x640 8 cars, 2 motorcycles, 2 trucks, 98.9ms\n",
      "Speed: 4.0ms preprocess, 98.9ms inference, 1.0ms postprocess per image at shape (1, 3, 384, 640)\n"
     ]
    },
    {
     "name": "stderr",
     "output_type": "stream",
     "text": [
      "Processing Frames:  75%|███████▌  | 351/468 [00:40<00:25,  4.62it/s]"
     ]
    },
    {
     "name": "stdout",
     "output_type": "stream",
     "text": [
      "\n",
      "0: 384x640 10 cars, 2 motorcycles, 2 trucks, 95.5ms\n",
      "Speed: 2.7ms preprocess, 95.5ms inference, 1.3ms postprocess per image at shape (1, 3, 384, 640)\n"
     ]
    },
    {
     "name": "stderr",
     "output_type": "stream",
     "text": [
      "Processing Frames:  75%|███████▌  | 352/468 [00:40<00:24,  4.81it/s]"
     ]
    },
    {
     "name": "stdout",
     "output_type": "stream",
     "text": [
      "\n",
      "0: 384x640 10 cars, 2 motorcycles, 2 trucks, 246.5ms\n",
      "Speed: 13.0ms preprocess, 246.5ms inference, 13.3ms postprocess per image at shape (1, 3, 384, 640)\n"
     ]
    },
    {
     "name": "stderr",
     "output_type": "stream",
     "text": [
      "Processing Frames:  75%|███████▌  | 353/468 [00:40<00:29,  3.95it/s]"
     ]
    },
    {
     "name": "stdout",
     "output_type": "stream",
     "text": [
      "\n",
      "0: 384x640 9 cars, 2 motorcycles, 2 trucks, 106.5ms\n",
      "Speed: 9.8ms preprocess, 106.5ms inference, 2.5ms postprocess per image at shape (1, 3, 384, 640)\n"
     ]
    },
    {
     "name": "stderr",
     "output_type": "stream",
     "text": [
      "Processing Frames:  76%|███████▌  | 354/468 [00:40<00:27,  4.21it/s]"
     ]
    },
    {
     "name": "stdout",
     "output_type": "stream",
     "text": [
      "\n",
      "0: 384x640 9 cars, 2 motorcycles, 2 trucks, 109.0ms\n",
      "Speed: 8.6ms preprocess, 109.0ms inference, 3.4ms postprocess per image at shape (1, 3, 384, 640)\n"
     ]
    },
    {
     "name": "stderr",
     "output_type": "stream",
     "text": [
      "Processing Frames:  76%|███████▌  | 355/468 [00:41<00:25,  4.41it/s]"
     ]
    },
    {
     "name": "stdout",
     "output_type": "stream",
     "text": [
      "\n",
      "0: 384x640 8 cars, 2 motorcycles, 2 trucks, 103.5ms\n",
      "Speed: 2.7ms preprocess, 103.5ms inference, 1.8ms postprocess per image at shape (1, 3, 384, 640)\n"
     ]
    },
    {
     "name": "stderr",
     "output_type": "stream",
     "text": [
      "Processing Frames:  76%|███████▌  | 356/468 [00:41<00:24,  4.59it/s]"
     ]
    },
    {
     "name": "stdout",
     "output_type": "stream",
     "text": [
      "\n",
      "0: 384x640 9 cars, 2 motorcycles, 1 truck, 178.6ms\n",
      "Speed: 7.0ms preprocess, 178.6ms inference, 1.6ms postprocess per image at shape (1, 3, 384, 640)\n"
     ]
    },
    {
     "name": "stderr",
     "output_type": "stream",
     "text": [
      "Processing Frames:  76%|███████▋  | 357/468 [00:41<00:25,  4.32it/s]"
     ]
    },
    {
     "name": "stdout",
     "output_type": "stream",
     "text": [
      "\n",
      "0: 384x640 8 cars, 2 motorcycles, 1 truck, 107.6ms\n",
      "Speed: 4.3ms preprocess, 107.6ms inference, 1.3ms postprocess per image at shape (1, 3, 384, 640)\n"
     ]
    },
    {
     "name": "stderr",
     "output_type": "stream",
     "text": [
      "Processing Frames:  76%|███████▋  | 358/468 [00:41<00:24,  4.57it/s]"
     ]
    },
    {
     "name": "stdout",
     "output_type": "stream",
     "text": [
      "\n",
      "0: 384x640 8 cars, 2 motorcycles, 1 truck, 125.0ms\n",
      "Speed: 4.6ms preprocess, 125.0ms inference, 1.8ms postprocess per image at shape (1, 3, 384, 640)\n"
     ]
    },
    {
     "name": "stderr",
     "output_type": "stream",
     "text": [
      "Processing Frames:  77%|███████▋  | 359/468 [00:42<00:24,  4.47it/s]"
     ]
    },
    {
     "name": "stdout",
     "output_type": "stream",
     "text": [
      "\n",
      "0: 384x640 8 cars, 2 motorcycles, 1 truck, 107.2ms\n",
      "Speed: 3.0ms preprocess, 107.2ms inference, 1.4ms postprocess per image at shape (1, 3, 384, 640)\n"
     ]
    },
    {
     "name": "stderr",
     "output_type": "stream",
     "text": [
      "Processing Frames:  77%|███████▋  | 360/468 [00:42<00:23,  4.65it/s]"
     ]
    },
    {
     "name": "stdout",
     "output_type": "stream",
     "text": [
      "\n",
      "0: 384x640 8 cars, 2 motorcycles, 1 truck, 111.5ms\n",
      "Speed: 6.9ms preprocess, 111.5ms inference, 2.0ms postprocess per image at shape (1, 3, 384, 640)\n"
     ]
    },
    {
     "name": "stderr",
     "output_type": "stream",
     "text": [
      "Processing Frames:  77%|███████▋  | 361/468 [00:42<00:23,  4.61it/s]"
     ]
    },
    {
     "name": "stdout",
     "output_type": "stream",
     "text": [
      "\n",
      "0: 384x640 8 cars, 2 motorcycles, 1 truck, 177.7ms\n",
      "Speed: 8.3ms preprocess, 177.7ms inference, 1.8ms postprocess per image at shape (1, 3, 384, 640)\n"
     ]
    },
    {
     "name": "stderr",
     "output_type": "stream",
     "text": [
      "Processing Frames:  77%|███████▋  | 362/468 [00:42<00:24,  4.24it/s]"
     ]
    },
    {
     "name": "stdout",
     "output_type": "stream",
     "text": [
      "\n",
      "0: 384x640 8 cars, 2 motorcycles, 1 truck, 97.4ms\n",
      "Speed: 7.0ms preprocess, 97.4ms inference, 1.1ms postprocess per image at shape (1, 3, 384, 640)\n"
     ]
    },
    {
     "name": "stderr",
     "output_type": "stream",
     "text": [
      "Processing Frames:  78%|███████▊  | 363/468 [00:42<00:22,  4.67it/s]"
     ]
    },
    {
     "name": "stdout",
     "output_type": "stream",
     "text": [
      "\n",
      "0: 384x640 8 cars, 2 motorcycles, 1 truck, 95.8ms\n",
      "Speed: 4.3ms preprocess, 95.8ms inference, 1.3ms postprocess per image at shape (1, 3, 384, 640)\n"
     ]
    },
    {
     "name": "stderr",
     "output_type": "stream",
     "text": [
      "Processing Frames:  78%|███████▊  | 364/468 [00:43<00:21,  4.92it/s]"
     ]
    },
    {
     "name": "stdout",
     "output_type": "stream",
     "text": [
      "\n",
      "0: 384x640 8 cars, 2 motorcycles, 1 truck, 137.3ms\n",
      "Speed: 6.5ms preprocess, 137.3ms inference, 5.9ms postprocess per image at shape (1, 3, 384, 640)\n"
     ]
    },
    {
     "name": "stderr",
     "output_type": "stream",
     "text": [
      "Processing Frames:  78%|███████▊  | 365/468 [00:43<00:22,  4.61it/s]"
     ]
    },
    {
     "name": "stdout",
     "output_type": "stream",
     "text": [
      "\n",
      "0: 384x640 8 cars, 2 motorcycles, 1 truck, 146.6ms\n",
      "Speed: 6.0ms preprocess, 146.6ms inference, 1.6ms postprocess per image at shape (1, 3, 384, 640)\n"
     ]
    },
    {
     "name": "stderr",
     "output_type": "stream",
     "text": [
      "Processing Frames:  78%|███████▊  | 366/468 [00:43<00:23,  4.36it/s]"
     ]
    },
    {
     "name": "stdout",
     "output_type": "stream",
     "text": [
      "\n",
      "0: 384x640 8 cars, 2 motorcycles, 1 truck, 66.5ms\n",
      "Speed: 7.6ms preprocess, 66.5ms inference, 1.1ms postprocess per image at shape (1, 3, 384, 640)\n"
     ]
    },
    {
     "name": "stderr",
     "output_type": "stream",
     "text": [
      "Processing Frames:  78%|███████▊  | 367/468 [00:43<00:20,  4.87it/s]"
     ]
    },
    {
     "name": "stdout",
     "output_type": "stream",
     "text": [
      "\n",
      "0: 384x640 8 cars, 2 motorcycles, 2 trucks, 71.1ms\n",
      "Speed: 12.9ms preprocess, 71.1ms inference, 1.8ms postprocess per image at shape (1, 3, 384, 640)\n"
     ]
    },
    {
     "name": "stderr",
     "output_type": "stream",
     "text": [
      "Processing Frames:  79%|███████▊  | 368/468 [00:43<00:19,  5.14it/s]"
     ]
    },
    {
     "name": "stdout",
     "output_type": "stream",
     "text": [
      "\n",
      "0: 384x640 8 cars, 2 motorcycles, 2 trucks, 126.9ms\n",
      "Speed: 8.2ms preprocess, 126.9ms inference, 1.5ms postprocess per image at shape (1, 3, 384, 640)\n"
     ]
    },
    {
     "name": "stderr",
     "output_type": "stream",
     "text": [
      "Processing Frames:  79%|███████▉  | 369/468 [00:44<00:20,  4.94it/s]"
     ]
    },
    {
     "name": "stdout",
     "output_type": "stream",
     "text": [
      "\n",
      "0: 384x640 8 cars, 2 motorcycles, 2 trucks, 105.2ms\n",
      "Speed: 2.9ms preprocess, 105.2ms inference, 2.1ms postprocess per image at shape (1, 3, 384, 640)\n"
     ]
    },
    {
     "name": "stderr",
     "output_type": "stream",
     "text": [
      "Processing Frames:  79%|███████▉  | 370/468 [00:44<00:19,  5.09it/s]"
     ]
    },
    {
     "name": "stdout",
     "output_type": "stream",
     "text": [
      "\n",
      "0: 384x640 7 cars, 3 motorcycles, 2 trucks, 87.0ms\n",
      "Speed: 6.9ms preprocess, 87.0ms inference, 1.0ms postprocess per image at shape (1, 3, 384, 640)\n"
     ]
    },
    {
     "name": "stderr",
     "output_type": "stream",
     "text": [
      "Processing Frames:  79%|███████▉  | 371/468 [00:44<00:17,  5.51it/s]"
     ]
    },
    {
     "name": "stdout",
     "output_type": "stream",
     "text": [
      "\n",
      "0: 384x640 7 cars, 3 motorcycles, 2 trucks, 81.5ms\n",
      "Speed: 17.1ms preprocess, 81.5ms inference, 1.9ms postprocess per image at shape (1, 3, 384, 640)\n"
     ]
    },
    {
     "name": "stderr",
     "output_type": "stream",
     "text": [
      "Processing Frames:  79%|███████▉  | 372/468 [00:44<00:17,  5.53it/s]"
     ]
    },
    {
     "name": "stdout",
     "output_type": "stream",
     "text": [
      "\n",
      "0: 384x640 9 cars, 3 motorcycles, 2 trucks, 289.3ms\n",
      "Speed: 5.8ms preprocess, 289.3ms inference, 1.7ms postprocess per image at shape (1, 3, 384, 640)\n"
     ]
    },
    {
     "name": "stderr",
     "output_type": "stream",
     "text": [
      "Processing Frames:  80%|███████▉  | 373/468 [00:45<00:23,  4.12it/s]"
     ]
    },
    {
     "name": "stdout",
     "output_type": "stream",
     "text": [
      "\n",
      "0: 384x640 9 cars, 3 motorcycles, 2 trucks, 139.7ms\n",
      "Speed: 8.3ms preprocess, 139.7ms inference, 1.3ms postprocess per image at shape (1, 3, 384, 640)\n"
     ]
    },
    {
     "name": "stderr",
     "output_type": "stream",
     "text": [
      "Processing Frames:  80%|███████▉  | 374/468 [00:45<00:22,  4.20it/s]"
     ]
    },
    {
     "name": "stdout",
     "output_type": "stream",
     "text": [
      "\n",
      "0: 384x640 9 cars, 3 motorcycles, 2 trucks, 77.3ms\n",
      "Speed: 6.9ms preprocess, 77.3ms inference, 3.7ms postprocess per image at shape (1, 3, 384, 640)\n"
     ]
    },
    {
     "name": "stderr",
     "output_type": "stream",
     "text": [
      "Processing Frames:  80%|████████  | 375/468 [00:45<00:19,  4.70it/s]"
     ]
    },
    {
     "name": "stdout",
     "output_type": "stream",
     "text": [
      "\n",
      "0: 384x640 9 cars, 3 motorcycles, 1 truck, 77.7ms\n",
      "Speed: 2.7ms preprocess, 77.7ms inference, 1.1ms postprocess per image at shape (1, 3, 384, 640)\n"
     ]
    },
    {
     "name": "stderr",
     "output_type": "stream",
     "text": [
      "Processing Frames:  80%|████████  | 376/468 [00:45<00:17,  5.15it/s]"
     ]
    },
    {
     "name": "stdout",
     "output_type": "stream",
     "text": [
      "\n",
      "0: 384x640 9 cars, 3 motorcycles, 192.7ms\n",
      "Speed: 16.5ms preprocess, 192.7ms inference, 1.5ms postprocess per image at shape (1, 3, 384, 640)\n"
     ]
    },
    {
     "name": "stderr",
     "output_type": "stream",
     "text": [
      "Processing Frames:  81%|████████  | 377/468 [00:45<00:20,  4.37it/s]"
     ]
    },
    {
     "name": "stdout",
     "output_type": "stream",
     "text": [
      "\n",
      "0: 384x640 9 cars, 3 motorcycles, 97.5ms\n",
      "Speed: 4.3ms preprocess, 97.5ms inference, 1.2ms postprocess per image at shape (1, 3, 384, 640)\n"
     ]
    },
    {
     "name": "stderr",
     "output_type": "stream",
     "text": [
      "Processing Frames:  81%|████████  | 378/468 [00:46<00:19,  4.67it/s]"
     ]
    },
    {
     "name": "stdout",
     "output_type": "stream",
     "text": [
      "\n",
      "0: 384x640 8 cars, 4 motorcycles, 82.9ms\n",
      "Speed: 4.4ms preprocess, 82.9ms inference, 1.3ms postprocess per image at shape (1, 3, 384, 640)\n"
     ]
    },
    {
     "name": "stderr",
     "output_type": "stream",
     "text": [
      "Processing Frames:  81%|████████  | 379/468 [00:46<00:18,  4.85it/s]"
     ]
    },
    {
     "name": "stdout",
     "output_type": "stream",
     "text": [
      "\n",
      "0: 384x640 8 cars, 4 motorcycles, 1 truck, 212.0ms\n",
      "Speed: 21.7ms preprocess, 212.0ms inference, 1.4ms postprocess per image at shape (1, 3, 384, 640)\n"
     ]
    },
    {
     "name": "stderr",
     "output_type": "stream",
     "text": [
      "Processing Frames:  81%|████████  | 380/468 [00:46<00:21,  4.07it/s]"
     ]
    },
    {
     "name": "stdout",
     "output_type": "stream",
     "text": [
      "\n",
      "0: 384x640 8 cars, 4 motorcycles, 1 truck, 115.4ms\n",
      "Speed: 3.4ms preprocess, 115.4ms inference, 1.1ms postprocess per image at shape (1, 3, 384, 640)\n"
     ]
    },
    {
     "name": "stderr",
     "output_type": "stream",
     "text": [
      "Processing Frames:  81%|████████▏ | 381/468 [00:46<00:20,  4.29it/s]"
     ]
    },
    {
     "name": "stdout",
     "output_type": "stream",
     "text": [
      "\n",
      "0: 384x640 8 cars, 4 motorcycles, 1 truck, 110.7ms\n",
      "Speed: 7.4ms preprocess, 110.7ms inference, 1.7ms postprocess per image at shape (1, 3, 384, 640)\n"
     ]
    },
    {
     "name": "stderr",
     "output_type": "stream",
     "text": [
      "Processing Frames:  82%|████████▏ | 382/468 [00:47<00:19,  4.36it/s]"
     ]
    },
    {
     "name": "stdout",
     "output_type": "stream",
     "text": [
      "\n",
      "0: 384x640 8 cars, 4 motorcycles, 1 truck, 146.1ms\n",
      "Speed: 25.9ms preprocess, 146.1ms inference, 2.4ms postprocess per image at shape (1, 3, 384, 640)\n"
     ]
    },
    {
     "name": "stderr",
     "output_type": "stream",
     "text": [
      "Processing Frames:  82%|████████▏ | 383/468 [00:47<00:20,  4.21it/s]"
     ]
    },
    {
     "name": "stdout",
     "output_type": "stream",
     "text": [
      "\n",
      "0: 384x640 8 cars, 4 motorcycles, 1 truck, 123.5ms\n",
      "Speed: 5.2ms preprocess, 123.5ms inference, 2.0ms postprocess per image at shape (1, 3, 384, 640)\n"
     ]
    },
    {
     "name": "stderr",
     "output_type": "stream",
     "text": [
      "Processing Frames:  82%|████████▏ | 384/468 [00:47<00:18,  4.44it/s]"
     ]
    },
    {
     "name": "stdout",
     "output_type": "stream",
     "text": [
      "\n",
      "0: 384x640 8 cars, 4 motorcycles, 1 truck, 91.6ms\n",
      "Speed: 4.6ms preprocess, 91.6ms inference, 1.3ms postprocess per image at shape (1, 3, 384, 640)\n"
     ]
    },
    {
     "name": "stderr",
     "output_type": "stream",
     "text": [
      "Processing Frames:  82%|████████▏ | 385/468 [00:47<00:17,  4.70it/s]"
     ]
    },
    {
     "name": "stdout",
     "output_type": "stream",
     "text": [
      "\n",
      "0: 384x640 8 cars, 4 motorcycles, 1 truck, 65.2ms\n",
      "Speed: 2.1ms preprocess, 65.2ms inference, 2.8ms postprocess per image at shape (1, 3, 384, 640)\n"
     ]
    },
    {
     "name": "stderr",
     "output_type": "stream",
     "text": [
      "Processing Frames:  82%|████████▏ | 386/468 [00:47<00:15,  5.23it/s]"
     ]
    },
    {
     "name": "stdout",
     "output_type": "stream",
     "text": [
      "\n",
      "0: 384x640 8 cars, 4 motorcycles, 1 truck, 144.4ms\n",
      "Speed: 21.1ms preprocess, 144.4ms inference, 1.5ms postprocess per image at shape (1, 3, 384, 640)\n"
     ]
    },
    {
     "name": "stderr",
     "output_type": "stream",
     "text": [
      "Processing Frames:  83%|████████▎ | 387/468 [00:48<00:16,  4.79it/s]"
     ]
    },
    {
     "name": "stdout",
     "output_type": "stream",
     "text": [
      "\n",
      "0: 384x640 7 cars, 4 motorcycles, 1 truck, 235.4ms\n",
      "Speed: 10.1ms preprocess, 235.4ms inference, 1.9ms postprocess per image at shape (1, 3, 384, 640)\n"
     ]
    },
    {
     "name": "stderr",
     "output_type": "stream",
     "text": [
      "Processing Frames:  83%|████████▎ | 388/468 [00:48<00:19,  4.10it/s]"
     ]
    },
    {
     "name": "stdout",
     "output_type": "stream",
     "text": [
      "\n",
      "0: 384x640 6 cars, 4 motorcycles, 1 truck, 68.7ms\n",
      "Speed: 5.7ms preprocess, 68.7ms inference, 1.3ms postprocess per image at shape (1, 3, 384, 640)\n"
     ]
    },
    {
     "name": "stderr",
     "output_type": "stream",
     "text": [
      "Processing Frames:  83%|████████▎ | 389/468 [00:48<00:17,  4.55it/s]"
     ]
    },
    {
     "name": "stdout",
     "output_type": "stream",
     "text": [
      "\n",
      "0: 384x640 6 cars, 4 motorcycles, 1 truck, 94.7ms\n",
      "Speed: 5.5ms preprocess, 94.7ms inference, 1.4ms postprocess per image at shape (1, 3, 384, 640)\n"
     ]
    },
    {
     "name": "stderr",
     "output_type": "stream",
     "text": [
      "Processing Frames:  83%|████████▎ | 390/468 [00:48<00:16,  4.76it/s]"
     ]
    },
    {
     "name": "stdout",
     "output_type": "stream",
     "text": [
      "\n",
      "0: 384x640 7 cars, 4 motorcycles, 1 truck, 104.2ms\n",
      "Speed: 2.4ms preprocess, 104.2ms inference, 1.2ms postprocess per image at shape (1, 3, 384, 640)\n"
     ]
    },
    {
     "name": "stderr",
     "output_type": "stream",
     "text": [
      "Processing Frames:  84%|████████▎ | 391/468 [00:48<00:15,  4.90it/s]"
     ]
    },
    {
     "name": "stdout",
     "output_type": "stream",
     "text": [
      "\n",
      "0: 384x640 8 cars, 4 motorcycles, 1 truck, 98.7ms\n",
      "Speed: 2.3ms preprocess, 98.7ms inference, 0.8ms postprocess per image at shape (1, 3, 384, 640)\n"
     ]
    },
    {
     "name": "stderr",
     "output_type": "stream",
     "text": [
      "Processing Frames:  84%|████████▍ | 392/468 [00:49<00:15,  5.05it/s]"
     ]
    },
    {
     "name": "stdout",
     "output_type": "stream",
     "text": [
      "\n",
      "0: 384x640 7 cars, 7 motorcycles, 122.0ms\n",
      "Speed: 3.6ms preprocess, 122.0ms inference, 1.5ms postprocess per image at shape (1, 3, 384, 640)\n"
     ]
    },
    {
     "name": "stderr",
     "output_type": "stream",
     "text": [
      "Processing Frames:  84%|████████▍ | 393/468 [00:49<00:15,  4.93it/s]"
     ]
    },
    {
     "name": "stdout",
     "output_type": "stream",
     "text": [
      "\n",
      "0: 384x640 6 cars, 6 motorcycles, 61.4ms\n",
      "Speed: 6.9ms preprocess, 61.4ms inference, 3.2ms postprocess per image at shape (1, 3, 384, 640)\n"
     ]
    },
    {
     "name": "stderr",
     "output_type": "stream",
     "text": [
      "Processing Frames:  84%|████████▍ | 394/468 [00:49<00:14,  5.28it/s]"
     ]
    },
    {
     "name": "stdout",
     "output_type": "stream",
     "text": [
      "\n",
      "0: 384x640 5 cars, 7 motorcycles, 94.2ms\n",
      "Speed: 7.0ms preprocess, 94.2ms inference, 2.2ms postprocess per image at shape (1, 3, 384, 640)\n"
     ]
    },
    {
     "name": "stderr",
     "output_type": "stream",
     "text": [
      "Processing Frames:  84%|████████▍ | 395/468 [00:49<00:13,  5.27it/s]"
     ]
    },
    {
     "name": "stdout",
     "output_type": "stream",
     "text": [
      "\n",
      "0: 384x640 5 cars, 7 motorcycles, 116.3ms\n",
      "Speed: 2.6ms preprocess, 116.3ms inference, 1.9ms postprocess per image at shape (1, 3, 384, 640)\n"
     ]
    },
    {
     "name": "stderr",
     "output_type": "stream",
     "text": [
      "Processing Frames:  85%|████████▍ | 396/468 [00:49<00:13,  5.24it/s]"
     ]
    },
    {
     "name": "stdout",
     "output_type": "stream",
     "text": [
      "\n",
      "0: 384x640 6 cars, 6 motorcycles, 183.3ms\n",
      "Speed: 3.4ms preprocess, 183.3ms inference, 8.1ms postprocess per image at shape (1, 3, 384, 640)\n"
     ]
    },
    {
     "name": "stderr",
     "output_type": "stream",
     "text": [
      "Processing Frames:  85%|████████▍ | 397/468 [00:50<00:15,  4.47it/s]"
     ]
    },
    {
     "name": "stdout",
     "output_type": "stream",
     "text": [
      "\n",
      "0: 384x640 6 cars, 6 motorcycles, 115.2ms\n",
      "Speed: 14.2ms preprocess, 115.2ms inference, 1.4ms postprocess per image at shape (1, 3, 384, 640)\n"
     ]
    },
    {
     "name": "stderr",
     "output_type": "stream",
     "text": [
      "Processing Frames:  85%|████████▌ | 398/468 [00:50<00:15,  4.52it/s]"
     ]
    },
    {
     "name": "stdout",
     "output_type": "stream",
     "text": [
      "\n",
      "0: 384x640 7 cars, 5 motorcycles, 84.8ms\n",
      "Speed: 2.5ms preprocess, 84.8ms inference, 1.3ms postprocess per image at shape (1, 3, 384, 640)\n"
     ]
    },
    {
     "name": "stderr",
     "output_type": "stream",
     "text": [
      "Processing Frames:  85%|████████▌ | 399/468 [00:50<00:14,  4.72it/s]"
     ]
    },
    {
     "name": "stdout",
     "output_type": "stream",
     "text": [
      "\n",
      "0: 384x640 7 cars, 5 motorcycles, 86.2ms\n",
      "Speed: 5.1ms preprocess, 86.2ms inference, 1.1ms postprocess per image at shape (1, 3, 384, 640)\n"
     ]
    },
    {
     "name": "stderr",
     "output_type": "stream",
     "text": [
      "Processing Frames:  85%|████████▌ | 400/468 [00:50<00:13,  4.99it/s]"
     ]
    },
    {
     "name": "stdout",
     "output_type": "stream",
     "text": [
      "\n",
      "0: 384x640 7 cars, 5 motorcycles, 211.7ms\n",
      "Speed: 7.6ms preprocess, 211.7ms inference, 1.5ms postprocess per image at shape (1, 3, 384, 640)\n"
     ]
    },
    {
     "name": "stderr",
     "output_type": "stream",
     "text": [
      "Processing Frames:  86%|████████▌ | 401/468 [00:51<00:15,  4.27it/s]"
     ]
    },
    {
     "name": "stdout",
     "output_type": "stream",
     "text": [
      "\n",
      "0: 384x640 7 cars, 5 motorcycles, 169.7ms\n",
      "Speed: 10.2ms preprocess, 169.7ms inference, 5.0ms postprocess per image at shape (1, 3, 384, 640)\n"
     ]
    },
    {
     "name": "stderr",
     "output_type": "stream",
     "text": [
      "Processing Frames:  86%|████████▌ | 402/468 [00:51<00:15,  4.14it/s]"
     ]
    },
    {
     "name": "stdout",
     "output_type": "stream",
     "text": [
      "\n",
      "0: 384x640 7 cars, 4 motorcycles, 1 truck, 124.1ms\n",
      "Speed: 3.0ms preprocess, 124.1ms inference, 1.0ms postprocess per image at shape (1, 3, 384, 640)\n"
     ]
    },
    {
     "name": "stderr",
     "output_type": "stream",
     "text": [
      "Processing Frames:  86%|████████▌ | 403/468 [00:51<00:15,  4.21it/s]"
     ]
    },
    {
     "name": "stdout",
     "output_type": "stream",
     "text": [
      "\n",
      "0: 384x640 7 cars, 4 motorcycles, 1 truck, 106.3ms\n",
      "Speed: 5.3ms preprocess, 106.3ms inference, 2.0ms postprocess per image at shape (1, 3, 384, 640)\n"
     ]
    },
    {
     "name": "stderr",
     "output_type": "stream",
     "text": [
      "Processing Frames:  86%|████████▋ | 404/468 [00:51<00:14,  4.42it/s]"
     ]
    },
    {
     "name": "stdout",
     "output_type": "stream",
     "text": [
      "\n",
      "0: 384x640 7 cars, 4 motorcycles, 1 truck, 121.8ms\n",
      "Speed: 3.4ms preprocess, 121.8ms inference, 1.3ms postprocess per image at shape (1, 3, 384, 640)\n"
     ]
    },
    {
     "name": "stderr",
     "output_type": "stream",
     "text": [
      "Processing Frames:  87%|████████▋ | 405/468 [00:51<00:13,  4.54it/s]"
     ]
    },
    {
     "name": "stdout",
     "output_type": "stream",
     "text": [
      "\n",
      "0: 384x640 7 cars, 4 motorcycles, 1 truck, 84.4ms\n",
      "Speed: 2.5ms preprocess, 84.4ms inference, 1.2ms postprocess per image at shape (1, 3, 384, 640)\n"
     ]
    },
    {
     "name": "stderr",
     "output_type": "stream",
     "text": [
      "Processing Frames:  87%|████████▋ | 406/468 [00:52<00:12,  4.94it/s]"
     ]
    },
    {
     "name": "stdout",
     "output_type": "stream",
     "text": [
      "\n",
      "0: 384x640 7 cars, 3 motorcycles, 1 truck, 72.3ms\n",
      "Speed: 5.8ms preprocess, 72.3ms inference, 1.1ms postprocess per image at shape (1, 3, 384, 640)\n"
     ]
    },
    {
     "name": "stderr",
     "output_type": "stream",
     "text": [
      "Processing Frames:  87%|████████▋ | 407/468 [00:52<00:11,  5.36it/s]"
     ]
    },
    {
     "name": "stdout",
     "output_type": "stream",
     "text": [
      "\n",
      "0: 384x640 6 cars, 3 motorcycles, 1 truck, 155.3ms\n",
      "Speed: 23.2ms preprocess, 155.3ms inference, 0.7ms postprocess per image at shape (1, 3, 384, 640)\n"
     ]
    },
    {
     "name": "stderr",
     "output_type": "stream",
     "text": [
      "Processing Frames:  87%|████████▋ | 408/468 [00:52<00:12,  4.96it/s]"
     ]
    },
    {
     "name": "stdout",
     "output_type": "stream",
     "text": [
      "\n",
      "0: 384x640 6 cars, 4 motorcycles, 1 truck, 87.9ms\n",
      "Speed: 5.5ms preprocess, 87.9ms inference, 1.4ms postprocess per image at shape (1, 3, 384, 640)\n"
     ]
    },
    {
     "name": "stderr",
     "output_type": "stream",
     "text": [
      "Processing Frames:  87%|████████▋ | 409/468 [00:52<00:11,  5.14it/s]"
     ]
    },
    {
     "name": "stdout",
     "output_type": "stream",
     "text": [
      "\n",
      "0: 384x640 6 cars, 4 motorcycles, 1 truck, 92.1ms\n",
      "Speed: 18.9ms preprocess, 92.1ms inference, 1.2ms postprocess per image at shape (1, 3, 384, 640)\n"
     ]
    },
    {
     "name": "stderr",
     "output_type": "stream",
     "text": [
      "Processing Frames:  88%|████████▊ | 410/468 [00:52<00:11,  5.15it/s]"
     ]
    },
    {
     "name": "stdout",
     "output_type": "stream",
     "text": [
      "\n",
      "0: 384x640 6 cars, 4 motorcycles, 1 truck, 151.8ms\n",
      "Speed: 5.3ms preprocess, 151.8ms inference, 1.8ms postprocess per image at shape (1, 3, 384, 640)\n"
     ]
    },
    {
     "name": "stderr",
     "output_type": "stream",
     "text": [
      "Processing Frames:  88%|████████▊ | 411/468 [00:53<00:12,  4.70it/s]"
     ]
    },
    {
     "name": "stdout",
     "output_type": "stream",
     "text": [
      "\n",
      "0: 384x640 6 cars, 4 motorcycles, 1 truck, 117.9ms\n",
      "Speed: 5.6ms preprocess, 117.9ms inference, 1.4ms postprocess per image at shape (1, 3, 384, 640)\n"
     ]
    },
    {
     "name": "stderr",
     "output_type": "stream",
     "text": [
      "Processing Frames:  88%|████████▊ | 412/468 [00:53<00:11,  4.79it/s]"
     ]
    },
    {
     "name": "stdout",
     "output_type": "stream",
     "text": [
      "\n",
      "0: 384x640 7 cars, 3 motorcycles, 1 truck, 88.3ms\n",
      "Speed: 2.3ms preprocess, 88.3ms inference, 2.0ms postprocess per image at shape (1, 3, 384, 640)\n"
     ]
    },
    {
     "name": "stderr",
     "output_type": "stream",
     "text": [
      "Processing Frames:  88%|████████▊ | 413/468 [00:53<00:10,  5.15it/s]"
     ]
    },
    {
     "name": "stdout",
     "output_type": "stream",
     "text": [
      "\n",
      "0: 384x640 7 cars, 2 motorcycles, 1 truck, 112.6ms\n",
      "Speed: 4.3ms preprocess, 112.6ms inference, 1.3ms postprocess per image at shape (1, 3, 384, 640)\n"
     ]
    },
    {
     "name": "stderr",
     "output_type": "stream",
     "text": [
      "Processing Frames:  88%|████████▊ | 414/468 [00:53<00:10,  5.07it/s]"
     ]
    },
    {
     "name": "stdout",
     "output_type": "stream",
     "text": [
      "\n",
      "0: 384x640 6 cars, 1 motorcycle, 1 truck, 123.2ms\n",
      "Speed: 9.9ms preprocess, 123.2ms inference, 2.1ms postprocess per image at shape (1, 3, 384, 640)\n"
     ]
    },
    {
     "name": "stderr",
     "output_type": "stream",
     "text": [
      "Processing Frames:  89%|████████▊ | 415/468 [00:53<00:10,  4.90it/s]"
     ]
    },
    {
     "name": "stdout",
     "output_type": "stream",
     "text": [
      "\n",
      "0: 384x640 6 cars, 1 motorcycle, 1 truck, 118.5ms\n",
      "Speed: 10.5ms preprocess, 118.5ms inference, 1.4ms postprocess per image at shape (1, 3, 384, 640)\n"
     ]
    },
    {
     "name": "stderr",
     "output_type": "stream",
     "text": [
      "Processing Frames:  89%|████████▉ | 416/468 [00:54<00:10,  4.74it/s]"
     ]
    },
    {
     "name": "stdout",
     "output_type": "stream",
     "text": [
      "\n",
      "0: 384x640 6 cars, 2 motorcycles, 1 truck, 105.4ms\n",
      "Speed: 16.8ms preprocess, 105.4ms inference, 0.9ms postprocess per image at shape (1, 3, 384, 640)\n"
     ]
    },
    {
     "name": "stderr",
     "output_type": "stream",
     "text": [
      "Processing Frames:  89%|████████▉ | 417/468 [00:54<00:10,  4.82it/s]"
     ]
    },
    {
     "name": "stdout",
     "output_type": "stream",
     "text": [
      "\n",
      "0: 384x640 6 cars, 2 motorcycles, 66.7ms\n",
      "Speed: 4.1ms preprocess, 66.7ms inference, 2.7ms postprocess per image at shape (1, 3, 384, 640)\n"
     ]
    },
    {
     "name": "stderr",
     "output_type": "stream",
     "text": [
      "Processing Frames:  89%|████████▉ | 418/468 [00:54<00:09,  5.23it/s]"
     ]
    },
    {
     "name": "stdout",
     "output_type": "stream",
     "text": [
      "\n",
      "0: 384x640 6 cars, 2 motorcycles, 106.0ms\n",
      "Speed: 2.3ms preprocess, 106.0ms inference, 0.9ms postprocess per image at shape (1, 3, 384, 640)\n"
     ]
    },
    {
     "name": "stderr",
     "output_type": "stream",
     "text": [
      "Processing Frames:  90%|████████▉ | 419/468 [00:54<00:09,  5.30it/s]"
     ]
    },
    {
     "name": "stdout",
     "output_type": "stream",
     "text": [
      "\n",
      "0: 384x640 6 cars, 3 motorcycles, 102.9ms\n",
      "Speed: 13.3ms preprocess, 102.9ms inference, 1.3ms postprocess per image at shape (1, 3, 384, 640)\n"
     ]
    },
    {
     "name": "stderr",
     "output_type": "stream",
     "text": [
      "Processing Frames:  90%|████████▉ | 420/468 [00:54<00:09,  5.14it/s]"
     ]
    },
    {
     "name": "stdout",
     "output_type": "stream",
     "text": [
      "\n",
      "0: 384x640 6 cars, 3 motorcycles, 110.2ms\n",
      "Speed: 7.3ms preprocess, 110.2ms inference, 1.4ms postprocess per image at shape (1, 3, 384, 640)\n"
     ]
    },
    {
     "name": "stderr",
     "output_type": "stream",
     "text": [
      "Processing Frames:  90%|████████▉ | 421/468 [00:55<00:09,  4.99it/s]"
     ]
    },
    {
     "name": "stdout",
     "output_type": "stream",
     "text": [
      "\n",
      "0: 384x640 6 cars, 3 motorcycles, 131.6ms\n",
      "Speed: 2.9ms preprocess, 131.6ms inference, 7.6ms postprocess per image at shape (1, 3, 384, 640)\n"
     ]
    },
    {
     "name": "stderr",
     "output_type": "stream",
     "text": [
      "Processing Frames:  90%|█████████ | 422/468 [00:55<00:09,  4.71it/s]"
     ]
    },
    {
     "name": "stdout",
     "output_type": "stream",
     "text": [
      "\n",
      "0: 384x640 6 cars, 3 motorcycles, 161.2ms\n",
      "Speed: 22.0ms preprocess, 161.2ms inference, 1.7ms postprocess per image at shape (1, 3, 384, 640)\n"
     ]
    },
    {
     "name": "stderr",
     "output_type": "stream",
     "text": [
      "Processing Frames:  90%|█████████ | 423/468 [00:55<00:10,  4.30it/s]"
     ]
    },
    {
     "name": "stdout",
     "output_type": "stream",
     "text": [
      "\n",
      "0: 384x640 6 cars, 5 motorcycles, 97.2ms\n",
      "Speed: 3.9ms preprocess, 97.2ms inference, 1.3ms postprocess per image at shape (1, 3, 384, 640)\n"
     ]
    },
    {
     "name": "stderr",
     "output_type": "stream",
     "text": [
      "Processing Frames:  91%|█████████ | 424/468 [00:55<00:09,  4.59it/s]"
     ]
    },
    {
     "name": "stdout",
     "output_type": "stream",
     "text": [
      "\n",
      "0: 384x640 5 cars, 5 motorcycles, 92.3ms\n",
      "Speed: 3.4ms preprocess, 92.3ms inference, 1.2ms postprocess per image at shape (1, 3, 384, 640)\n"
     ]
    },
    {
     "name": "stderr",
     "output_type": "stream",
     "text": [
      "Processing Frames:  91%|█████████ | 425/468 [00:55<00:08,  4.78it/s]"
     ]
    },
    {
     "name": "stdout",
     "output_type": "stream",
     "text": [
      "\n",
      "0: 384x640 5 cars, 5 motorcycles, 85.5ms\n",
      "Speed: 3.7ms preprocess, 85.5ms inference, 4.8ms postprocess per image at shape (1, 3, 384, 640)\n"
     ]
    },
    {
     "name": "stderr",
     "output_type": "stream",
     "text": [
      "Processing Frames:  91%|█████████ | 426/468 [00:56<00:08,  5.07it/s]"
     ]
    },
    {
     "name": "stdout",
     "output_type": "stream",
     "text": [
      "\n",
      "0: 384x640 5 cars, 5 motorcycles, 122.0ms\n",
      "Speed: 3.9ms preprocess, 122.0ms inference, 1.5ms postprocess per image at shape (1, 3, 384, 640)\n"
     ]
    },
    {
     "name": "stderr",
     "output_type": "stream",
     "text": [
      "Processing Frames:  91%|█████████ | 427/468 [00:56<00:08,  5.02it/s]"
     ]
    },
    {
     "name": "stdout",
     "output_type": "stream",
     "text": [
      "\n",
      "0: 384x640 6 cars, 3 motorcycles, 122.1ms\n",
      "Speed: 4.5ms preprocess, 122.1ms inference, 1.3ms postprocess per image at shape (1, 3, 384, 640)\n"
     ]
    },
    {
     "name": "stderr",
     "output_type": "stream",
     "text": [
      "Processing Frames:  91%|█████████▏| 428/468 [00:56<00:08,  4.88it/s]"
     ]
    },
    {
     "name": "stdout",
     "output_type": "stream",
     "text": [
      "\n",
      "0: 384x640 6 cars, 3 motorcycles, 98.7ms\n",
      "Speed: 2.7ms preprocess, 98.7ms inference, 2.7ms postprocess per image at shape (1, 3, 384, 640)\n"
     ]
    },
    {
     "name": "stderr",
     "output_type": "stream",
     "text": [
      "Processing Frames:  92%|█████████▏| 429/468 [00:56<00:07,  5.03it/s]"
     ]
    },
    {
     "name": "stdout",
     "output_type": "stream",
     "text": [
      "\n",
      "0: 384x640 6 cars, 3 motorcycles, 99.2ms\n",
      "Speed: 2.8ms preprocess, 99.2ms inference, 1.1ms postprocess per image at shape (1, 3, 384, 640)\n"
     ]
    },
    {
     "name": "stderr",
     "output_type": "stream",
     "text": [
      "Processing Frames:  92%|█████████▏| 430/468 [00:56<00:07,  5.10it/s]"
     ]
    },
    {
     "name": "stdout",
     "output_type": "stream",
     "text": [
      "\n",
      "0: 384x640 6 cars, 3 motorcycles, 157.2ms\n",
      "Speed: 21.1ms preprocess, 157.2ms inference, 1.7ms postprocess per image at shape (1, 3, 384, 640)\n"
     ]
    },
    {
     "name": "stderr",
     "output_type": "stream",
     "text": [
      "Processing Frames:  92%|█████████▏| 431/468 [00:57<00:07,  4.73it/s]"
     ]
    },
    {
     "name": "stdout",
     "output_type": "stream",
     "text": [
      "\n",
      "0: 384x640 6 cars, 3 motorcycles, 73.8ms\n",
      "Speed: 2.7ms preprocess, 73.8ms inference, 4.3ms postprocess per image at shape (1, 3, 384, 640)\n"
     ]
    },
    {
     "name": "stderr",
     "output_type": "stream",
     "text": [
      "Processing Frames:  92%|█████████▏| 432/468 [00:57<00:07,  5.10it/s]"
     ]
    },
    {
     "name": "stdout",
     "output_type": "stream",
     "text": [
      "\n",
      "0: 384x640 6 cars, 3 motorcycles, 103.9ms\n",
      "Speed: 4.2ms preprocess, 103.9ms inference, 1.2ms postprocess per image at shape (1, 3, 384, 640)\n"
     ]
    },
    {
     "name": "stderr",
     "output_type": "stream",
     "text": [
      "Processing Frames:  93%|█████████▎| 433/468 [00:57<00:06,  5.11it/s]"
     ]
    },
    {
     "name": "stdout",
     "output_type": "stream",
     "text": [
      "\n",
      "0: 384x640 5 cars, 2 motorcycles, 2 trucks, 93.7ms\n",
      "Speed: 2.2ms preprocess, 93.7ms inference, 1.4ms postprocess per image at shape (1, 3, 384, 640)\n"
     ]
    },
    {
     "name": "stderr",
     "output_type": "stream",
     "text": [
      "Processing Frames:  93%|█████████▎| 434/468 [00:57<00:06,  5.14it/s]"
     ]
    },
    {
     "name": "stdout",
     "output_type": "stream",
     "text": [
      "\n",
      "0: 384x640 5 cars, 2 motorcycles, 2 trucks, 136.9ms\n",
      "Speed: 5.4ms preprocess, 136.9ms inference, 1.5ms postprocess per image at shape (1, 3, 384, 640)\n"
     ]
    },
    {
     "name": "stderr",
     "output_type": "stream",
     "text": [
      "Processing Frames:  93%|█████████▎| 435/468 [00:57<00:06,  4.89it/s]"
     ]
    },
    {
     "name": "stdout",
     "output_type": "stream",
     "text": [
      "\n",
      "0: 384x640 6 cars, 2 motorcycles, 1 truck, 103.8ms\n",
      "Speed: 10.4ms preprocess, 103.8ms inference, 1.1ms postprocess per image at shape (1, 3, 384, 640)\n"
     ]
    },
    {
     "name": "stderr",
     "output_type": "stream",
     "text": [
      "Processing Frames:  93%|█████████▎| 436/468 [00:58<00:06,  4.98it/s]"
     ]
    },
    {
     "name": "stdout",
     "output_type": "stream",
     "text": [
      "\n",
      "0: 384x640 6 cars, 1 motorcycle, 1 truck, 65.1ms\n",
      "Speed: 3.4ms preprocess, 65.1ms inference, 1.1ms postprocess per image at shape (1, 3, 384, 640)\n"
     ]
    },
    {
     "name": "stderr",
     "output_type": "stream",
     "text": [
      "Processing Frames:  93%|█████████▎| 437/468 [00:58<00:05,  5.59it/s]"
     ]
    },
    {
     "name": "stdout",
     "output_type": "stream",
     "text": [
      "\n",
      "0: 384x640 6 cars, 1 motorcycle, 1 truck, 62.5ms\n",
      "Speed: 4.3ms preprocess, 62.5ms inference, 1.1ms postprocess per image at shape (1, 3, 384, 640)\n"
     ]
    },
    {
     "name": "stderr",
     "output_type": "stream",
     "text": [
      "Processing Frames:  94%|█████████▎| 438/468 [00:58<00:05,  5.85it/s]"
     ]
    },
    {
     "name": "stdout",
     "output_type": "stream",
     "text": [
      "\n",
      "0: 384x640 6 cars, 2 motorcycles, 1 truck, 180.0ms\n",
      "Speed: 12.4ms preprocess, 180.0ms inference, 1.6ms postprocess per image at shape (1, 3, 384, 640)\n"
     ]
    },
    {
     "name": "stderr",
     "output_type": "stream",
     "text": [
      "Processing Frames:  94%|█████████▍| 439/468 [00:58<00:05,  4.90it/s]"
     ]
    },
    {
     "name": "stdout",
     "output_type": "stream",
     "text": [
      "\n",
      "0: 384x640 5 cars, 2 motorcycles, 2 trucks, 129.9ms\n",
      "Speed: 3.8ms preprocess, 129.9ms inference, 1.6ms postprocess per image at shape (1, 3, 384, 640)\n"
     ]
    },
    {
     "name": "stderr",
     "output_type": "stream",
     "text": [
      "Processing Frames:  94%|█████████▍| 440/468 [00:58<00:05,  4.82it/s]"
     ]
    },
    {
     "name": "stdout",
     "output_type": "stream",
     "text": [
      "\n",
      "0: 384x640 6 cars, 2 motorcycles, 2 trucks, 110.3ms\n",
      "Speed: 4.2ms preprocess, 110.3ms inference, 2.2ms postprocess per image at shape (1, 3, 384, 640)\n"
     ]
    },
    {
     "name": "stderr",
     "output_type": "stream",
     "text": [
      "Processing Frames:  94%|█████████▍| 441/468 [00:59<00:05,  4.89it/s]"
     ]
    },
    {
     "name": "stdout",
     "output_type": "stream",
     "text": [
      "\n",
      "0: 384x640 6 cars, 1 motorcycle, 2 trucks, 80.5ms\n",
      "Speed: 2.5ms preprocess, 80.5ms inference, 1.3ms postprocess per image at shape (1, 3, 384, 640)\n"
     ]
    },
    {
     "name": "stderr",
     "output_type": "stream",
     "text": [
      "Processing Frames:  94%|█████████▍| 442/468 [00:59<00:04,  5.26it/s]"
     ]
    },
    {
     "name": "stdout",
     "output_type": "stream",
     "text": [
      "\n",
      "0: 384x640 6 cars, 2 motorcycles, 2 trucks, 93.9ms\n",
      "Speed: 5.9ms preprocess, 93.9ms inference, 1.5ms postprocess per image at shape (1, 3, 384, 640)\n"
     ]
    },
    {
     "name": "stderr",
     "output_type": "stream",
     "text": [
      "Processing Frames:  95%|█████████▍| 443/468 [00:59<00:04,  5.24it/s]"
     ]
    },
    {
     "name": "stdout",
     "output_type": "stream",
     "text": [
      "\n",
      "0: 384x640 6 cars, 2 motorcycles, 2 trucks, 118.4ms\n",
      "Speed: 17.7ms preprocess, 118.4ms inference, 0.9ms postprocess per image at shape (1, 3, 384, 640)\n"
     ]
    },
    {
     "name": "stderr",
     "output_type": "stream",
     "text": [
      "Processing Frames:  95%|█████████▍| 444/468 [00:59<00:04,  4.98it/s]"
     ]
    },
    {
     "name": "stdout",
     "output_type": "stream",
     "text": [
      "\n",
      "0: 384x640 5 cars, 3 motorcycles, 2 trucks, 80.3ms\n",
      "Speed: 2.6ms preprocess, 80.3ms inference, 1.2ms postprocess per image at shape (1, 3, 384, 640)\n"
     ]
    },
    {
     "name": "stderr",
     "output_type": "stream",
     "text": [
      "Processing Frames:  95%|█████████▌| 445/468 [00:59<00:04,  5.32it/s]"
     ]
    },
    {
     "name": "stdout",
     "output_type": "stream",
     "text": [
      "\n",
      "0: 384x640 5 cars, 3 motorcycles, 2 trucks, 89.7ms\n",
      "Speed: 5.3ms preprocess, 89.7ms inference, 1.7ms postprocess per image at shape (1, 3, 384, 640)\n"
     ]
    },
    {
     "name": "stderr",
     "output_type": "stream",
     "text": [
      "Processing Frames:  95%|█████████▌| 446/468 [01:00<00:04,  5.29it/s]"
     ]
    },
    {
     "name": "stdout",
     "output_type": "stream",
     "text": [
      "\n",
      "0: 384x640 7 cars, 2 motorcycles, 1 truck, 234.0ms\n",
      "Speed: 8.1ms preprocess, 234.0ms inference, 1.4ms postprocess per image at shape (1, 3, 384, 640)\n"
     ]
    },
    {
     "name": "stderr",
     "output_type": "stream",
     "text": [
      "Processing Frames:  96%|█████████▌| 447/468 [01:00<00:04,  4.31it/s]"
     ]
    },
    {
     "name": "stdout",
     "output_type": "stream",
     "text": [
      "\n",
      "0: 384x640 6 cars, 2 motorcycles, 1 truck, 78.5ms\n",
      "Speed: 6.6ms preprocess, 78.5ms inference, 1.0ms postprocess per image at shape (1, 3, 384, 640)\n"
     ]
    },
    {
     "name": "stderr",
     "output_type": "stream",
     "text": [
      "Processing Frames:  96%|█████████▌| 448/468 [01:00<00:04,  4.83it/s]"
     ]
    },
    {
     "name": "stdout",
     "output_type": "stream",
     "text": [
      "\n",
      "0: 384x640 6 cars, 3 motorcycles, 1 truck, 85.2ms\n",
      "Speed: 3.5ms preprocess, 85.2ms inference, 1.1ms postprocess per image at shape (1, 3, 384, 640)\n"
     ]
    },
    {
     "name": "stderr",
     "output_type": "stream",
     "text": [
      "Processing Frames:  96%|█████████▌| 449/468 [01:00<00:03,  5.30it/s]"
     ]
    },
    {
     "name": "stdout",
     "output_type": "stream",
     "text": [
      "\n",
      "0: 384x640 6 cars, 3 motorcycles, 2 trucks, 100.7ms\n",
      "Speed: 19.9ms preprocess, 100.7ms inference, 1.1ms postprocess per image at shape (1, 3, 384, 640)\n"
     ]
    },
    {
     "name": "stderr",
     "output_type": "stream",
     "text": [
      "Processing Frames:  96%|█████████▌| 450/468 [01:00<00:03,  5.23it/s]"
     ]
    },
    {
     "name": "stdout",
     "output_type": "stream",
     "text": [
      "\n",
      "0: 384x640 6 cars, 3 motorcycles, 2 trucks, 114.8ms\n",
      "Speed: 6.3ms preprocess, 114.8ms inference, 0.9ms postprocess per image at shape (1, 3, 384, 640)\n"
     ]
    },
    {
     "name": "stderr",
     "output_type": "stream",
     "text": [
      "Processing Frames:  96%|█████████▋| 451/468 [01:01<00:03,  5.05it/s]"
     ]
    },
    {
     "name": "stdout",
     "output_type": "stream",
     "text": [
      "\n",
      "0: 384x640 6 cars, 4 motorcycles, 2 trucks, 149.4ms\n",
      "Speed: 6.3ms preprocess, 149.4ms inference, 1.7ms postprocess per image at shape (1, 3, 384, 640)\n"
     ]
    },
    {
     "name": "stderr",
     "output_type": "stream",
     "text": [
      "Processing Frames:  97%|█████████▋| 452/468 [01:01<00:03,  4.67it/s]"
     ]
    },
    {
     "name": "stdout",
     "output_type": "stream",
     "text": [
      "\n",
      "0: 384x640 5 cars, 5 motorcycles, 2 trucks, 91.2ms\n",
      "Speed: 3.9ms preprocess, 91.2ms inference, 1.1ms postprocess per image at shape (1, 3, 384, 640)\n"
     ]
    },
    {
     "name": "stderr",
     "output_type": "stream",
     "text": [
      "Processing Frames:  97%|█████████▋| 453/468 [01:01<00:03,  4.91it/s]"
     ]
    },
    {
     "name": "stdout",
     "output_type": "stream",
     "text": [
      "\n",
      "0: 384x640 6 cars, 4 motorcycles, 2 trucks, 80.9ms\n",
      "Speed: 2.4ms preprocess, 80.9ms inference, 1.4ms postprocess per image at shape (1, 3, 384, 640)\n"
     ]
    },
    {
     "name": "stderr",
     "output_type": "stream",
     "text": [
      "Processing Frames:  97%|█████████▋| 454/468 [01:01<00:02,  5.18it/s]"
     ]
    },
    {
     "name": "stdout",
     "output_type": "stream",
     "text": [
      "\n",
      "0: 384x640 6 cars, 4 motorcycles, 2 trucks, 209.2ms\n",
      "Speed: 19.9ms preprocess, 209.2ms inference, 1.0ms postprocess per image at shape (1, 3, 384, 640)\n"
     ]
    },
    {
     "name": "stderr",
     "output_type": "stream",
     "text": [
      "Processing Frames:  97%|█████████▋| 455/468 [01:01<00:02,  4.35it/s]"
     ]
    },
    {
     "name": "stdout",
     "output_type": "stream",
     "text": [
      "\n",
      "0: 384x640 6 cars, 4 motorcycles, 2 trucks, 113.5ms\n",
      "Speed: 2.3ms preprocess, 113.5ms inference, 1.2ms postprocess per image at shape (1, 3, 384, 640)\n"
     ]
    },
    {
     "name": "stderr",
     "output_type": "stream",
     "text": [
      "Processing Frames:  97%|█████████▋| 456/468 [01:02<00:02,  4.51it/s]"
     ]
    },
    {
     "name": "stdout",
     "output_type": "stream",
     "text": [
      "\n",
      "0: 384x640 6 cars, 4 motorcycles, 2 trucks, 90.6ms\n",
      "Speed: 2.4ms preprocess, 90.6ms inference, 1.3ms postprocess per image at shape (1, 3, 384, 640)\n"
     ]
    },
    {
     "name": "stderr",
     "output_type": "stream",
     "text": [
      "Processing Frames:  98%|█████████▊| 457/468 [01:02<00:02,  4.79it/s]"
     ]
    },
    {
     "name": "stdout",
     "output_type": "stream",
     "text": [
      "\n",
      "0: 384x640 6 cars, 3 motorcycles, 2 trucks, 101.5ms\n",
      "Speed: 2.9ms preprocess, 101.5ms inference, 1.4ms postprocess per image at shape (1, 3, 384, 640)\n"
     ]
    },
    {
     "name": "stderr",
     "output_type": "stream",
     "text": [
      "Processing Frames:  98%|█████████▊| 458/468 [01:02<00:02,  5.00it/s]"
     ]
    },
    {
     "name": "stdout",
     "output_type": "stream",
     "text": [
      "\n",
      "0: 384x640 5 cars, 3 motorcycles, 2 trucks, 113.9ms\n",
      "Speed: 4.0ms preprocess, 113.9ms inference, 1.5ms postprocess per image at shape (1, 3, 384, 640)\n"
     ]
    },
    {
     "name": "stderr",
     "output_type": "stream",
     "text": [
      "Processing Frames:  98%|█████████▊| 459/468 [01:02<00:01,  5.04it/s]"
     ]
    },
    {
     "name": "stdout",
     "output_type": "stream",
     "text": [
      "\n",
      "0: 384x640 4 cars, 2 motorcycles, 2 trucks, 96.9ms\n",
      "Speed: 14.6ms preprocess, 96.9ms inference, 1.1ms postprocess per image at shape (1, 3, 384, 640)\n"
     ]
    },
    {
     "name": "stderr",
     "output_type": "stream",
     "text": [
      "Processing Frames:  98%|█████████▊| 460/468 [01:02<00:01,  5.16it/s]"
     ]
    },
    {
     "name": "stdout",
     "output_type": "stream",
     "text": [
      "\n",
      "0: 384x640 4 cars, 2 motorcycles, 2 trucks, 90.3ms\n",
      "Speed: 2.6ms preprocess, 90.3ms inference, 1.2ms postprocess per image at shape (1, 3, 384, 640)\n"
     ]
    },
    {
     "name": "stderr",
     "output_type": "stream",
     "text": [
      "Processing Frames:  99%|█████████▊| 461/468 [01:03<00:01,  5.42it/s]"
     ]
    },
    {
     "name": "stdout",
     "output_type": "stream",
     "text": [
      "\n",
      "0: 384x640 5 cars, 3 motorcycles, 1 truck, 263.4ms\n",
      "Speed: 3.2ms preprocess, 263.4ms inference, 2.8ms postprocess per image at shape (1, 3, 384, 640)\n"
     ]
    },
    {
     "name": "stderr",
     "output_type": "stream",
     "text": [
      "Processing Frames:  99%|█████████▊| 462/468 [01:03<00:01,  4.24it/s]"
     ]
    },
    {
     "name": "stdout",
     "output_type": "stream",
     "text": [
      "\n",
      "0: 384x640 4 cars, 3 motorcycles, 2 trucks, 185.2ms\n",
      "Speed: 17.0ms preprocess, 185.2ms inference, 1.5ms postprocess per image at shape (1, 3, 384, 640)\n"
     ]
    },
    {
     "name": "stderr",
     "output_type": "stream",
     "text": [
      "Processing Frames:  99%|█████████▉| 463/468 [01:03<00:01,  4.02it/s]"
     ]
    },
    {
     "name": "stdout",
     "output_type": "stream",
     "text": [
      "\n",
      "0: 384x640 5 cars, 3 motorcycles, 1 truck, 103.2ms\n",
      "Speed: 4.4ms preprocess, 103.2ms inference, 1.0ms postprocess per image at shape (1, 3, 384, 640)\n"
     ]
    },
    {
     "name": "stderr",
     "output_type": "stream",
     "text": [
      "Processing Frames:  99%|█████████▉| 464/468 [01:03<00:00,  4.45it/s]"
     ]
    },
    {
     "name": "stdout",
     "output_type": "stream",
     "text": [
      "\n",
      "0: 384x640 5 cars, 2 motorcycles, 2 trucks, 181.5ms\n",
      "Speed: 8.9ms preprocess, 181.5ms inference, 1.6ms postprocess per image at shape (1, 3, 384, 640)\n"
     ]
    },
    {
     "name": "stderr",
     "output_type": "stream",
     "text": [
      "Processing Frames:  99%|█████████▉| 465/468 [01:04<00:00,  4.20it/s]"
     ]
    },
    {
     "name": "stdout",
     "output_type": "stream",
     "text": [
      "\n",
      "0: 384x640 4 cars, 3 motorcycles, 2 trucks, 105.9ms\n",
      "Speed: 3.7ms preprocess, 105.9ms inference, 1.4ms postprocess per image at shape (1, 3, 384, 640)\n"
     ]
    },
    {
     "name": "stderr",
     "output_type": "stream",
     "text": [
      "Processing Frames: 100%|█████████▉| 466/468 [01:04<00:00,  4.48it/s]"
     ]
    },
    {
     "name": "stdout",
     "output_type": "stream",
     "text": [
      "\n",
      "0: 384x640 5 cars, 3 motorcycles, 1 truck, 95.4ms\n",
      "Speed: 5.6ms preprocess, 95.4ms inference, 1.2ms postprocess per image at shape (1, 3, 384, 640)\n"
     ]
    },
    {
     "name": "stderr",
     "output_type": "stream",
     "text": [
      "Processing Frames: 100%|█████████▉| 467/468 [01:04<00:00,  4.49it/s]"
     ]
    },
    {
     "name": "stdout",
     "output_type": "stream",
     "text": [
      "\n",
      "0: 384x640 5 cars, 2 motorcycles, 1 truck, 227.9ms\n",
      "Speed: 24.8ms preprocess, 227.9ms inference, 1.3ms postprocess per image at shape (1, 3, 384, 640)\n"
     ]
    },
    {
     "name": "stderr",
     "output_type": "stream",
     "text": [
      "Processing Frames: 100%|██████████| 468/468 [01:04<00:00,  7.21it/s]\n",
      "/home/maazi/Desktop/Fyp/ProjectsTesting/Dashboard Testing/sort/myvenv/lib/python3.12/site-packages/gradio/components/video.py:340: UserWarning: Video does not have browser-compatible container or codec. Converting to mp4.\n",
      "  warnings.warn(\n"
     ]
    }
   ],
   "source": [
    "import cv2\n",
    "import numpy as np\n",
    "import os\n",
    "import pickle\n",
    "import gradio as gr\n",
    "import tempfile\n",
    "import json\n",
    "from ultralytics import YOLO\n",
    "from collections import defaultdict\n",
    "from tqdm import tqdm\n",
    "\n",
    "class TrafficViolationSystem:\n",
    "    def __init__(self, config):\n",
    "        self.config = config\n",
    "        self.histograms = self.load_histograms()\n",
    "        self.model = YOLO('yolov8n.pt')\n",
    "        self.violations = []\n",
    "        self.frame_buffer = []\n",
    "        self.tracking_summary = defaultdict(dict)\n",
    "        self.video_width = None\n",
    "        self.video_height = None\n",
    "\n",
    "    def load_histograms(self):\n",
    "        histograms = {}\n",
    "        for label, path in self.config['histogram_files'].items():\n",
    "            with open(path, 'rb') as f:\n",
    "                histograms[label] = pickle.load(f)\n",
    "        return histograms\n",
    "\n",
    "    def calculate_histogram(self, frame):\n",
    "        height, width = frame.shape[:2]\n",
    "        x_center, y_center, w, h = self.config['traffic_light_bbox']\n",
    "        x_min = int((x_center - w/2) * width)\n",
    "        x_max = int((x_center + w/2) * width)\n",
    "        y_min = int((y_center - h/2) * height)\n",
    "        y_max = int((y_center + h/2) * height)\n",
    "        \n",
    "        roi = frame[y_min:y_max, x_min:x_max]\n",
    "        hist = cv2.calcHist([roi], [0,1,2], None, [8,8,8], [0,256]*3)\n",
    "        return cv2.normalize(hist, hist).flatten()\n",
    "\n",
    "    def detect_traffic_light(self, frame):\n",
    "        frame_hist = self.calculate_histogram(frame)\n",
    "        best_match, best_score = None, -1\n",
    "        for label, hist in self.histograms.items():\n",
    "            score = cv2.compareHist(frame_hist, hist, cv2.HISTCMP_CORREL)\n",
    "            if score > best_score:\n",
    "                best_score, best_match = score, label\n",
    "        return best_match, best_score\n",
    "\n",
    "    def is_within_violation_zone(self, x, y):\n",
    "        x_center, y_center, w, h = self.config['violation_zone_bbox']\n",
    "        x_min = int((x_center - w/2) * self.video_width)\n",
    "        x_max = int((x_center + w/2) * self.video_width)\n",
    "        y_min = int((y_center - h/2) * self.video_height)\n",
    "        y_max = int((y_center + h/2) * self.video_height)\n",
    "        return x_min <= x <= x_max and y_min <= y <= y_max\n",
    "\n",
    "    def draw_arrow(self, frame, x1, y1, x2, y2):\n",
    "        center_x = (x1 + x2) // 2\n",
    "        top_y = y1 - 150\n",
    "        arrow_width = 50\n",
    "        arrow_height = 100\n",
    "        shaft_width = 20\n",
    "\n",
    "        arrow_tip = (center_x, y1)\n",
    "        left_corner = (center_x - arrow_width, top_y + arrow_height)\n",
    "        right_corner = (center_x + arrow_width, top_y + arrow_height)\n",
    "\n",
    "        shaft_top_left = (center_x - shaft_width, top_y)\n",
    "        shaft_top_right = (center_x + shaft_width, top_y)\n",
    "        shaft_bottom_left = (center_x - shaft_width, top_y + arrow_height)\n",
    "        shaft_bottom_right = (center_x + shaft_width, top_y + arrow_height)\n",
    "\n",
    "        arrow_head = np.array([arrow_tip, left_corner, right_corner], np.int32)\n",
    "        arrow_shaft = np.array([shaft_top_left, shaft_bottom_left, shaft_bottom_right, shaft_top_right], np.int32)\n",
    "\n",
    "        color = (0, 0, 255)\n",
    "        cv2.fillPoly(frame, [arrow_head], color)\n",
    "        cv2.fillPoly(frame, [arrow_shaft], color)\n",
    "\n",
    "    def process_video(self):\n",
    "        cap = cv2.VideoCapture(self.config['input_video'])\n",
    "        self.video_width = int(cap.get(cv2.CAP_PROP_FRAME_WIDTH))\n",
    "        self.video_height = int(cap.get(cv2.CAP_PROP_FRAME_HEIGHT))\n",
    "        fps = cap.get(cv2.CAP_PROP_FPS)\n",
    "        total_frames = int(cap.get(cv2.CAP_PROP_FRAME_COUNT))\n",
    "        \n",
    "        writer = cv2.VideoWriter(self.config['output_video'], \n",
    "                               cv2.VideoWriter_fourcc(*'mp4v'), \n",
    "                               fps, (self.video_width, self.video_height))\n",
    "        \n",
    "        red_active = False\n",
    "        for frame_num in tqdm(range(total_frames), desc=\"Processing Frames\"):\n",
    "            ret, frame = cap.read()\n",
    "            if not ret: break\n",
    "            \n",
    "            light_status, _ = self.detect_traffic_light(frame)\n",
    "            \n",
    "            if light_status == 'Red' and not red_active:\n",
    "                red_active = True\n",
    "                self.frame_buffer = []\n",
    "            elif light_status != 'Red' and red_active:\n",
    "                red_active = False\n",
    "                self.save_redlight_clip()\n",
    "                self.frame_buffer = []\n",
    "            \n",
    "            if red_active:\n",
    "                results = self.model.track(frame, persist=True, classes=[2,3,5,7])\n",
    "                boxes = results[0].boxes.xyxy.cpu().numpy()\n",
    "                track_ids = results[0].boxes.id.cpu().numpy() if results[0].boxes.id is not None else []\n",
    "\n",
    "                for box, track_id in zip(boxes, track_ids):\n",
    "                    x1, y1, x2, y2 = map(int, box[:4])\n",
    "                    cx, cy = (x1+x2)//2, (y1+y2)//2\n",
    "                    \n",
    "                    if self.is_within_violation_zone(cx, cy):\n",
    "                        if track_id not in self.tracking_summary:\n",
    "                            self.tracking_summary[track_id] = {\n",
    "                                'first_seen': frame_num,\n",
    "                                'last_seen': frame_num,\n",
    "                                'violation_frames': [],\n",
    "                                'plate_number': 'UNKNOWN',\n",
    "                                'bbox': (x1, y1, x2, y2)\n",
    "                            }\n",
    "                        else:\n",
    "                            self.tracking_summary[track_id]['bbox'] = (x1, y1, x2, y2)\n",
    "                        \n",
    "                        self.tracking_summary[track_id]['last_seen'] = frame_num\n",
    "                        self.tracking_summary[track_id]['violation_frames'].append(frame_num)\n",
    "                        self.draw_arrow(frame, x1, y1, x2, y2)\n",
    "                        cv2.rectangle(frame, (x1, y1), (x2, y2), (0,0,255), 2)\n",
    "                        cv2.putText(frame, f\"ID: {track_id}\", (x1, y1-10), \n",
    "                                  cv2.FONT_HERSHEY_SIMPLEX, 0.5, (0,0,255), 2)\n",
    "\n",
    "                self.frame_buffer.append(frame.copy())\n",
    "            \n",
    "            writer.write(frame)\n",
    "        \n",
    "        cap.release()\n",
    "        writer.release()\n",
    "        self.generate_output()\n",
    "\n",
    "    def save_redlight_clip(self):\n",
    "        if not self.frame_buffer:\n",
    "            return\n",
    "        \n",
    "        clip_path = os.path.join(\n",
    "            self.config['output_folder'],\n",
    "            f\"redlight_{len(self.violations)}.mp4\"\n",
    "        )\n",
    "        \n",
    "        h, w = self.frame_buffer[0].shape[:2]\n",
    "        writer = cv2.VideoWriter(clip_path, cv2.VideoWriter_fourcc(*'mp4v'), \n",
    "                               self.config['output_fps'], (w, h))\n",
    "        for f in self.frame_buffer:\n",
    "            writer.write(f)\n",
    "        writer.release()\n",
    "        self.violations.append(clip_path)\n",
    "\n",
    "    def generate_output(self):\n",
    "        output_data = {\n",
    "            'violations': []\n",
    "        }\n",
    "        \n",
    "        for track_id, data in self.tracking_summary.items():\n",
    "            output_data['violations'].append({\n",
    "                'track_id': int(track_id),\n",
    "                'first_seen': data['first_seen'],\n",
    "                'last_seen': data['last_seen'],\n",
    "                'duration': (data['last_seen'] - data['first_seen'])/self.config['output_fps']\n",
    "            })\n",
    "        \n",
    "        with open(self.config['json_output'], 'w') as f:\n",
    "            json.dump(output_data, f, indent=2)\n",
    "\n",
    "def create_gradio_interface():\n",
    "    def process_video_wrapper(video_file, red_hist, green_hist, orange_hist):\n",
    "        config = {\n",
    "                \"input_video\": video_file,\n",
    "                \"output_video\": \"output.mp4\",\n",
    "                \"output_folder\": \"violationClips\",\n",
    "                \"json_output\": \"violations.json\",\n",
    "                \"output_fps\": 25,\n",
    "                \"histogram_files\": {\n",
    "                    \"Green\": \"./Histogram_Data/averaged_hist_Green.pkl\",\n",
    "                    \"Red\": \"./Histogram_Data/averaged_hist_Red.pkl\",\n",
    "                    \"Orange\": \"./Histogram_Data/averaged_hist_Orange.pkl\",\n",
    "                    \"None\": \"./Histogram_Data/averaged_hist_None.pkl\"\n",
    "                },\n",
    "                \"traffic_light_bbox\": (0.485879, 0.577487, 0.016630, 0.051067),\n",
    "                \"violation_zone_bbox\": (0.901061, 0.730515, 0.197877, 0.199434)\n",
    "            }\n",
    "\n",
    "        # Initialize and process\n",
    "        system = TrafficViolationSystem(config)\n",
    "        system.process_video()\n",
    "\n",
    "        # Collect results\n",
    "        violation_clips = [f for f in os.listdir(\".\") if f.endswith(\".mp4\") and \"redlight\" in f]\n",
    "        violation_clips = [os.path.join(\".\", f) for f in violation_clips]\n",
    "\n",
    "        with open(config['json_output']) as f:\n",
    "            violation_data = json.load(f)\n",
    "\n",
    "        return violation_clips, config['output_video'], violation_data\n",
    "\n",
    "    with gr.Blocks(title=\"Traffic Violation Detection\", theme=gr.themes.Soft()) as demo:\n",
    "        gr.Markdown(\"# 🚥 Automatic Traffic Violation Detection System\")\n",
    "        \n",
    "        with gr.Row():\n",
    "            with gr.Column(scale=2):\n",
    "                video_input = gr.Video(label=\"Upload Traffic Video\", sources=[\"upload\"])\n",
    "                process_btn = gr.Button(\"Analyze Video\", variant=\"primary\")\n",
    "            \n",
    "            with gr.Column(scale=3):\n",
    "                with gr.Tabs():\n",
    "                    with gr.TabItem(\"Violation Clips\"):\n",
    "                        clip_gallery = gr.Gallery(label=\"Detected Violations\", columns=3)\n",
    "                    with gr.TabItem(\"Processed Video\"):\n",
    "                        output_video = gr.Video(label=\"Annotated Video\")\n",
    "                    with gr.TabItem(\"Violation Data\"):\n",
    "                        json_output = gr.JSON(label=\"Violation Details\")\n",
    "        \n",
    "        process_btn.click(\n",
    "            fn=process_video_wrapper,\n",
    "            inputs=video_input,\n",
    "            outputs=[clip_gallery, output_video, json_output]\n",
    "        )\n",
    "\n",
    "\n",
    "    return demo\n",
    "\n",
    "if __name__ == \"__main__\":\n",
    "    demo = create_gradio_interface()\n",
    "    demo.launch(\n",
    "        server_name=\"0.0.0.0\",\n",
    "        server_port=7861,\n",
    "        share=True\n",
    "    )"
   ]
  }
 ],
 "metadata": {
  "kernelspec": {
   "display_name": "myvenv",
   "language": "python",
   "name": "python3"
  },
  "language_info": {
   "codemirror_mode": {
    "name": "ipython",
    "version": 3
   },
   "file_extension": ".py",
   "mimetype": "text/x-python",
   "name": "python",
   "nbconvert_exporter": "python",
   "pygments_lexer": "ipython3",
   "version": "3.12.3"
  }
 },
 "nbformat": 4,
 "nbformat_minor": 2
}
